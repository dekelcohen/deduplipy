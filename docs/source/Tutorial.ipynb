{
 "cells": [
  {
   "cell_type": "markdown",
   "metadata": {},
   "source": [
    "# Tutorial"
   ]
  },
  {
   "cell_type": "markdown",
   "metadata": {},
   "source": [
    "## Simple deduplication"
   ]
  },
  {
   "cell_type": "code",
   "execution_count": 1,
   "metadata": {},
   "outputs": [],
   "source": [
    "import pandas as pd\n",
    "from deduplipy.datasets import load_data"
   ]
  },
  {
   "cell_type": "markdown",
   "metadata": {},
   "source": [
    "Load data"
   ]
  },
  {
   "cell_type": "code",
   "execution_count": 2,
   "metadata": {},
   "outputs": [],
   "source": [
    "df_train = load_data(kind='childcare', return_pairs=False)"
   ]
  },
  {
   "cell_type": "markdown",
   "metadata": {},
   "source": [
    "This dataset has two columns; `name` and `address`:"
   ]
  },
  {
   "cell_type": "code",
   "execution_count": 11,
   "metadata": {},
   "outputs": [
    {
     "data": {
      "text/html": [
       "<div>\n",
       "<style scoped>\n",
       "    .dataframe tbody tr th:only-of-type {\n",
       "        vertical-align: middle;\n",
       "    }\n",
       "\n",
       "    .dataframe tbody tr th {\n",
       "        vertical-align: top;\n",
       "    }\n",
       "\n",
       "    .dataframe thead th {\n",
       "        text-align: right;\n",
       "    }\n",
       "</style>\n",
       "<table border=\"1\" class=\"dataframe\">\n",
       "  <thead>\n",
       "    <tr style=\"text-align: right;\">\n",
       "      <th></th>\n",
       "      <th>name</th>\n",
       "      <th>address</th>\n",
       "      <th>row_number</th>\n",
       "    </tr>\n",
       "  </thead>\n",
       "  <tbody>\n",
       "    <tr>\n",
       "      <th>0</th>\n",
       "      <td>Chicago Commons Association St Catherine's - S...</td>\n",
       "      <td>27 Washington Oak Park IL 60302</td>\n",
       "      <td>0</td>\n",
       "    </tr>\n",
       "    <tr>\n",
       "      <th>1</th>\n",
       "      <td>Precious Little One's Learning Center Inc</td>\n",
       "      <td>221 E 51st St</td>\n",
       "      <td>1</td>\n",
       "    </tr>\n",
       "  </tbody>\n",
       "</table>\n",
       "</div>"
      ],
      "text/plain": [
       "                                                name  \\\n",
       "0  Chicago Commons Association St Catherine's - S...   \n",
       "1          Precious Little One's Learning Center Inc   \n",
       "\n",
       "                           address  row_number  \n",
       "0  27 Washington Oak Park IL 60302           0  \n",
       "1                    221 E 51st St           1  "
      ]
     },
     "execution_count": 11,
     "metadata": {},
     "output_type": "execute_result"
    }
   ],
   "source": [
    "df_train.head(2)"
   ]
  },
  {
   "cell_type": "markdown",
   "metadata": {},
   "source": [
    "Import `Deduplicator` class"
   ]
  },
  {
   "cell_type": "code",
   "execution_count": 3,
   "metadata": {},
   "outputs": [],
   "source": [
    "from deduplipy.deduplicator import Deduplicator"
   ]
  },
  {
   "cell_type": "markdown",
   "metadata": {},
   "source": [
    "Instantiate `Deduplicator` class with the column names"
   ]
  },
  {
   "cell_type": "code",
   "execution_count": 6,
   "metadata": {},
   "outputs": [],
   "source": [
    "myDedupliPy = Deduplicator(['name', 'address'])"
   ]
  },
  {
   "cell_type": "markdown",
   "metadata": {},
   "source": [
    "Perform the fitting using active learning"
   ]
  },
  {
   "cell_type": "code",
   "execution_count": null,
   "metadata": {
    "scrolled": true,
    "tags": []
   },
   "outputs": [],
   "source": [
    "myDedupliPy.fit(df_train)"
   ]
  },
  {
   "cell_type": "markdown",
   "metadata": {},
   "source": [
    "Predict on new data"
   ]
  },
  {
   "cell_type": "code",
   "execution_count": 9,
   "metadata": {},
   "outputs": [
    {
     "data": {
      "text/html": [
       "<div>\n",
       "<style scoped>\n",
       "    .dataframe tbody tr th:only-of-type {\n",
       "        vertical-align: middle;\n",
       "    }\n",
       "\n",
       "    .dataframe tbody tr th {\n",
       "        vertical-align: top;\n",
       "    }\n",
       "\n",
       "    .dataframe thead th {\n",
       "        text-align: right;\n",
       "    }\n",
       "</style>\n",
       "<table border=\"1\" class=\"dataframe\">\n",
       "  <thead>\n",
       "    <tr style=\"text-align: right;\">\n",
       "      <th></th>\n",
       "      <th>name</th>\n",
       "      <th>address</th>\n",
       "      <th>deduplication_id</th>\n",
       "    </tr>\n",
       "  </thead>\n",
       "  <tbody>\n",
       "    <tr>\n",
       "      <th>1248</th>\n",
       "      <td>YMCA South Chicago</td>\n",
       "      <td>3039 E 91st St</td>\n",
       "      <td>1</td>\n",
       "    </tr>\n",
       "    <tr>\n",
       "      <th>1244</th>\n",
       "      <td>YMCA of Metropolitan Chicago - South Chicago YMCA</td>\n",
       "      <td>3039 E 91st St</td>\n",
       "      <td>1</td>\n",
       "    </tr>\n",
       "    <tr>\n",
       "      <th>1245</th>\n",
       "      <td>YMCA South Chicago</td>\n",
       "      <td>3039 E 91st Street</td>\n",
       "      <td>1</td>\n",
       "    </tr>\n",
       "    <tr>\n",
       "      <th>1247</th>\n",
       "      <td>YMCA of Metropolitan Chicago South Chicago</td>\n",
       "      <td>3039 E 91st St</td>\n",
       "      <td>1</td>\n",
       "    </tr>\n",
       "    <tr>\n",
       "      <th>1249</th>\n",
       "      <td>YMCA South Chicago School</td>\n",
       "      <td>3039 E 91st Street</td>\n",
       "      <td>1</td>\n",
       "    </tr>\n",
       "    <tr>\n",
       "      <th>1201</th>\n",
       "      <td>Dorsey Developmental Institute III</td>\n",
       "      <td>2938 E 91st Street</td>\n",
       "      <td>2</td>\n",
       "    </tr>\n",
       "    <tr>\n",
       "      <th>1202</th>\n",
       "      <td>Dorsey Developmental Institute III</td>\n",
       "      <td>2938 E 91st St</td>\n",
       "      <td>2</td>\n",
       "    </tr>\n",
       "    <tr>\n",
       "      <th>505</th>\n",
       "      <td>Woodlawn Organization - Early Childhood Develo...</td>\n",
       "      <td>950 E 61st Street</td>\n",
       "      <td>3</td>\n",
       "    </tr>\n",
       "    <tr>\n",
       "      <th>504</th>\n",
       "      <td>Woodlawn EC Development Ctr I/T</td>\n",
       "      <td>950 E 61st St</td>\n",
       "      <td>3</td>\n",
       "    </tr>\n",
       "    <tr>\n",
       "      <th>503</th>\n",
       "      <td>Woodlawn EC Development Ctr</td>\n",
       "      <td>950 E 61st St</td>\n",
       "      <td>3</td>\n",
       "    </tr>\n",
       "  </tbody>\n",
       "</table>\n",
       "</div>"
      ],
      "text/plain": [
       "                                                   name             address  \\\n",
       "1248                                 YMCA South Chicago      3039 E 91st St   \n",
       "1244  YMCA of Metropolitan Chicago - South Chicago YMCA      3039 E 91st St   \n",
       "1245                                 YMCA South Chicago  3039 E 91st Street   \n",
       "1247         YMCA of Metropolitan Chicago South Chicago      3039 E 91st St   \n",
       "1249                          YMCA South Chicago School  3039 E 91st Street   \n",
       "1201                 Dorsey Developmental Institute III  2938 E 91st Street   \n",
       "1202                 Dorsey Developmental Institute III      2938 E 91st St   \n",
       "505   Woodlawn Organization - Early Childhood Develo...   950 E 61st Street   \n",
       "504                     Woodlawn EC Development Ctr I/T       950 E 61st St   \n",
       "503                         Woodlawn EC Development Ctr       950 E 61st St   \n",
       "\n",
       "      deduplication_id  \n",
       "1248                 1  \n",
       "1244                 1  \n",
       "1245                 1  \n",
       "1247                 1  \n",
       "1249                 1  \n",
       "1201                 2  \n",
       "1202                 2  \n",
       "505                  3  \n",
       "504                  3  \n",
       "503                  3  "
      ]
     },
     "execution_count": 9,
     "metadata": {},
     "output_type": "execute_result"
    }
   ],
   "source": [
    "res = myDedupliPy.predict(df_train)\n",
    "res.sort_values('deduplication_id').head(10)"
   ]
  },
  {
   "cell_type": "markdown",
   "metadata": {},
   "source": [
    "The `Deduplicator` instance can be saved as a pickle file and be applied on new data after training:"
   ]
  },
  {
   "cell_type": "code",
   "execution_count": 9,
   "metadata": {},
   "outputs": [],
   "source": [
    "import pickle"
   ]
  },
  {
   "cell_type": "code",
   "execution_count": 10,
   "metadata": {},
   "outputs": [],
   "source": [
    "with open('myDeduplipy.pkl', 'wb') as f:\n",
    "    pickle.dump(myDedupliPy, f)"
   ]
  },
  {
   "cell_type": "code",
   "execution_count": 11,
   "metadata": {},
   "outputs": [],
   "source": [
    "del(myDedupliPy)"
   ]
  },
  {
   "cell_type": "code",
   "execution_count": 14,
   "metadata": {},
   "outputs": [],
   "source": [
    "with open('myDeduplipy.pkl', 'rb') as f:\n",
    "    loaded_obj = pickle.load(f)"
   ]
  },
  {
   "cell_type": "code",
   "execution_count": 17,
   "metadata": {},
   "outputs": [
    {
     "data": {
      "text/html": [
       "<div>\n",
       "<style scoped>\n",
       "    .dataframe tbody tr th:only-of-type {\n",
       "        vertical-align: middle;\n",
       "    }\n",
       "\n",
       "    .dataframe tbody tr th {\n",
       "        vertical-align: top;\n",
       "    }\n",
       "\n",
       "    .dataframe thead th {\n",
       "        text-align: right;\n",
       "    }\n",
       "</style>\n",
       "<table border=\"1\" class=\"dataframe\">\n",
       "  <thead>\n",
       "    <tr style=\"text-align: right;\">\n",
       "      <th></th>\n",
       "      <th>name</th>\n",
       "      <th>address</th>\n",
       "      <th>deduplication_id</th>\n",
       "    </tr>\n",
       "  </thead>\n",
       "  <tbody>\n",
       "    <tr>\n",
       "      <th>1161</th>\n",
       "      <td>Hammond</td>\n",
       "      <td>2819 W 21st Place</td>\n",
       "      <td>1</td>\n",
       "    </tr>\n",
       "    <tr>\n",
       "      <th>1162</th>\n",
       "      <td>Hammond</td>\n",
       "      <td>2819 W 21st Pl</td>\n",
       "      <td>1</td>\n",
       "    </tr>\n",
       "    <tr>\n",
       "      <th>561</th>\n",
       "      <td>Holden</td>\n",
       "      <td>1104 W 31st Street</td>\n",
       "      <td>2</td>\n",
       "    </tr>\n",
       "    <tr>\n",
       "      <th>560</th>\n",
       "      <td>Holden</td>\n",
       "      <td>1104 W 31St St</td>\n",
       "      <td>2</td>\n",
       "    </tr>\n",
       "    <tr>\n",
       "      <th>394</th>\n",
       "      <td>Aldridge</td>\n",
       "      <td>630 E 131St St</td>\n",
       "      <td>3</td>\n",
       "    </tr>\n",
       "    <tr>\n",
       "      <th>395</th>\n",
       "      <td>CHICAGO PUBLIC SCHOOLS ALDRIDGE IRA F</td>\n",
       "      <td>630 E 131ST ST</td>\n",
       "      <td>3</td>\n",
       "    </tr>\n",
       "    <tr>\n",
       "      <th>1202</th>\n",
       "      <td>Dorsey Developmental Institute III</td>\n",
       "      <td>2938 E 91st St</td>\n",
       "      <td>4</td>\n",
       "    </tr>\n",
       "    <tr>\n",
       "      <th>1201</th>\n",
       "      <td>Dorsey Developmental Institute III</td>\n",
       "      <td>2938 E 91st Street</td>\n",
       "      <td>4</td>\n",
       "    </tr>\n",
       "    <tr>\n",
       "      <th>1249</th>\n",
       "      <td>YMCA South Chicago School</td>\n",
       "      <td>3039 E 91st Street</td>\n",
       "      <td>5</td>\n",
       "    </tr>\n",
       "    <tr>\n",
       "      <th>1248</th>\n",
       "      <td>YMCA South Chicago</td>\n",
       "      <td>3039 E 91st St</td>\n",
       "      <td>5</td>\n",
       "    </tr>\n",
       "  </tbody>\n",
       "</table>\n",
       "</div>"
      ],
      "text/plain": [
       "                                       name             address  \\\n",
       "1161                                Hammond   2819 W 21st Place   \n",
       "1162                                Hammond      2819 W 21st Pl   \n",
       "561                                  Holden  1104 W 31st Street   \n",
       "560                                  Holden      1104 W 31St St   \n",
       "394                                Aldridge      630 E 131St St   \n",
       "395   CHICAGO PUBLIC SCHOOLS ALDRIDGE IRA F      630 E 131ST ST   \n",
       "1202     Dorsey Developmental Institute III      2938 E 91st St   \n",
       "1201     Dorsey Developmental Institute III  2938 E 91st Street   \n",
       "1249              YMCA South Chicago School  3039 E 91st Street   \n",
       "1248                     YMCA South Chicago      3039 E 91st St   \n",
       "\n",
       "      deduplication_id  \n",
       "1161                 1  \n",
       "1162                 1  \n",
       "561                  2  \n",
       "560                  2  \n",
       "394                  3  \n",
       "395                  3  \n",
       "1202                 4  \n",
       "1201                 4  \n",
       "1249                 5  \n",
       "1248                 5  "
      ]
     },
     "execution_count": 17,
     "metadata": {},
     "output_type": "execute_result"
    }
   ],
   "source": [
    "res = loaded_obj.predict(df)\n",
    "res.sort_values('deduplication_id').head(10)"
   ]
  },
  {
   "cell_type": "markdown",
   "metadata": {},
   "source": [
    "## Advanced deduplication"
   ]
  },
  {
   "cell_type": "markdown",
   "metadata": {},
   "source": [
    "Load your data. In this example we take a sample dataset that comes with DedupliPy:"
   ]
  },
  {
   "cell_type": "code",
   "execution_count": 12,
   "metadata": {},
   "outputs": [],
   "source": [
    "from deduplipy.datasets import load_data"
   ]
  },
  {
   "cell_type": "code",
   "execution_count": 13,
   "metadata": {},
   "outputs": [],
   "source": [
    "df = load_data(kind='childcare', return_pairs=False)"
   ]
  },
  {
   "cell_type": "markdown",
   "metadata": {},
   "source": [
    "Create a `Deduplicator` instance and provide advanced settings"
   ]
  },
  {
   "cell_type": "markdown",
   "metadata": {},
   "source": [
    "- The similarity metrics per field are entered in a dict. Similarity metric can be any function that takes two strings and output a number."
   ]
  },
  {
   "cell_type": "code",
   "execution_count": 19,
   "metadata": {},
   "outputs": [],
   "source": [
    "from deduplipy.deduplicator import Deduplicator\n",
    "from fuzzywuzzy.fuzz import ratio, partial_ratio, token_set_ratio, token_sort_ratio"
   ]
  },
  {
   "cell_type": "code",
   "execution_count": 20,
   "metadata": {},
   "outputs": [],
   "source": [
    "field_info = {'name':[ratio, partial_ratio], 'address':[token_set_ratio, token_sort_ratio]}"
   ]
  },
  {
   "cell_type": "markdown",
   "metadata": {},
   "source": [
    "- We choose our own set of rules for blocking which we define ourselves."
   ]
  },
  {
   "cell_type": "code",
   "execution_count": 21,
   "metadata": {},
   "outputs": [],
   "source": [
    "def first_two_characters(x):\n",
    "    return x[:2]"
   ]
  },
  {
   "cell_type": "markdown",
   "metadata": {},
   "source": [
    "- `interaction=True` makes the classifier include interaction features, e.g. `ratio('name') * token_set_ratio('address')`. When interaction features are included, the logistic regression classifier applies a L1 regularisation to prevent overfitting.\n",
    "- We set `verbose=1` to get information on the progress and a distribution of scores"
   ]
  },
  {
   "cell_type": "code",
   "execution_count": 22,
   "metadata": {},
   "outputs": [],
   "source": [
    "myDedupliPy = Deduplicator(field_info=field_info, interaction=True, rules = [first_two_characters], verbose=1)"
   ]
  },
  {
   "cell_type": "markdown",
   "metadata": {},
   "source": [
    "Fit the `Deduplicator` by active learning; enter whether a pair is a match (y) or not (n). When the training is converged, you will be notified and you can finish training by entering 'f'."
   ]
  },
  {
   "cell_type": "code",
   "execution_count": null,
   "metadata": {
    "scrolled": true,
    "tags": []
   },
   "outputs": [],
   "source": [
    "myDedupliPy.fit(df)"
   ]
  },
  {
   "cell_type": "markdown",
   "metadata": {},
   "source": [
    "Based on the histogram of scores, we decide to ignore all pairs with a similarity probability lower than 0.1 when predicting:"
   ]
  },
  {
   "cell_type": "markdown",
   "metadata": {},
   "source": [
    "Apply the trained `Deduplicator` on (new) data. The column `deduplication_id` is the identifier for a cluster. Rows with the same `deduplication_id` are found to be the same real world entity."
   ]
  },
  {
   "cell_type": "code",
   "execution_count": 24,
   "metadata": {},
   "outputs": [
    {
     "name": "stdout",
     "output_type": "stream",
     "text": [
      "blocking started\n",
      "blocking finished\n",
      "Nr of pairs: 41311\n",
      "scoring started\n",
      "scoring finished\n",
      "Nr of filtered pairs: 3044\n",
      "Clustering started\n",
      "Clustering finished\n"
     ]
    },
    {
     "data": {
      "text/html": [
       "<div>\n",
       "<style scoped>\n",
       "    .dataframe tbody tr th:only-of-type {\n",
       "        vertical-align: middle;\n",
       "    }\n",
       "\n",
       "    .dataframe tbody tr th {\n",
       "        vertical-align: top;\n",
       "    }\n",
       "\n",
       "    .dataframe thead th {\n",
       "        text-align: right;\n",
       "    }\n",
       "</style>\n",
       "<table border=\"1\" class=\"dataframe\">\n",
       "  <thead>\n",
       "    <tr style=\"text-align: right;\">\n",
       "      <th></th>\n",
       "      <th>name</th>\n",
       "      <th>address</th>\n",
       "      <th>deduplication_id</th>\n",
       "    </tr>\n",
       "  </thead>\n",
       "  <tbody>\n",
       "    <tr>\n",
       "      <th>1125</th>\n",
       "      <td>Carole Robertson Center For Learning - Aurora ...</td>\n",
       "      <td>2701 W 18th St</td>\n",
       "      <td>1</td>\n",
       "    </tr>\n",
       "    <tr>\n",
       "      <th>1126</th>\n",
       "      <td>CAROLE ROBERTSON CENTER FOR LEARNING FCCH-AURO...</td>\n",
       "      <td>2701 W 18TH ST</td>\n",
       "      <td>1</td>\n",
       "    </tr>\n",
       "    <tr>\n",
       "      <th>1136</th>\n",
       "      <td>YMCA Bowen School</td>\n",
       "      <td>2710 E 89th Street</td>\n",
       "      <td>2</td>\n",
       "    </tr>\n",
       "    <tr>\n",
       "      <th>1135</th>\n",
       "      <td>YMCA of Metropolitan Chicago - YMCA - Bowen Hi...</td>\n",
       "      <td>2710 E 89th St</td>\n",
       "      <td>2</td>\n",
       "    </tr>\n",
       "    <tr>\n",
       "      <th>49</th>\n",
       "      <td>Easter Seals Society of Metropolitan Chicago -...</td>\n",
       "      <td>2718 W 59th St</td>\n",
       "      <td>3</td>\n",
       "    </tr>\n",
       "    <tr>\n",
       "      <th>50</th>\n",
       "      <td>Keeper?s Institute Infant/Child Care</td>\n",
       "      <td>2718 W 59th St</td>\n",
       "      <td>3</td>\n",
       "    </tr>\n",
       "    <tr>\n",
       "      <th>1130</th>\n",
       "      <td>GADS HILL CENTER HUNT'S EARLY CHILDHOOD EDUCAT...</td>\n",
       "      <td>2701 W 79TH ST</td>\n",
       "      <td>4</td>\n",
       "    </tr>\n",
       "    <tr>\n",
       "      <th>1121</th>\n",
       "      <td>YMCA of Metropolitan Chicago - Rauner</td>\n",
       "      <td>2700 S Western Ave</td>\n",
       "      <td>8</td>\n",
       "    </tr>\n",
       "    <tr>\n",
       "      <th>1122</th>\n",
       "      <td>YMCA Rauner Family</td>\n",
       "      <td>2700 S Western Ave</td>\n",
       "      <td>8</td>\n",
       "    </tr>\n",
       "    <tr>\n",
       "      <th>1123</th>\n",
       "      <td>YMCA OF METROPOLITAN CHICAGO RAUNER</td>\n",
       "      <td>2700 S WESTERN AVE</td>\n",
       "      <td>8</td>\n",
       "    </tr>\n",
       "  </tbody>\n",
       "</table>\n",
       "</div>"
      ],
      "text/plain": [
       "                                                   name             address  \\\n",
       "1125  Carole Robertson Center For Learning - Aurora ...      2701 W 18th St   \n",
       "1126  CAROLE ROBERTSON CENTER FOR LEARNING FCCH-AURO...      2701 W 18TH ST   \n",
       "1136                                  YMCA Bowen School  2710 E 89th Street   \n",
       "1135  YMCA of Metropolitan Chicago - YMCA - Bowen Hi...      2710 E 89th St   \n",
       "49    Easter Seals Society of Metropolitan Chicago -...      2718 W 59th St   \n",
       "50                 Keeper?s Institute Infant/Child Care      2718 W 59th St   \n",
       "1130  GADS HILL CENTER HUNT'S EARLY CHILDHOOD EDUCAT...      2701 W 79TH ST   \n",
       "1121              YMCA of Metropolitan Chicago - Rauner  2700 S Western Ave   \n",
       "1122                                 YMCA Rauner Family  2700 S Western Ave   \n",
       "1123                YMCA OF METROPOLITAN CHICAGO RAUNER  2700 S WESTERN AVE   \n",
       "\n",
       "      deduplication_id  \n",
       "1125                 1  \n",
       "1126                 1  \n",
       "1136                 2  \n",
       "1135                 2  \n",
       "49                   3  \n",
       "50                   3  \n",
       "1130                 4  \n",
       "1121                 8  \n",
       "1122                 8  \n",
       "1123                 8  "
      ]
     },
     "execution_count": 24,
     "metadata": {},
     "output_type": "execute_result"
    }
   ],
   "source": [
    "res = myDedupliPy.predict(df, score_threshold=0.1)\n",
    "res.sort_values('deduplication_id').head(10)"
   ]
  }
 ],
 "metadata": {
  "kernelspec": {
   "display_name": "Python 3",
   "language": "python",
   "name": "python3"
  },
  "language_info": {
   "codemirror_mode": {
    "name": "ipython",
    "version": 3
   },
   "file_extension": ".py",
   "mimetype": "text/x-python",
   "name": "python",
   "nbconvert_exporter": "python",
   "pygments_lexer": "ipython3",
   "version": "3.8.8"
  }
 },
 "nbformat": 4,
 "nbformat_minor": 4
}
