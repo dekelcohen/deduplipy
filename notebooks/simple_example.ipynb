{
 "cells": [
  {
   "cell_type": "markdown",
   "metadata": {},
   "source": [
    "# DedupliPy"
   ]
  },
  {
   "cell_type": "markdown",
   "metadata": {},
   "source": [
    "## Simple deduplication"
   ]
  },
  {
   "cell_type": "markdown",
   "metadata": {},
   "source": [
    "Load your data. In this example we take a sample dataset that comes with DedupliPy:"
   ]
  },
  {
   "cell_type": "code",
   "execution_count": 1,
   "metadata": {},
   "outputs": [],
   "source": [
    "from deduplipy.datasets import load_data"
   ]
  },
  {
   "cell_type": "code",
   "execution_count": 2,
   "metadata": {},
   "outputs": [
    {
     "name": "stdout",
     "output_type": "stream",
     "text": [
      "Column names: 'name', 'suburb', 'postcode'\n"
     ]
    }
   ],
   "source": [
    "df = load_data(kind='voters')"
   ]
  },
  {
   "cell_type": "code",
   "execution_count": 3,
   "metadata": {},
   "outputs": [
    {
     "data": {
      "text/html": [
       "<div>\n",
       "<style scoped>\n",
       "    .dataframe tbody tr th:only-of-type {\n",
       "        vertical-align: middle;\n",
       "    }\n",
       "\n",
       "    .dataframe tbody tr th {\n",
       "        vertical-align: top;\n",
       "    }\n",
       "\n",
       "    .dataframe thead th {\n",
       "        text-align: right;\n",
       "    }\n",
       "</style>\n",
       "<table border=\"1\" class=\"dataframe\">\n",
       "  <thead>\n",
       "    <tr style=\"text-align: right;\">\n",
       "      <th></th>\n",
       "      <th>name</th>\n",
       "      <th>suburb</th>\n",
       "      <th>postcode</th>\n",
       "    </tr>\n",
       "  </thead>\n",
       "  <tbody>\n",
       "    <tr>\n",
       "      <th>0</th>\n",
       "      <td>khimerc thomas</td>\n",
       "      <td>charlotte</td>\n",
       "      <td>2826g</td>\n",
       "    </tr>\n",
       "    <tr>\n",
       "      <th>1</th>\n",
       "      <td>lucille richardst</td>\n",
       "      <td>kannapolis</td>\n",
       "      <td>28o81</td>\n",
       "    </tr>\n",
       "  </tbody>\n",
       "</table>\n",
       "</div>"
      ],
      "text/plain": [
       "                name      suburb postcode\n",
       "0     khimerc thomas   charlotte    2826g\n",
       "1  lucille richardst  kannapolis    28o81"
      ]
     },
     "execution_count": 3,
     "metadata": {},
     "output_type": "execute_result"
    }
   ],
   "source": [
    "df.head(2)"
   ]
  },
  {
   "cell_type": "markdown",
   "metadata": {},
   "source": [
    "Create a `Deduplicator` instance and provide the column names to be used for deduplication:"
   ]
  },
  {
   "cell_type": "code",
   "execution_count": 4,
   "metadata": {},
   "outputs": [],
   "source": [
    "from deduplipy.deduplicator import Deduplicator"
   ]
  },
  {
   "cell_type": "code",
   "execution_count": 5,
   "metadata": {},
   "outputs": [],
   "source": [
    "myDedupliPy = Deduplicator(['name', 'suburb', 'postcode'])"
   ]
  },
  {
   "cell_type": "markdown",
   "metadata": {},
   "source": [
    "Fit the `Deduplicator` by active learning; enter whether a pair is a match (y) or not (n). When the training is converged, you will be notified and you can finish training by entering 'f'."
   ]
  },
  {
   "cell_type": "code",
   "execution_count": 6,
   "metadata": {
    "scrolled": true,
    "tags": []
   },
   "outputs": [
    {
     "name": "stdout",
     "output_type": "stream",
     "text": [
      "\n",
      "Nr. 1 (0+/0-)\n",
      "Is this a match? (y)es, (n)o, (p)revious, (s)kip, (f)inish\n",
      "-> name_1        eddoe white\n",
      "suburb_1      pinnacle   \n",
      "postcode_1    27042      \n",
      "-> name_2        eddoe white\n",
      "suburb_2      pinnacle   \n",
      "postcode_2    27042      \n"
     ]
    },
    {
     "name": "stdin",
     "output_type": "stream",
     "text": [
      " y\n"
     ]
    },
    {
     "name": "stdout",
     "output_type": "stream",
     "text": [
      "\n",
      "Nr. 2 (1+/0-)\n",
      "Is this a match? (y)es, (n)o, (p)revious, (s)kip, (f)inish\n",
      "-> name_1        eddoe white\n",
      "suburb_1      pinnacle   \n",
      "postcode_1    27042      \n",
      "-> name_2        jerrad evanz\n",
      "suburb_2      battleboro  \n",
      "postcode_2    z7809       \n"
     ]
    },
    {
     "name": "stdin",
     "output_type": "stream",
     "text": [
      " n\n"
     ]
    },
    {
     "name": "stdout",
     "output_type": "stream",
     "text": [
      "\n",
      "Nr. 3 (1+/1-)\n",
      "Is this a match? (y)es, (n)o, (p)revious, (s)kip, (f)inish\n",
      "-> name_1        steven johnson\n",
      "suburb_1      winston salem \n",
      "postcode_1    27105         \n",
      "-> name_2        phillip cooke\n",
      "suburb_2      winston saiem\n",
      "postcode_2    2710|        \n"
     ]
    },
    {
     "name": "stdin",
     "output_type": "stream",
     "text": [
      " n\n"
     ]
    },
    {
     "name": "stdout",
     "output_type": "stream",
     "text": [
      "\n",
      "Nr. 4 (1+/2-)\n",
      "Is this a match? (y)es, (n)o, (p)revious, (s)kip, (f)inish\n",
      "-> name_1        rickie cannon\n",
      "suburb_1      lenoir       \n",
      "postcode_1    28645        \n",
      "-> name_2        lorraine minton\n",
      "suburb_2      lenoir         \n",
      "postcode_2    28645          \n"
     ]
    },
    {
     "name": "stdin",
     "output_type": "stream",
     "text": [
      " n\n"
     ]
    },
    {
     "name": "stdout",
     "output_type": "stream",
     "text": [
      "\n",
      "Nr. 5 (1+/3-)\n",
      "Is this a match? (y)es, (n)o, (p)revious, (s)kip, (f)inish\n",
      "-> name_1        eddoe white\n",
      "suburb_1      pinnacle   \n",
      "postcode_1    27042      \n",
      "-> name_2        eddi whide\n",
      "suburb_2      pinnacle  \n",
      "postcode_2    27043     \n"
     ]
    },
    {
     "name": "stdin",
     "output_type": "stream",
     "text": [
      " y\n"
     ]
    },
    {
     "name": "stdout",
     "output_type": "stream",
     "text": [
      "\n",
      "Nr. 6 (2+/3-)\n",
      "Is this a match? (y)es, (n)o, (p)revious, (s)kip, (f)inish\n",
      "-> name_1        usman khan\n",
      "suburb_1      greensboro\n",
      "postcode_1    27407     \n",
      "-> name_2        shannon haringx\n",
      "suburb_2      greensboro     \n",
      "postcode_2    27401          \n"
     ]
    },
    {
     "name": "stdin",
     "output_type": "stream",
     "text": [
      " n\n"
     ]
    },
    {
     "name": "stdout",
     "output_type": "stream",
     "text": [
      "\n",
      "Nr. 7 (2+/4-)\n",
      "Is this a match? (y)es, (n)o, (p)revious, (s)kip, (f)inish\n",
      "-> name_1        amanta phillips\n",
      "suburb_1      charlotte      \n",
      "postcode_1    28259          \n",
      "-> name_2        jeannie phillips\n",
      "suburb_2      marzhall        \n",
      "postcode_2    287s3           \n"
     ]
    },
    {
     "name": "stdin",
     "output_type": "stream",
     "text": [
      " n\n"
     ]
    },
    {
     "name": "stdout",
     "output_type": "stream",
     "text": [
      "\n",
      "Nr. 8 (2+/5-)\n",
      "Is this a match? (y)es, (n)o, (p)revious, (s)kip, (f)inish\n",
      "-> name_1        terri eakes\n",
      "suburb_1      greenville \n",
      "postcode_1    27834      \n",
      "-> name_2        terri norman\n",
      "suburb_2      kernersville\n",
      "postcode_2    27284       \n"
     ]
    },
    {
     "name": "stdin",
     "output_type": "stream",
     "text": [
      " n\n"
     ]
    },
    {
     "name": "stdout",
     "output_type": "stream",
     "text": [
      "\n",
      "Nr. 9 (2+/6-)\n",
      "Is this a match? (y)es, (n)o, (p)revious, (s)kip, (f)inish\n",
      "-> name_1        susan carpenter\n",
      "suburb_1      charlotte      \n",
      "postcode_1    28210          \n",
      "-> name_2        melissa kalteribach\n",
      "suburb_2      charlotte          \n",
      "postcode_2    28251              \n"
     ]
    },
    {
     "name": "stdin",
     "output_type": "stream",
     "text": [
      " n\n"
     ]
    },
    {
     "name": "stdout",
     "output_type": "stream",
     "text": [
      "\n",
      "Nr. 10 (2+/7-)\n",
      "Is this a match? (y)es, (n)o, (p)revious, (s)kip, (f)inish\n",
      "-> name_1        terri eakes\n",
      "suburb_1      greenville \n",
      "postcode_1    27834      \n",
      "-> name_2        tamara kinsch\n",
      "suburb_2      greenville   \n",
      "postcode_2    27834        \n"
     ]
    },
    {
     "name": "stdin",
     "output_type": "stream",
     "text": [
      " n\n"
     ]
    },
    {
     "name": "stdout",
     "output_type": "stream",
     "text": [
      "\n",
      "Nr. 11 (2+/8-)\n",
      "Is this a match? (y)es, (n)o, (p)revious, (s)kip, (f)inish\n",
      "-> name_1        georgia wilson\n",
      "suburb_1      lincolnton    \n",
      "postcode_1    28092         \n",
      "-> name_2        michael wilson\n",
      "suburb_2      canton        \n",
      "postcode_2    28716         \n"
     ]
    },
    {
     "name": "stdin",
     "output_type": "stream",
     "text": [
      " n\n"
     ]
    },
    {
     "name": "stdout",
     "output_type": "stream",
     "text": [
      "\n",
      "Nr. 12 (2+/9-)\n",
      "Is this a match? (y)es, (n)o, (p)revious, (s)kip, (f)inish\n",
      "-> name_1        scott chapman\n",
      "suburb_1      charlotte    \n",
      "postcode_1    28215        \n",
      "-> name_2        susan carpenter\n",
      "suburb_2      charlotte      \n",
      "postcode_2    28210          \n"
     ]
    },
    {
     "name": "stdin",
     "output_type": "stream",
     "text": [
      " n\n"
     ]
    },
    {
     "name": "stdout",
     "output_type": "stream",
     "text": [
      "\n",
      "Nr. 13 (2+/10-)\n",
      "Is this a match? (y)es, (n)o, (p)revious, (s)kip, (f)inish\n",
      "-> name_1        joann williams\n",
      "suburb_1      hamlet        \n",
      "postcode_1    28345         \n",
      "-> name_2        jeannie phillips\n",
      "suburb_2      marzhall        \n",
      "postcode_2    287s3           \n"
     ]
    },
    {
     "name": "stdin",
     "output_type": "stream",
     "text": [
      " n\n"
     ]
    },
    {
     "name": "stdout",
     "output_type": "stream",
     "text": [
      "\n",
      "Nr. 14 (2+/11-)\n",
      "Is this a match? (y)es, (n)o, (p)revious, (s)kip, (f)inish\n",
      "-> name_1        mary niehoff\n",
      "suburb_1      canton      \n",
      "postcode_1    28716       \n",
      "-> name_2        michael wilson\n",
      "suburb_2      canton        \n",
      "postcode_2    28716         \n"
     ]
    },
    {
     "name": "stdin",
     "output_type": "stream",
     "text": [
      " n\n"
     ]
    },
    {
     "name": "stdout",
     "output_type": "stream",
     "text": [
      "\n",
      "Nr. 15 (2+/12-)\n",
      "Is this a match? (y)es, (n)o, (p)revious, (s)kip, (f)inish\n",
      "-> name_1        willie greene\n",
      "suburb_1      mooresville  \n",
      "postcode_1    28115        \n",
      "-> name_2        william fleming\n",
      "suburb_2      greenville     \n",
      "postcode_2    27858          \n"
     ]
    },
    {
     "name": "stdin",
     "output_type": "stream",
     "text": [
      " n\n"
     ]
    },
    {
     "name": "stdout",
     "output_type": "stream",
     "text": [
      "\n",
      "Nr. 16 (2+/13-)\n",
      "Is this a match? (y)es, (n)o, (p)revious, (s)kip, (f)inish\n",
      "-> name_1        dustin snowden\n",
      "suburb_1      greensboro    \n",
      "postcode_1    27406         \n",
      "-> name_2        shannon haringx\n",
      "suburb_2      greensboro     \n",
      "postcode_2    27401          \n"
     ]
    },
    {
     "name": "stdin",
     "output_type": "stream",
     "text": [
      " n\n"
     ]
    },
    {
     "name": "stdout",
     "output_type": "stream",
     "text": [
      "\n",
      "Nr. 17 (2+/14-)\n",
      "Is this a match? (y)es, (n)o, (p)revious, (s)kip, (f)inish\n",
      "-> name_1        harrison williams\n",
      "suburb_1      chapel hill      \n",
      "postcode_1    27517            \n",
      "-> name_2        joann williams\n",
      "suburb_2      hamlet        \n",
      "postcode_2    28345         \n"
     ]
    },
    {
     "name": "stdin",
     "output_type": "stream",
     "text": [
      " n\n"
     ]
    },
    {
     "name": "stdout",
     "output_type": "stream",
     "text": [
      "\n",
      "Nr. 18 (2+/15-)\n",
      "Is this a match? (y)es, (n)o, (p)revious, (s)kip, (f)inish\n",
      "-> name_1        terri norman\n",
      "suburb_1      kernersville\n",
      "postcode_1    27284       \n",
      "-> name_2        tere5a ray \n",
      "suburb_2      burnsvilile\n",
      "postcode_2    28714      \n"
     ]
    },
    {
     "name": "stdin",
     "output_type": "stream",
     "text": [
      " n\n"
     ]
    },
    {
     "name": "stdout",
     "output_type": "stream",
     "text": [
      "\n",
      "Nr. 19 (2+/16-)\n",
      "Is this a match? (y)es, (n)o, (p)revious, (s)kip, (f)inish\n",
      "-> name_1        jeannie phillips\n",
      "suburb_1      marzhall        \n",
      "postcode_1    287s3           \n",
      "-> name_2        amanda phillips\n",
      "suburb_2      charlotte      \n",
      "postcode_2    28269          \n"
     ]
    },
    {
     "name": "stdin",
     "output_type": "stream",
     "text": [
      " n\n"
     ]
    },
    {
     "name": "stdout",
     "output_type": "stream",
     "text": [
      "\n",
      "Nr. 20 (2+/17-)\n",
      "Is this a match? (y)es, (n)o, (p)revious, (s)kip, (f)inish\n",
      "-> name_1        dawn enterline\n",
      "suburb_1      newport       \n",
      "postcode_1    28570         \n",
      "-> name_2        tremain morris\n",
      "suburb_2      newport       \n",
      "postcode_2    28570         \n"
     ]
    },
    {
     "name": "stdin",
     "output_type": "stream",
     "text": [
      " n\n"
     ]
    },
    {
     "name": "stdout",
     "output_type": "stream",
     "text": [
      "Classifier converged, enter 'f' to stop training\n",
      "\n",
      "Nr. 21 (2+/18-)\n",
      "Is this a match? (y)es, (n)o, (p)revious, (s)kip, (f)inish\n",
      "-> name_1        annie harris\n",
      "suburb_1      raleigh     \n",
      "postcode_1    27604       \n",
      "-> name_2        amirha ward\n",
      "suburb_2      raleigh    \n",
      "postcode_2    2761s      \n"
     ]
    },
    {
     "name": "stdin",
     "output_type": "stream",
     "text": [
      " f\n"
     ]
    },
    {
     "name": "stdout",
     "output_type": "stream",
     "text": [
      "recall threshold reached, recall = 1.0\n"
     ]
    },
    {
     "data": {
      "text/plain": [
       "<deduplipy.deduplicator.deduplicator.Deduplicator at 0x7fb2137ee670>"
      ]
     },
     "execution_count": 6,
     "metadata": {},
     "output_type": "execute_result"
    }
   ],
   "source": [
    "myDedupliPy.fit(df)"
   ]
  },
  {
   "cell_type": "markdown",
   "metadata": {},
   "source": [
    "Apply the trained `Deduplicator` on (new) data. The column `deduplication_id` is the identifier for a cluster. Rows with the same `deduplication_id` are found to be the same real world entity."
   ]
  },
  {
   "cell_type": "code",
   "execution_count": 7,
   "metadata": {},
   "outputs": [
    {
     "data": {
      "text/html": [
       "<div>\n",
       "<style scoped>\n",
       "    .dataframe tbody tr th:only-of-type {\n",
       "        vertical-align: middle;\n",
       "    }\n",
       "\n",
       "    .dataframe tbody tr th {\n",
       "        vertical-align: top;\n",
       "    }\n",
       "\n",
       "    .dataframe thead th {\n",
       "        text-align: right;\n",
       "    }\n",
       "</style>\n",
       "<table border=\"1\" class=\"dataframe\">\n",
       "  <thead>\n",
       "    <tr style=\"text-align: right;\">\n",
       "      <th></th>\n",
       "      <th>name</th>\n",
       "      <th>suburb</th>\n",
       "      <th>postcode</th>\n",
       "      <th>deduplication_id</th>\n",
       "    </tr>\n",
       "  </thead>\n",
       "  <tbody>\n",
       "    <tr>\n",
       "      <th>1137</th>\n",
       "      <td>jon miller</td>\n",
       "      <td>charlotte</td>\n",
       "      <td>28212</td>\n",
       "      <td>1</td>\n",
       "    </tr>\n",
       "    <tr>\n",
       "      <th>33</th>\n",
       "      <td>jon miller</td>\n",
       "      <td>charltte</td>\n",
       "      <td>28z12</td>\n",
       "      <td>1</td>\n",
       "    </tr>\n",
       "    <tr>\n",
       "      <th>1040</th>\n",
       "      <td>john maher</td>\n",
       "      <td>carv</td>\n",
       "      <td>275l3</td>\n",
       "      <td>2</td>\n",
       "    </tr>\n",
       "    <tr>\n",
       "      <th>522</th>\n",
       "      <td>john maher</td>\n",
       "      <td>cary</td>\n",
       "      <td>27513</td>\n",
       "      <td>2</td>\n",
       "    </tr>\n",
       "    <tr>\n",
       "      <th>576</th>\n",
       "      <td>crystal davis</td>\n",
       "      <td>charlotte</td>\n",
       "      <td>28215</td>\n",
       "      <td>3</td>\n",
       "    </tr>\n",
       "    <tr>\n",
       "      <th>1292</th>\n",
       "      <td>crystal davis</td>\n",
       "      <td>charl0tte</td>\n",
       "      <td>28315</td>\n",
       "      <td>3</td>\n",
       "    </tr>\n",
       "    <tr>\n",
       "      <th>1424</th>\n",
       "      <td>herbert oxendin</td>\n",
       "      <td>chsrlotte</td>\n",
       "      <td>28277</td>\n",
       "      <td>4</td>\n",
       "    </tr>\n",
       "    <tr>\n",
       "      <th>445</th>\n",
       "      <td>herbert oxendine</td>\n",
       "      <td>charlotte</td>\n",
       "      <td>28277</td>\n",
       "      <td>4</td>\n",
       "    </tr>\n",
       "    <tr>\n",
       "      <th>1112</th>\n",
       "      <td>herber oxendine</td>\n",
       "      <td>charlotte</td>\n",
       "      <td>28247</td>\n",
       "      <td>4</td>\n",
       "    </tr>\n",
       "    <tr>\n",
       "      <th>1332</th>\n",
       "      <td>glona lowe</td>\n",
       "      <td>cary</td>\n",
       "      <td>27515</td>\n",
       "      <td>5</td>\n",
       "    </tr>\n",
       "  </tbody>\n",
       "</table>\n",
       "</div>"
      ],
      "text/plain": [
       "                  name     suburb postcode  deduplication_id\n",
       "1137        jon miller  charlotte    28212                 1\n",
       "33          jon miller   charltte    28z12                 1\n",
       "1040        john maher       carv    275l3                 2\n",
       "522         john maher       cary    27513                 2\n",
       "576      crystal davis  charlotte    28215                 3\n",
       "1292     crystal davis  charl0tte    28315                 3\n",
       "1424   herbert oxendin  chsrlotte    28277                 4\n",
       "445   herbert oxendine  charlotte    28277                 4\n",
       "1112   herber oxendine  charlotte    28247                 4\n",
       "1332        glona lowe       cary    27515                 5"
      ]
     },
     "execution_count": 7,
     "metadata": {},
     "output_type": "execute_result"
    }
   ],
   "source": [
    "res = myDedupliPy.predict(df)\n",
    "res.sort_values('deduplication_id').head(10)"
   ]
  },
  {
   "cell_type": "markdown",
   "metadata": {},
   "source": [
    "The `Deduplicator` instance can be saved as a pickle file and be applied on new data after training:"
   ]
  },
  {
   "cell_type": "code",
   "execution_count": 8,
   "metadata": {},
   "outputs": [],
   "source": [
    "import pickle"
   ]
  },
  {
   "cell_type": "code",
   "execution_count": 9,
   "metadata": {},
   "outputs": [],
   "source": [
    "with open('mypickle.pkl', 'wb') as f:\n",
    "    pickle.dump(myDedupliPy, f)"
   ]
  },
  {
   "cell_type": "code",
   "execution_count": 10,
   "metadata": {},
   "outputs": [],
   "source": [
    "del(myDedupliPy)"
   ]
  },
  {
   "cell_type": "code",
   "execution_count": 11,
   "metadata": {},
   "outputs": [],
   "source": [
    "with open('mypickle.pkl', 'rb') as f:\n",
    "    loaded_obj = pickle.load(f)"
   ]
  },
  {
   "cell_type": "code",
   "execution_count": 12,
   "metadata": {},
   "outputs": [
    {
     "data": {
      "text/html": [
       "<div>\n",
       "<style scoped>\n",
       "    .dataframe tbody tr th:only-of-type {\n",
       "        vertical-align: middle;\n",
       "    }\n",
       "\n",
       "    .dataframe tbody tr th {\n",
       "        vertical-align: top;\n",
       "    }\n",
       "\n",
       "    .dataframe thead th {\n",
       "        text-align: right;\n",
       "    }\n",
       "</style>\n",
       "<table border=\"1\" class=\"dataframe\">\n",
       "  <thead>\n",
       "    <tr style=\"text-align: right;\">\n",
       "      <th></th>\n",
       "      <th>name</th>\n",
       "      <th>suburb</th>\n",
       "      <th>postcode</th>\n",
       "      <th>deduplication_id</th>\n",
       "    </tr>\n",
       "  </thead>\n",
       "  <tbody>\n",
       "    <tr>\n",
       "      <th>1137</th>\n",
       "      <td>jon miller</td>\n",
       "      <td>charlotte</td>\n",
       "      <td>28212</td>\n",
       "      <td>1</td>\n",
       "    </tr>\n",
       "    <tr>\n",
       "      <th>33</th>\n",
       "      <td>jon miller</td>\n",
       "      <td>charltte</td>\n",
       "      <td>28z12</td>\n",
       "      <td>1</td>\n",
       "    </tr>\n",
       "    <tr>\n",
       "      <th>1040</th>\n",
       "      <td>john maher</td>\n",
       "      <td>carv</td>\n",
       "      <td>275l3</td>\n",
       "      <td>2</td>\n",
       "    </tr>\n",
       "    <tr>\n",
       "      <th>522</th>\n",
       "      <td>john maher</td>\n",
       "      <td>cary</td>\n",
       "      <td>27513</td>\n",
       "      <td>2</td>\n",
       "    </tr>\n",
       "    <tr>\n",
       "      <th>576</th>\n",
       "      <td>crystal davis</td>\n",
       "      <td>charlotte</td>\n",
       "      <td>28215</td>\n",
       "      <td>3</td>\n",
       "    </tr>\n",
       "    <tr>\n",
       "      <th>1292</th>\n",
       "      <td>crystal davis</td>\n",
       "      <td>charl0tte</td>\n",
       "      <td>28315</td>\n",
       "      <td>3</td>\n",
       "    </tr>\n",
       "    <tr>\n",
       "      <th>1424</th>\n",
       "      <td>herbert oxendin</td>\n",
       "      <td>chsrlotte</td>\n",
       "      <td>28277</td>\n",
       "      <td>4</td>\n",
       "    </tr>\n",
       "    <tr>\n",
       "      <th>445</th>\n",
       "      <td>herbert oxendine</td>\n",
       "      <td>charlotte</td>\n",
       "      <td>28277</td>\n",
       "      <td>4</td>\n",
       "    </tr>\n",
       "    <tr>\n",
       "      <th>1112</th>\n",
       "      <td>herber oxendine</td>\n",
       "      <td>charlotte</td>\n",
       "      <td>28247</td>\n",
       "      <td>4</td>\n",
       "    </tr>\n",
       "    <tr>\n",
       "      <th>1332</th>\n",
       "      <td>glona lowe</td>\n",
       "      <td>cary</td>\n",
       "      <td>27515</td>\n",
       "      <td>5</td>\n",
       "    </tr>\n",
       "  </tbody>\n",
       "</table>\n",
       "</div>"
      ],
      "text/plain": [
       "                  name     suburb postcode  deduplication_id\n",
       "1137        jon miller  charlotte    28212                 1\n",
       "33          jon miller   charltte    28z12                 1\n",
       "1040        john maher       carv    275l3                 2\n",
       "522         john maher       cary    27513                 2\n",
       "576      crystal davis  charlotte    28215                 3\n",
       "1292     crystal davis  charl0tte    28315                 3\n",
       "1424   herbert oxendin  chsrlotte    28277                 4\n",
       "445   herbert oxendine  charlotte    28277                 4\n",
       "1112   herber oxendine  charlotte    28247                 4\n",
       "1332        glona lowe       cary    27515                 5"
      ]
     },
     "execution_count": 12,
     "metadata": {},
     "output_type": "execute_result"
    }
   ],
   "source": [
    "res = loaded_obj.predict(df)\n",
    "res.sort_values('deduplication_id').head(10)"
   ]
  }
 ],
 "metadata": {
  "kernelspec": {
   "display_name": "Python 3",
   "language": "python",
   "name": "python3"
  },
  "language_info": {
   "codemirror_mode": {
    "name": "ipython",
    "version": 3
   },
   "file_extension": ".py",
   "mimetype": "text/x-python",
   "name": "python",
   "nbconvert_exporter": "python",
   "pygments_lexer": "ipython3",
   "version": "3.8.8"
  }
 },
 "nbformat": 4,
 "nbformat_minor": 4
}
