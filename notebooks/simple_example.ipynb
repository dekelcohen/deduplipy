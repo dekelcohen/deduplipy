{
 "cells": [
  {
   "cell_type": "markdown",
   "metadata": {},
   "source": [
    "# DedupliPy"
   ]
  },
  {
   "cell_type": "markdown",
   "metadata": {},
   "source": [
    "## Simple deduplication"
   ]
  },
  {
   "cell_type": "markdown",
   "metadata": {},
   "source": [
    "Load your data. In this example we take a sample dataset that comes with DedupliPy:"
   ]
  },
  {
   "cell_type": "code",
   "execution_count": 1,
   "metadata": {},
   "outputs": [],
   "source": [
    "from deduplipy.datasets import load_data"
   ]
  },
  {
   "cell_type": "code",
   "execution_count": 2,
   "metadata": {},
   "outputs": [],
   "source": [
    "df = load_data(kind='childcare', return_pairs=False)"
   ]
  },
  {
   "cell_type": "markdown",
   "metadata": {},
   "source": [
    "This dataset has two columns; `name` and `address`:"
   ]
  },
  {
   "cell_type": "code",
   "execution_count": 3,
   "metadata": {},
   "outputs": [
    {
     "data": {
      "text/html": [
       "<div>\n",
       "<style scoped>\n",
       "    .dataframe tbody tr th:only-of-type {\n",
       "        vertical-align: middle;\n",
       "    }\n",
       "\n",
       "    .dataframe tbody tr th {\n",
       "        vertical-align: top;\n",
       "    }\n",
       "\n",
       "    .dataframe thead th {\n",
       "        text-align: right;\n",
       "    }\n",
       "</style>\n",
       "<table border=\"1\" class=\"dataframe\">\n",
       "  <thead>\n",
       "    <tr style=\"text-align: right;\">\n",
       "      <th></th>\n",
       "      <th>name</th>\n",
       "      <th>address</th>\n",
       "    </tr>\n",
       "  </thead>\n",
       "  <tbody>\n",
       "    <tr>\n",
       "      <th>0</th>\n",
       "      <td>Chicago Commons Association St Catherine's - S...</td>\n",
       "      <td>27 Washington Oak Park IL 60302</td>\n",
       "    </tr>\n",
       "    <tr>\n",
       "      <th>1</th>\n",
       "      <td>Precious Little One's Learning Center Inc</td>\n",
       "      <td>221 E 51st St</td>\n",
       "    </tr>\n",
       "  </tbody>\n",
       "</table>\n",
       "</div>"
      ],
      "text/plain": [
       "                                                name  \\\n",
       "0  Chicago Commons Association St Catherine's - S...   \n",
       "1          Precious Little One's Learning Center Inc   \n",
       "\n",
       "                           address  \n",
       "0  27 Washington Oak Park IL 60302  \n",
       "1                    221 E 51st St  "
      ]
     },
     "execution_count": 3,
     "metadata": {},
     "output_type": "execute_result"
    }
   ],
   "source": [
    "df.head(2)"
   ]
  },
  {
   "cell_type": "markdown",
   "metadata": {},
   "source": [
    "Create a `Deduplicator` instance and provide the column names to be used for deduplication:"
   ]
  },
  {
   "cell_type": "code",
   "execution_count": 4,
   "metadata": {},
   "outputs": [],
   "source": [
    "from deduplipy.deduplicator import Deduplicator"
   ]
  },
  {
   "cell_type": "code",
   "execution_count": 5,
   "metadata": {},
   "outputs": [],
   "source": [
    "myDedupliPy = Deduplicator(['name', 'address'])"
   ]
  },
  {
   "cell_type": "markdown",
   "metadata": {},
   "source": [
    "Fit the `Deduplicator` by active learning; enter whether a pair is a match (y) or not (n). When the training is converged, you will be notified and you can finish training by entering 'f'."
   ]
  },
  {
   "cell_type": "code",
   "execution_count": 6,
   "metadata": {
    "scrolled": true,
    "tags": []
   },
   "outputs": [
    {
     "name": "stdout",
     "output_type": "stream",
     "text": [
      "\n",
      "Nr. 1 (0+/0-)\n",
      "Is this a match? (y)es, (n)o, (p)revious, (s)kip, (f)inish\n",
      "-> name_1       Precious Little One's Learning Center Inc\n",
      "address_1    221 E 51st St                            \n",
      "-> name_2       Precious Little One's Learning Center Inc\n",
      "address_2    221 E 51st St                            \n"
     ]
    },
    {
     "name": "stdin",
     "output_type": "stream",
     "text": [
      " y\n"
     ]
    },
    {
     "name": "stdout",
     "output_type": "stream",
     "text": [
      "\n",
      "Nr. 2 (1+/0-)\n",
      "Is this a match? (y)es, (n)o, (p)revious, (s)kip, (f)inish\n",
      "-> name_1       Precious Little One's Learning Center Inc\n",
      "address_1    221 E 51st St                            \n",
      "-> name_2       Bethel New Life - Lake and Pulaski\n",
      "address_2    316 N Pulaski Rd                  \n"
     ]
    },
    {
     "name": "stdin",
     "output_type": "stream",
     "text": [
      " n\n"
     ]
    },
    {
     "name": "stdout",
     "output_type": "stream",
     "text": [
      "\n",
      "Nr. 3 (1+/1-)\n",
      "Is this a match? (y)es, (n)o, (p)revious, (s)kip, (f)inish\n",
      "-> name_1       Catholic Charities - Our Lady of Lourdes\n",
      "address_1    1449 S Keeler                           \n",
      "-> name_2       CATHOLIC CHARITIES OF THE ARCHDIOCESE OF CHICAGO OUR LADY OF LOURDES\n",
      "address_2    1449 S KEELER                                                       \n"
     ]
    },
    {
     "name": "stdin",
     "output_type": "stream",
     "text": [
      " y\n"
     ]
    },
    {
     "name": "stdout",
     "output_type": "stream",
     "text": [
      "\n",
      "Nr. 4 (2+/1-)\n",
      "Is this a match? (y)es, (n)o, (p)revious, (s)kip, (f)inish\n",
      "-> name_1       Onward Neighborhood House - After School\n",
      "address_1    2158 W Ohio Street                      \n",
      "-> name_2       Erie Neighborhood House - Charter School - Cortez\n",
      "address_2    2510 W Cortez St                                 \n"
     ]
    },
    {
     "name": "stdin",
     "output_type": "stream",
     "text": [
      " n\n"
     ]
    },
    {
     "name": "stdout",
     "output_type": "stream",
     "text": [
      "\n",
      "Nr. 5 (2+/2-)\n",
      "Is this a match? (y)es, (n)o, (p)revious, (s)kip, (f)inish\n",
      "-> name_1       Henry Booth House Young Achievers Academy\n",
      "address_1    520 E 79TH St                            \n",
      "-> name_2       HENRY BOOTH HOUSE WEE CARE NURSERY\n",
      "address_2    1845 E 79TH STREET                \n"
     ]
    },
    {
     "name": "stdin",
     "output_type": "stream",
     "text": [
      " n\n"
     ]
    },
    {
     "name": "stdout",
     "output_type": "stream",
     "text": [
      "\n",
      "Nr. 6 (2+/3-)\n",
      "Is this a match? (y)es, (n)o, (p)revious, (s)kip, (f)inish\n",
      "-> name_1       Karen Cruz Children's Center - Karen Cruz Children's Center\n",
      "address_1    1507 W Sunnyside Ave                                       \n",
      "-> name_2       Greenview Children's Center\n",
      "address_2    1507 W Sunnyside Avenue    \n"
     ]
    },
    {
     "name": "stdin",
     "output_type": "stream",
     "text": [
      " f\n"
     ]
    },
    {
     "name": "stdout",
     "output_type": "stream",
     "text": [
      "recall threshold reached, recall = 1.0\n"
     ]
    },
    {
     "data": {
      "text/plain": [
       "<deduplipy.deduplicator.deduplicator.Deduplicator at 0x7f8576428430>"
      ]
     },
     "execution_count": 6,
     "metadata": {},
     "output_type": "execute_result"
    }
   ],
   "source": [
    "myDedupliPy.fit(df)"
   ]
  },
  {
   "cell_type": "markdown",
   "metadata": {},
   "source": [
    "Apply the trained `Deduplicator` on (new) data. The column `deduplication_id` is the identifier for a cluster. Rows with the same `deduplication_id` are found to be the same real world entity."
   ]
  },
  {
   "cell_type": "code",
   "execution_count": 8,
   "metadata": {},
   "outputs": [
    {
     "data": {
      "text/html": [
       "<div>\n",
       "<style scoped>\n",
       "    .dataframe tbody tr th:only-of-type {\n",
       "        vertical-align: middle;\n",
       "    }\n",
       "\n",
       "    .dataframe tbody tr th {\n",
       "        vertical-align: top;\n",
       "    }\n",
       "\n",
       "    .dataframe thead th {\n",
       "        text-align: right;\n",
       "    }\n",
       "</style>\n",
       "<table border=\"1\" class=\"dataframe\">\n",
       "  <thead>\n",
       "    <tr style=\"text-align: right;\">\n",
       "      <th></th>\n",
       "      <th>name</th>\n",
       "      <th>address</th>\n",
       "      <th>deduplication_id</th>\n",
       "    </tr>\n",
       "  </thead>\n",
       "  <tbody>\n",
       "    <tr>\n",
       "      <th>1161</th>\n",
       "      <td>Hammond</td>\n",
       "      <td>2819 W 21st Place</td>\n",
       "      <td>1</td>\n",
       "    </tr>\n",
       "    <tr>\n",
       "      <th>1162</th>\n",
       "      <td>Hammond</td>\n",
       "      <td>2819 W 21st Pl</td>\n",
       "      <td>1</td>\n",
       "    </tr>\n",
       "    <tr>\n",
       "      <th>561</th>\n",
       "      <td>Holden</td>\n",
       "      <td>1104 W 31st Street</td>\n",
       "      <td>2</td>\n",
       "    </tr>\n",
       "    <tr>\n",
       "      <th>560</th>\n",
       "      <td>Holden</td>\n",
       "      <td>1104 W 31St St</td>\n",
       "      <td>2</td>\n",
       "    </tr>\n",
       "    <tr>\n",
       "      <th>394</th>\n",
       "      <td>Aldridge</td>\n",
       "      <td>630 E 131St St</td>\n",
       "      <td>3</td>\n",
       "    </tr>\n",
       "    <tr>\n",
       "      <th>395</th>\n",
       "      <td>CHICAGO PUBLIC SCHOOLS ALDRIDGE IRA F</td>\n",
       "      <td>630 E 131ST ST</td>\n",
       "      <td>3</td>\n",
       "    </tr>\n",
       "    <tr>\n",
       "      <th>1202</th>\n",
       "      <td>Dorsey Developmental Institute III</td>\n",
       "      <td>2938 E 91st St</td>\n",
       "      <td>4</td>\n",
       "    </tr>\n",
       "    <tr>\n",
       "      <th>1201</th>\n",
       "      <td>Dorsey Developmental Institute III</td>\n",
       "      <td>2938 E 91st Street</td>\n",
       "      <td>4</td>\n",
       "    </tr>\n",
       "    <tr>\n",
       "      <th>1249</th>\n",
       "      <td>YMCA South Chicago School</td>\n",
       "      <td>3039 E 91st Street</td>\n",
       "      <td>5</td>\n",
       "    </tr>\n",
       "    <tr>\n",
       "      <th>1248</th>\n",
       "      <td>YMCA South Chicago</td>\n",
       "      <td>3039 E 91st St</td>\n",
       "      <td>5</td>\n",
       "    </tr>\n",
       "  </tbody>\n",
       "</table>\n",
       "</div>"
      ],
      "text/plain": [
       "                                       name             address  \\\n",
       "1161                                Hammond   2819 W 21st Place   \n",
       "1162                                Hammond      2819 W 21st Pl   \n",
       "561                                  Holden  1104 W 31st Street   \n",
       "560                                  Holden      1104 W 31St St   \n",
       "394                                Aldridge      630 E 131St St   \n",
       "395   CHICAGO PUBLIC SCHOOLS ALDRIDGE IRA F      630 E 131ST ST   \n",
       "1202     Dorsey Developmental Institute III      2938 E 91st St   \n",
       "1201     Dorsey Developmental Institute III  2938 E 91st Street   \n",
       "1249              YMCA South Chicago School  3039 E 91st Street   \n",
       "1248                     YMCA South Chicago      3039 E 91st St   \n",
       "\n",
       "      deduplication_id  \n",
       "1161                 1  \n",
       "1162                 1  \n",
       "561                  2  \n",
       "560                  2  \n",
       "394                  3  \n",
       "395                  3  \n",
       "1202                 4  \n",
       "1201                 4  \n",
       "1249                 5  \n",
       "1248                 5  "
      ]
     },
     "execution_count": 8,
     "metadata": {},
     "output_type": "execute_result"
    }
   ],
   "source": [
    "res = myDedupliPy.predict(df)\n",
    "res.sort_values('deduplication_id').head(10)"
   ]
  },
  {
   "cell_type": "markdown",
   "metadata": {},
   "source": [
    "The `Deduplicator` instance can be saved as a pickle file and be applied on new data after training:"
   ]
  },
  {
   "cell_type": "code",
   "execution_count": 9,
   "metadata": {},
   "outputs": [],
   "source": [
    "import pickle"
   ]
  },
  {
   "cell_type": "code",
   "execution_count": 10,
   "metadata": {},
   "outputs": [],
   "source": [
    "with open('mypickle.pkl', 'wb') as f:\n",
    "    pickle.dump(myDedupliPy, f)"
   ]
  },
  {
   "cell_type": "code",
   "execution_count": 11,
   "metadata": {},
   "outputs": [],
   "source": [
    "del(myDedupliPy)"
   ]
  },
  {
   "cell_type": "code",
   "execution_count": 14,
   "metadata": {},
   "outputs": [],
   "source": [
    "with open('mypickle.pkl', 'rb') as f:\n",
    "    loaded_obj = pickle.load(f)"
   ]
  },
  {
   "cell_type": "code",
   "execution_count": 17,
   "metadata": {},
   "outputs": [
    {
     "data": {
      "text/html": [
       "<div>\n",
       "<style scoped>\n",
       "    .dataframe tbody tr th:only-of-type {\n",
       "        vertical-align: middle;\n",
       "    }\n",
       "\n",
       "    .dataframe tbody tr th {\n",
       "        vertical-align: top;\n",
       "    }\n",
       "\n",
       "    .dataframe thead th {\n",
       "        text-align: right;\n",
       "    }\n",
       "</style>\n",
       "<table border=\"1\" class=\"dataframe\">\n",
       "  <thead>\n",
       "    <tr style=\"text-align: right;\">\n",
       "      <th></th>\n",
       "      <th>name</th>\n",
       "      <th>address</th>\n",
       "      <th>deduplication_id</th>\n",
       "    </tr>\n",
       "  </thead>\n",
       "  <tbody>\n",
       "    <tr>\n",
       "      <th>1161</th>\n",
       "      <td>Hammond</td>\n",
       "      <td>2819 W 21st Place</td>\n",
       "      <td>1</td>\n",
       "    </tr>\n",
       "    <tr>\n",
       "      <th>1162</th>\n",
       "      <td>Hammond</td>\n",
       "      <td>2819 W 21st Pl</td>\n",
       "      <td>1</td>\n",
       "    </tr>\n",
       "    <tr>\n",
       "      <th>561</th>\n",
       "      <td>Holden</td>\n",
       "      <td>1104 W 31st Street</td>\n",
       "      <td>2</td>\n",
       "    </tr>\n",
       "    <tr>\n",
       "      <th>560</th>\n",
       "      <td>Holden</td>\n",
       "      <td>1104 W 31St St</td>\n",
       "      <td>2</td>\n",
       "    </tr>\n",
       "    <tr>\n",
       "      <th>394</th>\n",
       "      <td>Aldridge</td>\n",
       "      <td>630 E 131St St</td>\n",
       "      <td>3</td>\n",
       "    </tr>\n",
       "    <tr>\n",
       "      <th>395</th>\n",
       "      <td>CHICAGO PUBLIC SCHOOLS ALDRIDGE IRA F</td>\n",
       "      <td>630 E 131ST ST</td>\n",
       "      <td>3</td>\n",
       "    </tr>\n",
       "    <tr>\n",
       "      <th>1202</th>\n",
       "      <td>Dorsey Developmental Institute III</td>\n",
       "      <td>2938 E 91st St</td>\n",
       "      <td>4</td>\n",
       "    </tr>\n",
       "    <tr>\n",
       "      <th>1201</th>\n",
       "      <td>Dorsey Developmental Institute III</td>\n",
       "      <td>2938 E 91st Street</td>\n",
       "      <td>4</td>\n",
       "    </tr>\n",
       "    <tr>\n",
       "      <th>1249</th>\n",
       "      <td>YMCA South Chicago School</td>\n",
       "      <td>3039 E 91st Street</td>\n",
       "      <td>5</td>\n",
       "    </tr>\n",
       "    <tr>\n",
       "      <th>1248</th>\n",
       "      <td>YMCA South Chicago</td>\n",
       "      <td>3039 E 91st St</td>\n",
       "      <td>5</td>\n",
       "    </tr>\n",
       "  </tbody>\n",
       "</table>\n",
       "</div>"
      ],
      "text/plain": [
       "                                       name             address  \\\n",
       "1161                                Hammond   2819 W 21st Place   \n",
       "1162                                Hammond      2819 W 21st Pl   \n",
       "561                                  Holden  1104 W 31st Street   \n",
       "560                                  Holden      1104 W 31St St   \n",
       "394                                Aldridge      630 E 131St St   \n",
       "395   CHICAGO PUBLIC SCHOOLS ALDRIDGE IRA F      630 E 131ST ST   \n",
       "1202     Dorsey Developmental Institute III      2938 E 91st St   \n",
       "1201     Dorsey Developmental Institute III  2938 E 91st Street   \n",
       "1249              YMCA South Chicago School  3039 E 91st Street   \n",
       "1248                     YMCA South Chicago      3039 E 91st St   \n",
       "\n",
       "      deduplication_id  \n",
       "1161                 1  \n",
       "1162                 1  \n",
       "561                  2  \n",
       "560                  2  \n",
       "394                  3  \n",
       "395                  3  \n",
       "1202                 4  \n",
       "1201                 4  \n",
       "1249                 5  \n",
       "1248                 5  "
      ]
     },
     "execution_count": 17,
     "metadata": {},
     "output_type": "execute_result"
    }
   ],
   "source": [
    "res = loaded_obj.predict(df)\n",
    "res.sort_values('deduplication_id').head(10)"
   ]
  }
 ],
 "metadata": {
  "kernelspec": {
   "display_name": "Python 3",
   "language": "python",
   "name": "python3"
  },
  "language_info": {
   "codemirror_mode": {
    "name": "ipython",
    "version": 3
   },
   "file_extension": ".py",
   "mimetype": "text/x-python",
   "name": "python",
   "nbconvert_exporter": "python",
   "pygments_lexer": "ipython3",
   "version": "3.8.8"
  }
 },
 "nbformat": 4,
 "nbformat_minor": 4
}
