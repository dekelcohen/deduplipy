{
 "cells": [
  {
   "cell_type": "markdown",
   "metadata": {},
   "source": [
    "# DedupliPy"
   ]
  },
  {
   "cell_type": "markdown",
   "metadata": {},
   "source": [
    "## Simple deduplication"
   ]
  },
  {
   "cell_type": "markdown",
   "metadata": {},
   "source": [
    "Load your data. In this example we take a sample dataset that comes with DedupliPy:"
   ]
  },
  {
   "cell_type": "code",
   "execution_count": 26,
   "metadata": {},
   "outputs": [],
   "source": [
    "# %load_ext autoreload\n",
    "# %autoreload 2\n"
   ]
  },
  {
   "cell_type": "code",
   "execution_count": 1,
   "metadata": {},
   "outputs": [],
   "source": [
    "%config Completer.use_jedi = False"
   ]
  },
  {
   "cell_type": "code",
   "execution_count": 2,
   "metadata": {},
   "outputs": [],
   "source": [
    "from deduplipy.datasets import load_data"
   ]
  },
  {
   "cell_type": "code",
   "execution_count": 3,
   "metadata": {},
   "outputs": [
    {
     "name": "stdout",
     "output_type": "stream",
     "text": [
      "Column names: 'name', 'suburb', 'postcode'\n"
     ]
    }
   ],
   "source": [
    "df = load_data(kind='voters')"
   ]
  },
  {
   "cell_type": "code",
   "execution_count": 4,
   "metadata": {},
   "outputs": [
    {
     "data": {
      "text/html": [
       "<div>\n",
       "<style scoped>\n",
       "    .dataframe tbody tr th:only-of-type {\n",
       "        vertical-align: middle;\n",
       "    }\n",
       "\n",
       "    .dataframe tbody tr th {\n",
       "        vertical-align: top;\n",
       "    }\n",
       "\n",
       "    .dataframe thead th {\n",
       "        text-align: right;\n",
       "    }\n",
       "</style>\n",
       "<table border=\"1\" class=\"dataframe\">\n",
       "  <thead>\n",
       "    <tr style=\"text-align: right;\">\n",
       "      <th></th>\n",
       "      <th>name</th>\n",
       "      <th>suburb</th>\n",
       "      <th>postcode</th>\n",
       "    </tr>\n",
       "  </thead>\n",
       "  <tbody>\n",
       "    <tr>\n",
       "      <th>0</th>\n",
       "      <td>khimerc thomas</td>\n",
       "      <td>charlotte</td>\n",
       "      <td>2826g</td>\n",
       "    </tr>\n",
       "    <tr>\n",
       "      <th>1</th>\n",
       "      <td>lucille richardst</td>\n",
       "      <td>kannapolis</td>\n",
       "      <td>28o81</td>\n",
       "    </tr>\n",
       "  </tbody>\n",
       "</table>\n",
       "</div>"
      ],
      "text/plain": [
       "                name      suburb postcode\n",
       "0     khimerc thomas   charlotte    2826g\n",
       "1  lucille richardst  kannapolis    28o81"
      ]
     },
     "execution_count": 4,
     "metadata": {},
     "output_type": "execute_result"
    }
   ],
   "source": [
    "df.head(2)"
   ]
  },
  {
   "cell_type": "markdown",
   "metadata": {},
   "source": [
    "Create a `Deduplicator` instance and provide the column names to be used for deduplication:"
   ]
  },
  {
   "cell_type": "code",
   "execution_count": 5,
   "metadata": {},
   "outputs": [],
   "source": [
    "from deduplipy.deduplicator import Deduplicator"
   ]
  },
  {
   "cell_type": "code",
   "execution_count": 6,
   "metadata": {},
   "outputs": [],
   "source": [
    "myDedupliPy = Deduplicator(['name', 'suburb', 'postcode'])"
   ]
  },
  {
   "cell_type": "markdown",
   "metadata": {},
   "source": [
    "Fit the `Deduplicator` by active learning; enter whether a pair is a match (y) or not (n). When the training is converged, you will be notified and you can finish training by entering 'f'."
   ]
  },
  {
   "cell_type": "code",
   "execution_count": 7,
   "metadata": {
    "scrolled": true,
    "tags": []
   },
   "outputs": [
    {
     "name": "stdout",
     "output_type": "stream",
     "text": [
      "\n",
      "Nr. 1 (0+/0-)\n",
      "Is this a match? (y)es, (n)o, (p)revious, (s)kip, (f)inish\n",
      "-> name_1        maleda mccloud\n",
      "suburb_1      goldsboro     \n",
      "postcode_1    2753o         \n",
      "-> name_2        maleda mccloud\n",
      "suburb_2      goldsboro     \n",
      "postcode_2    2753o         \n"
     ]
    },
    {
     "name": "stdin",
     "output_type": "stream",
     "text": [
      " y\n"
     ]
    },
    {
     "name": "stdout",
     "output_type": "stream",
     "text": [
      "\n",
      "Nr. 2 (1+/0-)\n",
      "Is this a match? (y)es, (n)o, (p)revious, (s)kip, (f)inish\n",
      "-> name_1        maleda mccloud\n",
      "suburb_1      goldsboro     \n",
      "postcode_1    2753o         \n",
      "-> name_2        kimmerly walden\n",
      "suburb_2      high pint      \n",
      "postcode_2    27760          \n"
     ]
    },
    {
     "name": "stdin",
     "output_type": "stream",
     "text": [
      " n\n"
     ]
    },
    {
     "name": "stdout",
     "output_type": "stream",
     "text": [
      "\n",
      "Nr. 3 (1+/1-)\n",
      "Is this a match? (y)es, (n)o, (p)revious, (s)kip, (f)inish\n",
      "-> name_1        jon miller\n",
      "suburb_1      charlotte \n",
      "postcode_1    28212     \n",
      "-> name_2        alan hope\n",
      "suburb_2      belmont  \n",
      "postcode_2    28012    \n"
     ]
    },
    {
     "name": "stdin",
     "output_type": "stream",
     "text": [
      " n\n"
     ]
    },
    {
     "name": "stdout",
     "output_type": "stream",
     "text": [
      "\n",
      "Nr. 4 (1+/2-)\n",
      "Is this a match? (y)es, (n)o, (p)revious, (s)kip, (f)inish\n",
      "-> name_1        maleda mccloud\n",
      "suburb_1      goldsboro     \n",
      "postcode_1    2753o         \n",
      "-> name_2        hannah griffin\n",
      "suburb_2      charlotte     \n",
      "postcode_2    28226         \n"
     ]
    },
    {
     "name": "stdin",
     "output_type": "stream",
     "text": [
      " n\n"
     ]
    },
    {
     "name": "stdout",
     "output_type": "stream",
     "text": [
      "\n",
      "Nr. 5 (1+/3-)\n",
      "Is this a match? (y)es, (n)o, (p)revious, (s)kip, (f)inish\n",
      "-> name_1        glenda norris\n",
      "suburb_1      hamlet       \n",
      "postcode_1    28345        \n",
      "-> name_2        glenda norris\n",
      "suburb_2      hamlet       \n",
      "postcode_2    28345        \n"
     ]
    },
    {
     "name": "stdin",
     "output_type": "stream",
     "text": [
      " y\n"
     ]
    },
    {
     "name": "stdout",
     "output_type": "stream",
     "text": [
      "\n",
      "Nr. 6 (2+/3-)\n",
      "Is this a match? (y)es, (n)o, (p)revious, (s)kip, (f)inish\n",
      "-> name_1        margaret youngblood\n",
      "suburb_1      winston salem      \n",
      "postcode_1    27101              \n",
      "-> name_2        margaret youngblood\n",
      "suburb_2      winston salem      \n",
      "postcode_2    27101              \n"
     ]
    },
    {
     "name": "stdin",
     "output_type": "stream",
     "text": [
      " y\n"
     ]
    },
    {
     "name": "stdout",
     "output_type": "stream",
     "text": [
      "\n",
      "Nr. 7 (3+/3-)\n",
      "Is this a match? (y)es, (n)o, (p)revious, (s)kip, (f)inish\n",
      "-> name_1        melissa kaltenbach\n",
      "suburb_1      charlotte         \n",
      "postcode_1    28211             \n",
      "-> name_2        melissa kaltenbach\n",
      "suburb_2      charlotte         \n",
      "postcode_2    28211             \n"
     ]
    },
    {
     "name": "stdin",
     "output_type": "stream",
     "text": [
      " y\n"
     ]
    },
    {
     "name": "stdout",
     "output_type": "stream",
     "text": [
      "\n",
      "Nr. 8 (4+/3-)\n",
      "Is this a match? (y)es, (n)o, (p)revious, (s)kip, (f)inish\n",
      "-> name_1        timotyh wiese\n",
      "suburb_1      charl0tte    \n",
      "postcode_1    28273        \n",
      "-> name_2        dellys perez castillo\n",
      "suburb_2      fayetteville         \n",
      "postcode_2    28304                \n"
     ]
    },
    {
     "name": "stdin",
     "output_type": "stream",
     "text": [
      " n\n"
     ]
    },
    {
     "name": "stdout",
     "output_type": "stream",
     "text": [
      "\n",
      "Nr. 9 (4+/4-)\n",
      "Is this a match? (y)es, (n)o, (p)revious, (s)kip, (f)inish\n",
      "-> name_1        timotyh wiese\n",
      "suburb_1      charl0tte    \n",
      "postcode_1    28273        \n",
      "-> name_2        derek oliver\n",
      "suburb_2      charlotte   \n",
      "postcode_2    28210       \n"
     ]
    },
    {
     "name": "stdin",
     "output_type": "stream",
     "text": [
      " n\n"
     ]
    },
    {
     "name": "stdout",
     "output_type": "stream",
     "text": [
      "\n",
      "Nr. 10 (4+/5-)\n",
      "Is this a match? (y)es, (n)o, (p)revious, (s)kip, (f)inish\n",
      "-> name_1        durman smith\n",
      "suburb_1      china grove \n",
      "postcode_1    28023       \n",
      "-> name_2        daahlene smith\n",
      "suburb_2      linclonton    \n",
      "postcode_2    28092         \n"
     ]
    },
    {
     "name": "stdin",
     "output_type": "stream",
     "text": [
      " n\n"
     ]
    },
    {
     "name": "stdout",
     "output_type": "stream",
     "text": [
      "\n",
      "Nr. 11 (4+/6-)\n",
      "Is this a match? (y)es, (n)o, (p)revious, (s)kip, (f)inish\n",
      "-> name_1        daryl perry \n",
      "suburb_1      fayetteville\n",
      "postcode_1    2830l       \n",
      "-> name_2        donald barriey\n",
      "suburb_2      fayetteville  \n",
      "postcode_2    283o3         \n"
     ]
    },
    {
     "name": "stdin",
     "output_type": "stream",
     "text": [
      " n\n"
     ]
    },
    {
     "name": "stdout",
     "output_type": "stream",
     "text": [
      "\n",
      "Nr. 12 (4+/7-)\n",
      "Is this a match? (y)es, (n)o, (p)revious, (s)kip, (f)inish\n",
      "-> name_1        cody williams\n",
      "suburb_1      ralwigh      \n",
      "postcode_1    276|2        \n",
      "-> name_2        crqig williams\n",
      "suburb_2      winston-salem \n",
      "postcode_2    27l27         \n"
     ]
    },
    {
     "name": "stdin",
     "output_type": "stream",
     "text": [
      " n\n"
     ]
    },
    {
     "name": "stdout",
     "output_type": "stream",
     "text": [
      "\n",
      "Nr. 13 (4+/8-)\n",
      "Is this a match? (y)es, (n)o, (p)revious, (s)kip, (f)inish\n",
      "-> name_1        p smith  \n",
      "suburb_1      ellenhoro\n",
      "postcode_1    28050    \n",
      "-> name_2        p smith  \n",
      "suburb_2      ellenhoro\n",
      "postcode_2    28050    \n"
     ]
    },
    {
     "name": "stdin",
     "output_type": "stream",
     "text": [
      " y\n"
     ]
    },
    {
     "name": "stdout",
     "output_type": "stream",
     "text": [
      "\n",
      "Nr. 14 (5+/8-)\n",
      "Is this a match? (y)es, (n)o, (p)revious, (s)kip, (f)inish\n",
      "-> name_1        melissa kaltenbach\n",
      "suburb_1      charlotte         \n",
      "postcode_1    28211             \n",
      "-> name_2        misha wallace\n",
      "suburb_2      charlotte    \n",
      "postcode_2    28211        \n"
     ]
    },
    {
     "name": "stdin",
     "output_type": "stream",
     "text": [
      " n\n"
     ]
    },
    {
     "name": "stdout",
     "output_type": "stream",
     "text": [
      "\n",
      "Nr. 15 (5+/9-)\n",
      "Is this a match? (y)es, (n)o, (p)revious, (s)kip, (f)inish\n",
      "-> name_1        curtis hake\n",
      "suburb_1      carie      \n",
      "postcode_1    27519      \n",
      "-> name_2        iouri petraev\n",
      "suburb_2      car7         \n",
      "postcode_2    27519        \n"
     ]
    },
    {
     "name": "stdin",
     "output_type": "stream",
     "text": [
      " n\n"
     ]
    },
    {
     "name": "stdout",
     "output_type": "stream",
     "text": [
      "\n",
      "Nr. 16 (5+/10-)\n",
      "Is this a match? (y)es, (n)o, (p)revious, (s)kip, (f)inish\n",
      "-> name_1        jay yuan\n",
      "suburb_1      ralegih \n",
      "postcode_1    276o7   \n",
      "-> name_2        jay yuan\n",
      "suburb_2      ralegih \n",
      "postcode_2    276o7   \n"
     ]
    },
    {
     "name": "stdin",
     "output_type": "stream",
     "text": [
      " f\n"
     ]
    },
    {
     "name": "stdout",
     "output_type": "stream",
     "text": [
      "recall threshold reached, recall = 1.0\n"
     ]
    },
    {
     "data": {
      "text/plain": [
       "Deduplicator\n",
       "  - col_names = ['name', 'suburb', 'postcode']\n",
       "  - field_info = {'name': ['adjusted_ratio', 'adjusted_token_sort_ratio'], 'suburb': ['adjusted_ratio', 'adjusted_token_sort_ratio'], 'postcode': ['adjusted_ratio', 'adjusted_token_sort_ratio']}\n",
       "  - interaction = False\n",
       "  - rules_info = {'name': ['whole_field', 'first_word', 'first_two_words', 'first_three_letters', 'first_four_letters', 'first_five_letters', 'first_three_letters_no_space', 'first_four_letters_no_space', 'first_five_letters_no_space', 'sorted_integers', 'first_integer', 'last_integer', 'largest_integer', 'three_letter_abbreviation'], 'suburb': ['whole_field', 'first_word', 'first_two_words', 'first_three_letters', 'first_four_letters', 'first_five_letters', 'first_three_letters_no_space', 'first_four_letters_no_space', 'first_five_letters_no_space', 'sorted_integers', 'first_integer', 'last_integer', 'largest_integer', 'three_letter_abbreviation'], 'postcode': ['whole_field', 'first_word', 'first_two_words', 'first_three_letters', 'first_four_letters', 'first_five_letters', 'first_three_letters_no_space', 'first_four_letters_no_space', 'first_five_letters_no_space', 'sorted_integers', 'first_integer', 'last_integer', 'largest_integer', 'three_letter_abbreviation']}\n",
       "  - recall = 1.0"
      ]
     },
     "execution_count": 7,
     "metadata": {},
     "output_type": "execute_result"
    }
   ],
   "source": [
    "myDedupliPy.fit(df)"
   ]
  },
  {
   "cell_type": "markdown",
   "metadata": {},
   "source": [
    "Apply the trained `Deduplicator` on (new) data. The column `deduplication_id` is the identifier for a cluster. Rows with the same `deduplication_id` are found to be the same real world entity."
   ]
  },
  {
   "cell_type": "code",
   "execution_count": 8,
   "metadata": {},
   "outputs": [
    {
     "data": {
      "text/html": [
       "<div>\n",
       "<style scoped>\n",
       "    .dataframe tbody tr th:only-of-type {\n",
       "        vertical-align: middle;\n",
       "    }\n",
       "\n",
       "    .dataframe tbody tr th {\n",
       "        vertical-align: top;\n",
       "    }\n",
       "\n",
       "    .dataframe thead th {\n",
       "        text-align: right;\n",
       "    }\n",
       "</style>\n",
       "<table border=\"1\" class=\"dataframe\">\n",
       "  <thead>\n",
       "    <tr style=\"text-align: right;\">\n",
       "      <th></th>\n",
       "      <th>name</th>\n",
       "      <th>suburb</th>\n",
       "      <th>postcode</th>\n",
       "      <th>deduplication_id</th>\n",
       "    </tr>\n",
       "  </thead>\n",
       "  <tbody>\n",
       "    <tr>\n",
       "      <th>1131</th>\n",
       "      <td>youssef masmoudi</td>\n",
       "      <td>charlotte</td>\n",
       "      <td>28277</td>\n",
       "      <td>1</td>\n",
       "    </tr>\n",
       "    <tr>\n",
       "      <th>140</th>\n",
       "      <td>yossef masmoudi</td>\n",
       "      <td>carlotte</td>\n",
       "      <td>28277</td>\n",
       "      <td>1</td>\n",
       "    </tr>\n",
       "    <tr>\n",
       "      <th>111</th>\n",
       "      <td>vincejt sivillo</td>\n",
       "      <td>charlodte</td>\n",
       "      <td>28203</td>\n",
       "      <td>2</td>\n",
       "    </tr>\n",
       "    <tr>\n",
       "      <th>1267</th>\n",
       "      <td>vincent sivillo</td>\n",
       "      <td>charlotte</td>\n",
       "      <td>28203</td>\n",
       "      <td>2</td>\n",
       "    </tr>\n",
       "    <tr>\n",
       "      <th>39</th>\n",
       "      <td>l douglas loujdin</td>\n",
       "      <td>charlotte</td>\n",
       "      <td>28225</td>\n",
       "      <td>3</td>\n",
       "    </tr>\n",
       "    <tr>\n",
       "      <th>1139</th>\n",
       "      <td>l douglas loudin</td>\n",
       "      <td>charlotte</td>\n",
       "      <td>28205</td>\n",
       "      <td>3</td>\n",
       "    </tr>\n",
       "    <tr>\n",
       "      <th>134</th>\n",
       "      <td>quianha pope</td>\n",
       "      <td>charlotre</td>\n",
       "      <td>28213</td>\n",
       "      <td>4</td>\n",
       "    </tr>\n",
       "    <tr>\n",
       "      <th>1589</th>\n",
       "      <td>quianna pope</td>\n",
       "      <td>charlotte</td>\n",
       "      <td>28213</td>\n",
       "      <td>4</td>\n",
       "    </tr>\n",
       "    <tr>\n",
       "      <th>1232</th>\n",
       "      <td>robert goudzwaard</td>\n",
       "      <td>charlotte</td>\n",
       "      <td>28210</td>\n",
       "      <td>5</td>\n",
       "    </tr>\n",
       "    <tr>\n",
       "      <th>84</th>\n",
       "      <td>tobert goudzwaard</td>\n",
       "      <td>charlltte</td>\n",
       "      <td>28210</td>\n",
       "      <td>5</td>\n",
       "    </tr>\n",
       "  </tbody>\n",
       "</table>\n",
       "</div>"
      ],
      "text/plain": [
       "                   name     suburb postcode  deduplication_id\n",
       "1131   youssef masmoudi  charlotte    28277                 1\n",
       "140     yossef masmoudi   carlotte    28277                 1\n",
       "111     vincejt sivillo  charlodte    28203                 2\n",
       "1267    vincent sivillo  charlotte    28203                 2\n",
       "39    l douglas loujdin  charlotte    28225                 3\n",
       "1139   l douglas loudin  charlotte    28205                 3\n",
       "134        quianha pope  charlotre    28213                 4\n",
       "1589       quianna pope  charlotte    28213                 4\n",
       "1232  robert goudzwaard  charlotte    28210                 5\n",
       "84    tobert goudzwaard  charlltte    28210                 5"
      ]
     },
     "execution_count": 8,
     "metadata": {},
     "output_type": "execute_result"
    }
   ],
   "source": [
    "res = myDedupliPy.predict(df)\n",
    "res.sort_values('deduplication_id').head(10)"
   ]
  },
  {
   "cell_type": "markdown",
   "metadata": {},
   "source": [
    "The `Deduplicator` instance can be saved as a pickle file and be applied on new data after training:"
   ]
  },
  {
   "cell_type": "code",
   "execution_count": 9,
   "metadata": {},
   "outputs": [],
   "source": [
    "import pickle"
   ]
  },
  {
   "cell_type": "code",
   "execution_count": 10,
   "metadata": {},
   "outputs": [
    {
     "name": "stdout",
     "output_type": "stream",
     "text": [
      "INFO:tensorflow:Assets written to: ram:///var/folders/rs/460dh_k91b3ctlxz9h9g3k080000gp/T/tmp6lj323lv/assets\n"
     ]
    }
   ],
   "source": [
    "with open('mypickle.pkl', 'wb') as f:\n",
    "    pickle.dump(myDedupliPy, f)"
   ]
  },
  {
   "cell_type": "code",
   "execution_count": 11,
   "metadata": {},
   "outputs": [],
   "source": [
    "with open('mypickle.pkl', 'rb') as f:\n",
    "    loaded_obj = pickle.load(f)"
   ]
  },
  {
   "cell_type": "code",
   "execution_count": 12,
   "metadata": {},
   "outputs": [
    {
     "data": {
      "text/html": [
       "<div>\n",
       "<style scoped>\n",
       "    .dataframe tbody tr th:only-of-type {\n",
       "        vertical-align: middle;\n",
       "    }\n",
       "\n",
       "    .dataframe tbody tr th {\n",
       "        vertical-align: top;\n",
       "    }\n",
       "\n",
       "    .dataframe thead th {\n",
       "        text-align: right;\n",
       "    }\n",
       "</style>\n",
       "<table border=\"1\" class=\"dataframe\">\n",
       "  <thead>\n",
       "    <tr style=\"text-align: right;\">\n",
       "      <th></th>\n",
       "      <th>name</th>\n",
       "      <th>suburb</th>\n",
       "      <th>postcode</th>\n",
       "      <th>deduplication_id</th>\n",
       "    </tr>\n",
       "  </thead>\n",
       "  <tbody>\n",
       "    <tr>\n",
       "      <th>1131</th>\n",
       "      <td>youssef masmoudi</td>\n",
       "      <td>charlotte</td>\n",
       "      <td>28277</td>\n",
       "      <td>1</td>\n",
       "    </tr>\n",
       "    <tr>\n",
       "      <th>140</th>\n",
       "      <td>yossef masmoudi</td>\n",
       "      <td>carlotte</td>\n",
       "      <td>28277</td>\n",
       "      <td>1</td>\n",
       "    </tr>\n",
       "    <tr>\n",
       "      <th>111</th>\n",
       "      <td>vincejt sivillo</td>\n",
       "      <td>charlodte</td>\n",
       "      <td>28203</td>\n",
       "      <td>2</td>\n",
       "    </tr>\n",
       "    <tr>\n",
       "      <th>1267</th>\n",
       "      <td>vincent sivillo</td>\n",
       "      <td>charlotte</td>\n",
       "      <td>28203</td>\n",
       "      <td>2</td>\n",
       "    </tr>\n",
       "    <tr>\n",
       "      <th>39</th>\n",
       "      <td>l douglas loujdin</td>\n",
       "      <td>charlotte</td>\n",
       "      <td>28225</td>\n",
       "      <td>3</td>\n",
       "    </tr>\n",
       "    <tr>\n",
       "      <th>1139</th>\n",
       "      <td>l douglas loudin</td>\n",
       "      <td>charlotte</td>\n",
       "      <td>28205</td>\n",
       "      <td>3</td>\n",
       "    </tr>\n",
       "    <tr>\n",
       "      <th>134</th>\n",
       "      <td>quianha pope</td>\n",
       "      <td>charlotre</td>\n",
       "      <td>28213</td>\n",
       "      <td>4</td>\n",
       "    </tr>\n",
       "    <tr>\n",
       "      <th>1589</th>\n",
       "      <td>quianna pope</td>\n",
       "      <td>charlotte</td>\n",
       "      <td>28213</td>\n",
       "      <td>4</td>\n",
       "    </tr>\n",
       "    <tr>\n",
       "      <th>1232</th>\n",
       "      <td>robert goudzwaard</td>\n",
       "      <td>charlotte</td>\n",
       "      <td>28210</td>\n",
       "      <td>5</td>\n",
       "    </tr>\n",
       "    <tr>\n",
       "      <th>84</th>\n",
       "      <td>tobert goudzwaard</td>\n",
       "      <td>charlltte</td>\n",
       "      <td>28210</td>\n",
       "      <td>5</td>\n",
       "    </tr>\n",
       "  </tbody>\n",
       "</table>\n",
       "</div>"
      ],
      "text/plain": [
       "                   name     suburb postcode  deduplication_id\n",
       "1131   youssef masmoudi  charlotte    28277                 1\n",
       "140     yossef masmoudi   carlotte    28277                 1\n",
       "111     vincejt sivillo  charlodte    28203                 2\n",
       "1267    vincent sivillo  charlotte    28203                 2\n",
       "39    l douglas loujdin  charlotte    28225                 3\n",
       "1139   l douglas loudin  charlotte    28205                 3\n",
       "134        quianha pope  charlotre    28213                 4\n",
       "1589       quianna pope  charlotte    28213                 4\n",
       "1232  robert goudzwaard  charlotte    28210                 5\n",
       "84    tobert goudzwaard  charlltte    28210                 5"
      ]
     },
     "execution_count": 12,
     "metadata": {},
     "output_type": "execute_result"
    }
   ],
   "source": [
    "res = loaded_obj.predict(df)\n",
    "res.sort_values('deduplication_id').head(10)"
   ]
  },
  {
   "cell_type": "code",
   "execution_count": null,
   "metadata": {},
   "outputs": [],
   "source": []
  },
  {
   "cell_type": "code",
   "execution_count": null,
   "metadata": {},
   "outputs": [],
   "source": []
  },
  {
   "cell_type": "code",
   "execution_count": null,
   "metadata": {},
   "outputs": [],
   "source": []
  },
  {
   "cell_type": "code",
   "execution_count": null,
   "metadata": {},
   "outputs": [],
   "source": []
  },
  {
   "cell_type": "code",
   "execution_count": null,
   "metadata": {},
   "outputs": [],
   "source": []
  },
  {
   "cell_type": "code",
   "execution_count": null,
   "metadata": {},
   "outputs": [],
   "source": []
  },
  {
   "cell_type": "code",
   "execution_count": null,
   "metadata": {},
   "outputs": [],
   "source": []
  },
  {
   "cell_type": "code",
   "execution_count": null,
   "metadata": {},
   "outputs": [],
   "source": []
  }
 ],
 "metadata": {
  "kernelspec": {
   "display_name": "Python 3",
   "language": "python",
   "name": "python3"
  },
  "language_info": {
   "codemirror_mode": {
    "name": "ipython",
    "version": 3
   },
   "file_extension": ".py",
   "mimetype": "text/x-python",
   "name": "python",
   "nbconvert_exporter": "python",
   "pygments_lexer": "ipython3",
   "version": "3.8.8"
  }
 },
 "nbformat": 4,
 "nbformat_minor": 4
}
