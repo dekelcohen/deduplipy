{
 "cells": [
  {
   "cell_type": "code",
   "execution_count": 4,
   "metadata": {},
   "outputs": [
    {
     "name": "stdout",
     "output_type": "stream",
     "text": [
      "The autoreload extension is already loaded. To reload it, use:\n",
      "  %reload_ext autoreload\n"
     ]
    }
   ],
   "source": [
    "%matplotlib inline\n",
    "%config Completer.use_jedi = False\n",
    "%load_ext autoreload\n",
    "%autoreload 2\n",
    "\n",
    "import os\n",
    "from itertools import product\n",
    "import heapq\n",
    "import re\n",
    "\n",
    "import pandas as pd\n",
    "import numpy as np\n",
    "\n",
    "from modAL.models import ActiveLearner\n",
    "from modAL.uncertainty import uncertainty_sampling\n",
    "\n",
    "from IPython import display\n",
    "from matplotlib import pyplot as plt\n",
    "\n",
    "from sklearn.base import BaseEstimator\n",
    "from sklearn.model_selection import train_test_split\n",
    "from sklearn.ensemble import RandomForestClassifier\n",
    "from sklearn.linear_model import LogisticRegression, LogisticRegressionCV\n",
    "from sklearn.metrics import accuracy_score, f1_score, average_precision_score\n",
    "from sklearn.pipeline import make_pipeline\n",
    "from sklearn.preprocessing import StandardScaler, PolynomialFeatures\n",
    "\n",
    "from fuzzywuzzy.fuzz import ratio, token_set_ratio, token_sort_ratio, partial_ratio"
   ]
  },
  {
   "cell_type": "code",
   "execution_count": 5,
   "metadata": {},
   "outputs": [],
   "source": [
    "from datasets import load_data\n",
    "from deduplipy.active_learning import ActiveStringMatchLearner\n",
    "from deduplipy.string_matcher import StringMatcher\n",
    "from deduplipy.blocking import Blocking\n",
    "from deduplipy.clustering import hierarchical_clustering\n",
    "from deduplipy.deduplicator import Deduplicator"
   ]
  },
  {
   "cell_type": "code",
   "execution_count": 6,
   "metadata": {},
   "outputs": [],
   "source": [
    "pd.set_option('display.max_columns', 100)\n",
    "pd.set_option('display.max_row', 500)\n",
    "pd.set_option('display.max_colwidth', 200)"
   ]
  },
  {
   "cell_type": "markdown",
   "metadata": {},
   "source": [
    "## Load data "
   ]
  },
  {
   "cell_type": "code",
   "execution_count": 7,
   "metadata": {},
   "outputs": [],
   "source": [
    "X_train, X_test, y_train, y_test = load_data()"
   ]
  },
  {
   "cell_type": "markdown",
   "metadata": {},
   "source": [
    "## StringMatcher"
   ]
  },
  {
   "cell_type": "code",
   "execution_count": 8,
   "metadata": {},
   "outputs": [],
   "source": [
    "myStringMatcher = StringMatcher().fit(X_train, y_train)"
   ]
  },
  {
   "cell_type": "code",
   "execution_count": 9,
   "metadata": {},
   "outputs": [
    {
     "data": {
      "text/plain": [
       "0.986449864498645"
      ]
     },
     "execution_count": 9,
     "metadata": {},
     "output_type": "execute_result"
    }
   ],
   "source": [
    "myStringMatcher.score(X_train, y_train)"
   ]
  },
  {
   "cell_type": "code",
   "execution_count": 10,
   "metadata": {},
   "outputs": [
    {
     "data": {
      "text/plain": [
       "0.975609756097561"
      ]
     },
     "execution_count": 10,
     "metadata": {},
     "output_type": "execute_result"
    }
   ],
   "source": [
    "myStringMatcher.score(X_test, y_test)"
   ]
  },
  {
   "cell_type": "code",
   "execution_count": 11,
   "metadata": {},
   "outputs": [
    {
     "data": {
      "text/plain": [
       "0.9991828361749664"
      ]
     },
     "execution_count": 11,
     "metadata": {},
     "output_type": "execute_result"
    }
   ],
   "source": [
    "average_precision_score(y_train, myStringMatcher.predict_proba(X_train)[:,1])"
   ]
  },
  {
   "cell_type": "code",
   "execution_count": 12,
   "metadata": {},
   "outputs": [
    {
     "data": {
      "text/plain": [
       "0.9986269646166851"
      ]
     },
     "execution_count": 12,
     "metadata": {},
     "output_type": "execute_result"
    }
   ],
   "source": [
    "average_precision_score(y_test, myStringMatcher.predict_proba(X_test)[:,1])"
   ]
  },
  {
   "cell_type": "markdown",
   "metadata": {},
   "source": [
    "## Active learning"
   ]
  },
  {
   "cell_type": "code",
   "execution_count": 13,
   "metadata": {},
   "outputs": [],
   "source": [
    "n_initial = 2"
   ]
  },
  {
   "cell_type": "code",
   "execution_count": 14,
   "metadata": {},
   "outputs": [],
   "source": [
    "X_initial, X_pool, y_initial, y_pool = train_test_split(X_train, y_train, train_size=n_initial, stratify=y_train)"
   ]
  },
  {
   "cell_type": "code",
   "execution_count": 15,
   "metadata": {},
   "outputs": [
    {
     "data": {
      "text/plain": [
       "0.9721362229102167"
      ]
     },
     "execution_count": 15,
     "metadata": {},
     "output_type": "execute_result"
    }
   ],
   "source": [
    "StringMatcher().fit(X_initial, y_initial).score(X_test, y_test)"
   ]
  },
  {
   "cell_type": "code",
   "execution_count": 16,
   "metadata": {},
   "outputs": [
    {
     "data": {
      "text/plain": [
       "0.975609756097561"
      ]
     },
     "execution_count": 16,
     "metadata": {},
     "output_type": "execute_result"
    }
   ],
   "source": [
    "StringMatcher().fit(X_train, y_train).score(X_test, y_test)"
   ]
  },
  {
   "cell_type": "code",
   "execution_count": 17,
   "metadata": {},
   "outputs": [],
   "source": [
    "myActiveLearner = ActiveStringMatchLearner(X_initial, y_initial, n_queries=20)"
   ]
  },
  {
   "cell_type": "code",
   "execution_count": 18,
   "metadata": {
    "scrolled": true
   },
   "outputs": [
    {
     "name": "stdout",
     "output_type": "stream",
     "text": [
      "\n",
      "1/20 [0.37043145 0.37043145 0.37043145 0.37043145]\n",
      "Is this a match?\n",
      "-> bnp paribas sa paris\n",
      "-> bnp paribas sa 16 boulevard des italiens 75009 france\n"
     ]
    },
    {
     "name": "stdin",
     "output_type": "stream",
     "text": [
      " y\n"
     ]
    },
    {
     "name": "stdout",
     "output_type": "stream",
     "text": [
      "\n",
      "2/20 [0.34004534 0.48584379 0.55653434 0.27457653]\n",
      "Is this a match?\n",
      "-> bnp paribas sa paris\n",
      "-> axa sa 75008 paris france\n"
     ]
    },
    {
     "name": "stdin",
     "output_type": "stream",
     "text": [
      " n\n"
     ]
    },
    {
     "name": "stdout",
     "output_type": "stream",
     "text": [
      "\n",
      "3/20 [0.32314749 0.57960843 0.58861461 0.15793533]\n",
      "Is this a match?\n",
      "-> danone s a  15  rue du helder paris france\n",
      "-> essilorluxottica 1 6 rue paul cezanne paris france\n"
     ]
    },
    {
     "name": "stdin",
     "output_type": "stream",
     "text": [
      " \n"
     ]
    },
    {
     "name": "stdout",
     "output_type": "stream",
     "text": [
      "Wrong input!\n"
     ]
    },
    {
     "name": "stdin",
     "output_type": "stream",
     "text": [
      " n\n"
     ]
    },
    {
     "name": "stdout",
     "output_type": "stream",
     "text": [
      "\n",
      "4/20 [ 0.26641127  0.66791722  0.69726937 -0.04651161]\n",
      "Is this a match?\n",
      "-> eni s p a  piazzale enrico mattei 1 rome italy\n",
      "-> eni s p a  rm 00144 rome italy\n"
     ]
    },
    {
     "name": "stdin",
     "output_type": "stream",
     "text": [
      " y\n"
     ]
    },
    {
     "name": "stdout",
     "output_type": "stream",
     "text": [
      "\n",
      "5/20 [0.37834246 0.42831235 0.84501967 0.09465863]\n",
      "Is this a match?\n",
      "-> telefonica  s a  ronda de la comunicacion\n",
      "-> telefonica  s a  28050 madrid\n"
     ]
    },
    {
     "name": "stdin",
     "output_type": "stream",
     "text": [
      " y\n"
     ]
    },
    {
     "name": "stdout",
     "output_type": "stream",
     "text": [
      "\n",
      "6/20 [0.3148192  0.47866036 0.84236858 0.14190461]\n",
      "Is this a match?\n",
      "-> engie sa 1  place samuel de champlain 92400 france\n",
      "-> engie sa 92400 courbevoie france\n"
     ]
    },
    {
     "name": "stdin",
     "output_type": "stream",
     "text": [
      " y\n"
     ]
    },
    {
     "name": "stdout",
     "output_type": "stream",
     "text": [
      "\n",
      "7/20 [0.20268339 0.33099464 1.00441754 0.26320664]\n",
      "Is this a match?\n",
      "-> l air liquide s a  75007 paris france\n",
      "-> sanofi 54  rue la boetie 75008 paris france\n"
     ]
    },
    {
     "name": "stdin",
     "output_type": "stream",
     "text": [
      " n\n"
     ]
    },
    {
     "name": "stdout",
     "output_type": "stream",
     "text": [
      "\n",
      "8/20 [0.04777733 0.19396337 1.1633721  0.15696785]\n",
      "Is this a match?\n",
      "-> telefonica  s a  28050 madrid\n",
      "-> telefonica  s a  ronda de la comunicacion\n"
     ]
    },
    {
     "name": "stdin",
     "output_type": "stream",
     "text": [
      " y\n"
     ]
    },
    {
     "name": "stdout",
     "output_type": "stream",
     "text": [
      "\n",
      "9/20 [0.09189256 0.20713614 1.15166827 0.21784915]\n",
      "Is this a match?\n",
      "-> total s a  paris\n",
      "-> orange s a  75015 paris france\n"
     ]
    },
    {
     "name": "stdin",
     "output_type": "stream",
     "text": [
      " n\n"
     ]
    },
    {
     "name": "stdout",
     "output_type": "stream",
     "text": [
      "\n",
      "10/20 [-0.03042021  0.26413328  1.00929043  0.53522591]\n",
      "Is this a match?\n",
      "-> basf se 67056 ludwigshafen am rhein  germany\n",
      "-> basf se carl bosch strasse 38 67056 germany\n"
     ]
    },
    {
     "name": "stdin",
     "output_type": "stream",
     "text": [
      " y\n"
     ]
    },
    {
     "name": "stdout",
     "output_type": "stream",
     "text": [
      "\n",
      "11/20 [-0.20950149  0.01491826  1.04074384  0.63785949]\n",
      "Is this a match?\n",
      "-> basf se carl bosch strasse 38 67056 germany\n",
      "-> basf se 67056 ludwigshafen am rhein  germany\n"
     ]
    },
    {
     "name": "stdin",
     "output_type": "stream",
     "text": [
      " y\n"
     ]
    },
    {
     "name": "stdout",
     "output_type": "stream",
     "text": [
      "\n",
      "12/20 [-0.31514531 -0.16664642  1.09430502  0.64012239]\n",
      "Is this a match?\n",
      "-> banco santander  s a  28660 madrid spain\n",
      "-> axa sa 75008 paris france\n"
     ]
    },
    {
     "name": "stdin",
     "output_type": "stream",
     "text": [
      " n\n"
     ]
    },
    {
     "name": "stdout",
     "output_type": "stream",
     "text": [
      "\n",
      "13/20 [ 0.12859429 -0.13461667  1.11518889  0.53049161]\n",
      "Is this a match?\n",
      "-> bnp paribas sa 16 boulevard des italiens 75009 france\n",
      "-> bnp paribas sa paris\n"
     ]
    },
    {
     "name": "stdin",
     "output_type": "stream",
     "text": [
      " y\n"
     ]
    },
    {
     "name": "stdout",
     "output_type": "stream",
     "text": [
      "\n",
      "14/20 [0.02866199 0.00264299 1.24586097 0.39790134]\n",
      "Is this a match?\n",
      "-> sap se dietmar hopp allee 16\n",
      "-> sap se 69190\n"
     ]
    },
    {
     "name": "stdin",
     "output_type": "stream",
     "text": [
      " y\n"
     ]
    },
    {
     "name": "stdout",
     "output_type": "stream",
     "text": [
      "\n",
      "15/20 [-0.09423697  0.02188789  1.28854132  0.27832569]\n",
      "Is this a match?\n",
      "-> sap se 69190\n",
      "-> sap se dietmar hopp allee 16\n"
     ]
    },
    {
     "name": "stdin",
     "output_type": "stream",
     "text": [
      " y\n"
     ]
    },
    {
     "name": "stdout",
     "output_type": "stream",
     "text": [
      "\n",
      "16/20 [-0.18803496  0.04301829  1.33166615  0.18614896]\n",
      "Is this a match?\n",
      "-> sap se 69190 germany\n",
      "-> fresenius se   co  kgaa else kroner strasse 1 bad homburg vor der hohe germany\n"
     ]
    },
    {
     "name": "stdin",
     "output_type": "stream",
     "text": [
      " n\n"
     ]
    },
    {
     "name": "stdout",
     "output_type": "stream",
     "text": [
      "\n",
      "17/20 [-8.54580651e-04 -6.58063729e-03  1.24455905e+00  4.12433053e-01]\n",
      "Is this a match?\n",
      "-> allianz se 80802 munich germany\n",
      "-> bayerische motoren werke aktiengesellschaft munich germany\n"
     ]
    },
    {
     "name": "stdin",
     "output_type": "stream",
     "text": [
      " n\n"
     ]
    },
    {
     "name": "stdout",
     "output_type": "stream",
     "text": [
      "\n",
      "18/20 [ 0.0806031  -0.14785544  1.33445437  0.39024256]\n",
      "Is this a match?\n",
      "-> telefonica  s a  ronda de la comunicacion 28050 madrid spain\n",
      "-> banco santander  s a  28660 madrid spain\n"
     ]
    },
    {
     "name": "stdin",
     "output_type": "stream",
     "text": [
      " n\n"
     ]
    },
    {
     "name": "stdout",
     "output_type": "stream",
     "text": [
      "\n",
      "19/20 [ 0.02368309 -0.1052929   1.42409973  0.38786293]\n",
      "Is this a match?\n",
      "-> sanofi 54  rue la boetie 75008 paris france\n",
      "-> engie sa 92400 courbevoie france\n"
     ]
    },
    {
     "name": "stdin",
     "output_type": "stream",
     "text": [
      " n\n"
     ]
    },
    {
     "name": "stdout",
     "output_type": "stream",
     "text": [
      "\n",
      "20/20 [ 0.0578809  -0.12989386  1.5107898   0.34920031]\n",
      "Is this a match?\n",
      "-> orange s a  78  rue olivier de serres 75015 paris france\n",
      "-> bnp paribas sa 16 boulevard des italiens 75009 france\n"
     ]
    },
    {
     "name": "stdin",
     "output_type": "stream",
     "text": [
      " n\n"
     ]
    }
   ],
   "source": [
    "myActiveLearner.fit(X_pool)"
   ]
  },
  {
   "cell_type": "code",
   "execution_count": 19,
   "metadata": {},
   "outputs": [
    {
     "data": {
      "image/png": "[encoded data removed]",
      "text/plain": [
       "<Figure size 432x288 with 1 Axes>"
      ]
     },
     "metadata": {
      "needs_background": "light"
     },
     "output_type": "display_data"
    }
   ],
   "source": [
    "plt.plot(np.vstack(myActiveLearner.parameters));\n",
    "plt.legend(['ratio', 'partial_ratio', 'tokenset', 'tokensort']);"
   ]
  },
  {
   "cell_type": "markdown",
   "metadata": {},
   "source": [
    "## Blocking"
   ]
  },
  {
   "cell_type": "code",
   "execution_count": 20,
   "metadata": {},
   "outputs": [],
   "source": [
    "X_training = myActiveLearner.learner.X_training\n",
    "y_training = myActiveLearner.learner.y_training"
   ]
  },
  {
   "cell_type": "code",
   "execution_count": 21,
   "metadata": {},
   "outputs": [],
   "source": [
    "myBlocking = Blocking('col').fit(X_training, y_training)"
   ]
  },
  {
   "cell_type": "code",
   "execution_count": 22,
   "metadata": {},
   "outputs": [
    {
     "data": {
      "text/plain": [
       "['first_word',\n",
       " 'first_two_words',\n",
       " 'first_three_letters',\n",
       " 'first_four_letters',\n",
       " 'first_five_letters',\n",
       " 'first_three_letters_no_space',\n",
       " 'first_four_letters_no_space',\n",
       " 'first_five_letters_no_space']"
      ]
     },
     "execution_count": 22,
     "metadata": {},
     "output_type": "execute_result"
    }
   ],
   "source": [
    "myBlocking.rules_selected"
   ]
  },
  {
   "cell_type": "code",
   "execution_count": 23,
   "metadata": {},
   "outputs": [
    {
     "data": {
      "text/html": [
       "<div>\n",
       "<style scoped>\n",
       "    .dataframe tbody tr th:only-of-type {\n",
       "        vertical-align: middle;\n",
       "    }\n",
       "\n",
       "    .dataframe tbody tr th {\n",
       "        vertical-align: top;\n",
       "    }\n",
       "\n",
       "    .dataframe thead th {\n",
       "        text-align: right;\n",
       "    }\n",
       "</style>\n",
       "<table border=\"1\" class=\"dataframe\">\n",
       "  <thead>\n",
       "    <tr style=\"text-align: right;\">\n",
       "      <th></th>\n",
       "      <th>col_1</th>\n",
       "      <th>fingerprint</th>\n",
       "      <th>col_2</th>\n",
       "    </tr>\n",
       "  </thead>\n",
       "  <tbody>\n",
       "    <tr>\n",
       "      <th>0</th>\n",
       "      <td>banco bilbao vizcaya argentaria  s a  48005 bilbao spain</td>\n",
       "      <td>banco:0</td>\n",
       "      <td>banco bilbao vizcaya argentaria  s a  48005 bilbao spain</td>\n",
       "    </tr>\n",
       "    <tr>\n",
       "      <th>1</th>\n",
       "      <td>banco bilbao vizcaya argentaria  s a  48005 bilbao spain</td>\n",
       "      <td>banco:0</td>\n",
       "      <td>banco santander  s a  28660 madrid spain</td>\n",
       "    </tr>\n",
       "  </tbody>\n",
       "</table>\n",
       "</div>"
      ],
      "text/plain": [
       "                                                      col_1 fingerprint  \\\n",
       "0  banco bilbao vizcaya argentaria  s a  48005 bilbao spain     banco:0   \n",
       "1  banco bilbao vizcaya argentaria  s a  48005 bilbao spain     banco:0   \n",
       "\n",
       "                                                      col_2  \n",
       "0  banco bilbao vizcaya argentaria  s a  48005 bilbao spain  \n",
       "1                  banco santander  s a  28660 madrid spain  "
      ]
     },
     "execution_count": 23,
     "metadata": {},
     "output_type": "execute_result"
    }
   ],
   "source": [
    "pairs_table = myBlocking.transform(X_pool[:,0])\n",
    "pairs_table.head(2)"
   ]
  },
  {
   "cell_type": "code",
   "execution_count": null,
   "metadata": {},
   "outputs": [],
   "source": []
  },
  {
   "cell_type": "markdown",
   "metadata": {},
   "source": [
    "## Scoring"
   ]
  },
  {
   "cell_type": "code",
   "execution_count": 24,
   "metadata": {},
   "outputs": [],
   "source": [
    "scored_pairs_table = pairs_table.copy()"
   ]
  },
  {
   "cell_type": "code",
   "execution_count": 25,
   "metadata": {},
   "outputs": [],
   "source": [
    "scored_pairs_table['score'] = myActiveLearner.predict_proba(pairs_table[['col_1', 'col_2']].values)[:,1]"
   ]
  },
  {
   "cell_type": "code",
   "execution_count": 26,
   "metadata": {},
   "outputs": [],
   "source": [
    "scored_pairs_table.loc[scored_pairs_table.col_1==scored_pairs_table.col_2, 'score'] = 1"
   ]
  },
  {
   "cell_type": "code",
   "execution_count": 27,
   "metadata": {},
   "outputs": [
    {
     "data": {
      "text/html": [
       "<div>\n",
       "<style scoped>\n",
       "    .dataframe tbody tr th:only-of-type {\n",
       "        vertical-align: middle;\n",
       "    }\n",
       "\n",
       "    .dataframe tbody tr th {\n",
       "        vertical-align: top;\n",
       "    }\n",
       "\n",
       "    .dataframe thead th {\n",
       "        text-align: right;\n",
       "    }\n",
       "</style>\n",
       "<table border=\"1\" class=\"dataframe\">\n",
       "  <thead>\n",
       "    <tr style=\"text-align: right;\">\n",
       "      <th></th>\n",
       "      <th>col_1</th>\n",
       "      <th>fingerprint</th>\n",
       "      <th>col_2</th>\n",
       "      <th>score</th>\n",
       "    </tr>\n",
       "  </thead>\n",
       "  <tbody>\n",
       "    <tr>\n",
       "      <th>0</th>\n",
       "      <td>banco bilbao vizcaya argentaria  s a  48005 bilbao spain</td>\n",
       "      <td>banco:0</td>\n",
       "      <td>banco bilbao vizcaya argentaria  s a  48005 bilbao spain</td>\n",
       "      <td>1.000000</td>\n",
       "    </tr>\n",
       "    <tr>\n",
       "      <th>1</th>\n",
       "      <td>banco bilbao vizcaya argentaria  s a  48005 bilbao spain</td>\n",
       "      <td>banco:0</td>\n",
       "      <td>banco santander  s a  28660 madrid spain</td>\n",
       "      <td>0.282174</td>\n",
       "    </tr>\n",
       "  </tbody>\n",
       "</table>\n",
       "</div>"
      ],
      "text/plain": [
       "                                                      col_1 fingerprint  \\\n",
       "0  banco bilbao vizcaya argentaria  s a  48005 bilbao spain     banco:0   \n",
       "1  banco bilbao vizcaya argentaria  s a  48005 bilbao spain     banco:0   \n",
       "\n",
       "                                                      col_2     score  \n",
       "0  banco bilbao vizcaya argentaria  s a  48005 bilbao spain  1.000000  \n",
       "1                  banco santander  s a  28660 madrid spain  0.282174  "
      ]
     },
     "execution_count": 27,
     "metadata": {},
     "output_type": "execute_result"
    }
   ],
   "source": [
    "scored_pairs_table.head(2)"
   ]
  },
  {
   "cell_type": "code",
   "execution_count": null,
   "metadata": {},
   "outputs": [],
   "source": []
  },
  {
   "cell_type": "markdown",
   "metadata": {},
   "source": [
    "## Hierarchical clustering"
   ]
  },
  {
   "cell_type": "code",
   "execution_count": 28,
   "metadata": {},
   "outputs": [
    {
     "data": {
      "text/html": [
       "<div>\n",
       "<style scoped>\n",
       "    .dataframe tbody tr th:only-of-type {\n",
       "        vertical-align: middle;\n",
       "    }\n",
       "\n",
       "    .dataframe tbody tr th {\n",
       "        vertical-align: top;\n",
       "    }\n",
       "\n",
       "    .dataframe thead th {\n",
       "        text-align: right;\n",
       "    }\n",
       "</style>\n",
       "<table border=\"1\" class=\"dataframe\">\n",
       "  <thead>\n",
       "    <tr style=\"text-align: right;\">\n",
       "      <th></th>\n",
       "      <th>cluster_id</th>\n",
       "    </tr>\n",
       "  </thead>\n",
       "  <tbody>\n",
       "    <tr>\n",
       "      <th>banco bilbao vizcaya argentaria  s a  bilbao</th>\n",
       "      <td>1</td>\n",
       "    </tr>\n",
       "    <tr>\n",
       "      <th>banco bilbao vizcaya argentaria  s a  48005 bilbao spain</th>\n",
       "      <td>1</td>\n",
       "    </tr>\n",
       "    <tr>\n",
       "      <th>banco bilbao vizcaya argentaria  s a  plaza san nicolas  4 48005 spain</th>\n",
       "      <td>1</td>\n",
       "    </tr>\n",
       "    <tr>\n",
       "      <th>banco santander  s a  28660 madrid spain</th>\n",
       "      <td>2</td>\n",
       "    </tr>\n",
       "    <tr>\n",
       "      <th>banco santander  s a  28660 madrid</th>\n",
       "      <td>2</td>\n",
       "    </tr>\n",
       "  </tbody>\n",
       "</table>\n",
       "</div>"
      ],
      "text/plain": [
       "                                                                        cluster_id\n",
       "banco bilbao vizcaya argentaria  s a  bilbao                                     1\n",
       "banco bilbao vizcaya argentaria  s a  48005 bilbao spain                         1\n",
       "banco bilbao vizcaya argentaria  s a  plaza san nicolas  4 48005 spain           1\n",
       "banco santander  s a  28660 madrid spain                                         2\n",
       "banco santander  s a  28660 madrid                                               2"
      ]
     },
     "execution_count": 28,
     "metadata": {},
     "output_type": "execute_result"
    }
   ],
   "source": [
    "df_clusters = hierarchical_clustering(scored_pairs_table)\n",
    "df_clusters.head()"
   ]
  },
  {
   "cell_type": "code",
   "execution_count": null,
   "metadata": {},
   "outputs": [],
   "source": []
  },
  {
   "cell_type": "markdown",
   "metadata": {},
   "source": [
    "## All in one"
   ]
  },
  {
   "cell_type": "code",
   "execution_count": 30,
   "metadata": {},
   "outputs": [],
   "source": [
    "myDedupliPy = Deduplicator(X_initial, y_initial, 'col', 10)"
   ]
  },
  {
   "cell_type": "code",
   "execution_count": 31,
   "metadata": {
    "scrolled": true
   },
   "outputs": [
    {
     "name": "stdout",
     "output_type": "stream",
     "text": [
      "\n",
      "1/10 [0.37043145 0.37043145 0.37043145 0.37043145]\n",
      "Is this a match?\n",
      "-> bnp paribas sa paris\n",
      "-> bnp paribas sa 16 boulevard des italiens 75009 france\n"
     ]
    },
    {
     "name": "stdin",
     "output_type": "stream",
     "text": [
      " y\n"
     ]
    },
    {
     "name": "stdout",
     "output_type": "stream",
     "text": [
      "\n",
      "2/10 [0.34004534 0.48584379 0.55653434 0.27457653]\n",
      "Is this a match?\n",
      "-> bnp paribas sa paris\n",
      "-> axa sa 75008 paris france\n"
     ]
    },
    {
     "name": "stdin",
     "output_type": "stream",
     "text": [
      " n\n"
     ]
    },
    {
     "name": "stdout",
     "output_type": "stream",
     "text": [
      "\n",
      "3/10 [0.32314749 0.57960843 0.58861461 0.15793533]\n",
      "Is this a match?\n",
      "-> danone s a  15  rue du helder paris france\n",
      "-> essilorluxottica 1 6 rue paul cezanne paris france\n"
     ]
    },
    {
     "name": "stdin",
     "output_type": "stream",
     "text": [
      " n\n"
     ]
    },
    {
     "name": "stdout",
     "output_type": "stream",
     "text": [
      "\n",
      "4/10 [ 0.26641127  0.66791722  0.69726937 -0.04651161]\n",
      "Is this a match?\n",
      "-> eni s p a  piazzale enrico mattei 1 rome italy\n",
      "-> eni s p a  rm 00144 rome italy\n"
     ]
    },
    {
     "name": "stdin",
     "output_type": "stream",
     "text": [
      " y\n"
     ]
    },
    {
     "name": "stdout",
     "output_type": "stream",
     "text": [
      "\n",
      "5/10 [0.37834246 0.42831235 0.84501967 0.09465863]\n",
      "Is this a match?\n",
      "-> telefonica  s a  ronda de la comunicacion\n",
      "-> telefonica  s a  28050 madrid\n"
     ]
    },
    {
     "name": "stdin",
     "output_type": "stream",
     "text": [
      " y\n"
     ]
    },
    {
     "name": "stdout",
     "output_type": "stream",
     "text": [
      "\n",
      "6/10 [0.3148192  0.47866036 0.84236858 0.14190461]\n",
      "Is this a match?\n",
      "-> engie sa 1  place samuel de champlain 92400 france\n",
      "-> engie sa 92400 courbevoie france\n"
     ]
    },
    {
     "name": "stdin",
     "output_type": "stream",
     "text": [
      " y\n"
     ]
    },
    {
     "name": "stdout",
     "output_type": "stream",
     "text": [
      "\n",
      "7/10 [0.20268339 0.33099464 1.00441754 0.26320664]\n",
      "Is this a match?\n",
      "-> l air liquide s a  75007 paris france\n",
      "-> sanofi 54  rue la boetie 75008 paris france\n"
     ]
    },
    {
     "name": "stdin",
     "output_type": "stream",
     "text": [
      " n\n"
     ]
    },
    {
     "name": "stdout",
     "output_type": "stream",
     "text": [
      "\n",
      "8/10 [0.04777733 0.19396337 1.1633721  0.15696785]\n",
      "Is this a match?\n",
      "-> telefonica  s a  28050 madrid\n",
      "-> telefonica  s a  ronda de la comunicacion\n"
     ]
    },
    {
     "name": "stdin",
     "output_type": "stream",
     "text": [
      " y\n"
     ]
    },
    {
     "name": "stdout",
     "output_type": "stream",
     "text": [
      "\n",
      "9/10 [0.09189256 0.20713614 1.15166827 0.21784915]\n",
      "Is this a match?\n",
      "-> total s a  paris\n",
      "-> orange s a  75015 paris france\n"
     ]
    },
    {
     "name": "stdin",
     "output_type": "stream",
     "text": [
      " n\n"
     ]
    },
    {
     "name": "stdout",
     "output_type": "stream",
     "text": [
      "\n",
      "10/10 [-0.03042021  0.26413328  1.00929043  0.53522591]\n",
      "Is this a match?\n",
      "-> basf se 67056 ludwigshafen am rhein  germany\n",
      "-> basf se carl bosch strasse 38 67056 germany\n"
     ]
    },
    {
     "name": "stdin",
     "output_type": "stream",
     "text": [
      " y\n"
     ]
    },
    {
     "data": {
      "text/plain": [
       "<deduplipy.deduplicator.deduplicator.Deduplicator at 0x7f966f078610>"
      ]
     },
     "execution_count": 31,
     "metadata": {},
     "output_type": "execute_result"
    }
   ],
   "source": [
    "myDedupliPy.fit(X_pool)"
   ]
  },
  {
   "cell_type": "code",
   "execution_count": 32,
   "metadata": {},
   "outputs": [
    {
     "data": {
      "text/html": [
       "<div>\n",
       "<style scoped>\n",
       "    .dataframe tbody tr th:only-of-type {\n",
       "        vertical-align: middle;\n",
       "    }\n",
       "\n",
       "    .dataframe tbody tr th {\n",
       "        vertical-align: top;\n",
       "    }\n",
       "\n",
       "    .dataframe thead th {\n",
       "        text-align: right;\n",
       "    }\n",
       "</style>\n",
       "<table border=\"1\" class=\"dataframe\">\n",
       "  <thead>\n",
       "    <tr style=\"text-align: right;\">\n",
       "      <th></th>\n",
       "      <th>cluster_id</th>\n",
       "    </tr>\n",
       "  </thead>\n",
       "  <tbody>\n",
       "    <tr>\n",
       "      <th>banco santander  s a  28660 madrid spain</th>\n",
       "      <td>1</td>\n",
       "    </tr>\n",
       "    <tr>\n",
       "      <th>banco santander  s a  28660 madrid</th>\n",
       "      <td>1</td>\n",
       "    </tr>\n",
       "    <tr>\n",
       "      <th>banco santander  s a  28660</th>\n",
       "      <td>1</td>\n",
       "    </tr>\n",
       "    <tr>\n",
       "      <th>banco bilbao vizcaya argentaria  s a  bilbao</th>\n",
       "      <td>2</td>\n",
       "    </tr>\n",
       "    <tr>\n",
       "      <th>banco bilbao vizcaya argentaria  s a  48005 bilbao spain</th>\n",
       "      <td>2</td>\n",
       "    </tr>\n",
       "  </tbody>\n",
       "</table>\n",
       "</div>"
      ],
      "text/plain": [
       "                                                          cluster_id\n",
       "banco santander  s a  28660 madrid spain                           1\n",
       "banco santander  s a  28660 madrid                                 1\n",
       "banco santander  s a  28660                                        1\n",
       "banco bilbao vizcaya argentaria  s a  bilbao                       2\n",
       "banco bilbao vizcaya argentaria  s a  48005 bilbao spain           2"
      ]
     },
     "execution_count": 32,
     "metadata": {},
     "output_type": "execute_result"
    }
   ],
   "source": [
    "res = myDedupliPy.predict(X_pool)\n",
    "res.head()"
   ]
  },
  {
   "cell_type": "code",
   "execution_count": null,
   "metadata": {},
   "outputs": [],
   "source": []
  },
  {
   "cell_type": "code",
   "execution_count": null,
   "metadata": {},
   "outputs": [],
   "source": []
  },
  {
   "cell_type": "code",
   "execution_count": null,
   "metadata": {},
   "outputs": [],
   "source": []
  },
  {
   "cell_type": "code",
   "execution_count": null,
   "metadata": {},
   "outputs": [],
   "source": []
  },
  {
   "cell_type": "code",
   "execution_count": null,
   "metadata": {},
   "outputs": [],
   "source": []
  }
 ],
 "metadata": {
  "kernelspec": {
   "display_name": "Python 3",
   "language": "python",
   "name": "python3"
  },
  "language_info": {
   "codemirror_mode": {
    "name": "ipython",
    "version": 3
   },
   "file_extension": ".py",
   "mimetype": "text/x-python",
   "name": "python",
   "nbconvert_exporter": "python",
   "pygments_lexer": "ipython3",
   "version": "3.8.5"
  }
 },
 "nbformat": 4,
 "nbformat_minor": 4
}
