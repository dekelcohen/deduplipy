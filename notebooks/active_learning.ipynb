{
 "cells": [
  {
   "cell_type": "code",
   "execution_count": 1,
   "metadata": {},
   "outputs": [
    {
     "name": "stderr",
     "output_type": "stream",
     "text": [
      "/Users/fritshermans/opt/anaconda3/lib/python3.8/site-packages/fuzzywuzzy/fuzz.py:11: UserWarning: Using slow pure-python SequenceMatcher. Install python-Levenshtein to remove this warning\n",
      "  warnings.warn('Using slow pure-python SequenceMatcher. Install python-Levenshtein to remove this warning')\n"
     ]
    }
   ],
   "source": [
    "%matplotlib inline\n",
    "%config Completer.use_jedi = False\n",
    "%load_ext autoreload\n",
    "%autoreload 2\n",
    "\n",
    "import os\n",
    "from itertools import product\n",
    "import heapq\n",
    "import re\n",
    "\n",
    "import pandas as pd\n",
    "import numpy as np\n",
    "\n",
    "from modAL.models import ActiveLearner\n",
    "from modAL.uncertainty import uncertainty_sampling\n",
    "\n",
    "from IPython import display\n",
    "from matplotlib import pyplot as plt\n",
    "\n",
    "from sklearn.base import BaseEstimator\n",
    "from sklearn.model_selection import train_test_split\n",
    "from sklearn.ensemble import RandomForestClassifier\n",
    "from sklearn.linear_model import LogisticRegression, LogisticRegressionCV\n",
    "from sklearn.metrics import accuracy_score, f1_score, average_precision_score\n",
    "from sklearn.pipeline import make_pipeline\n",
    "from sklearn.preprocessing import StandardScaler, PolynomialFeatures\n",
    "\n",
    "from fuzzywuzzy.fuzz import ratio, token_set_ratio, token_sort_ratio, partial_ratio"
   ]
  },
  {
   "cell_type": "code",
   "execution_count": 2,
   "metadata": {},
   "outputs": [],
   "source": [
    "from datasets import load_data\n",
    "from deduplipy.active_learning import ActiveStringMatchLearner\n",
    "from deduplipy.string_matcher import StringMatcher\n",
    "from deduplipy.blocking import Blocking\n",
    "from deduplipy.clustering import hierarchical_clustering\n",
    "from deduplipy.deduplicator import Deduplicator"
   ]
  },
  {
   "cell_type": "code",
   "execution_count": 3,
   "metadata": {},
   "outputs": [],
   "source": [
    "pd.set_option('display.max_columns', 100)\n",
    "pd.set_option('display.max_row', 500)\n",
    "pd.set_option('display.max_colwidth', 200)"
   ]
  },
  {
   "cell_type": "markdown",
   "metadata": {},
   "source": [
    "## Load data "
   ]
  },
  {
   "cell_type": "code",
   "execution_count": 4,
   "metadata": {},
   "outputs": [],
   "source": [
    "X_train, X_test, y_train, y_test = load_data(return_pairs=True)"
   ]
  },
  {
   "cell_type": "markdown",
   "metadata": {},
   "source": [
    "## StringMatcher"
   ]
  },
  {
   "cell_type": "code",
   "execution_count": 29,
   "metadata": {},
   "outputs": [],
   "source": [
    "myStringMatcher = StringMatcher().fit(X_train, y_train)"
   ]
  },
  {
   "cell_type": "code",
   "execution_count": 30,
   "metadata": {},
   "outputs": [
    {
     "data": {
      "text/plain": [
       "0.9798115746971737"
      ]
     },
     "execution_count": 30,
     "metadata": {},
     "output_type": "execute_result"
    }
   ],
   "source": [
    "myStringMatcher.score(X_train, y_train)"
   ]
  },
  {
   "cell_type": "code",
   "execution_count": 31,
   "metadata": {},
   "outputs": [
    {
     "data": {
      "text/plain": [
       "0.975609756097561"
      ]
     },
     "execution_count": 31,
     "metadata": {},
     "output_type": "execute_result"
    }
   ],
   "source": [
    "myStringMatcher.score(X_test, y_test)"
   ]
  },
  {
   "cell_type": "code",
   "execution_count": 32,
   "metadata": {},
   "outputs": [
    {
     "data": {
      "text/plain": [
       "0.9990666716835914"
      ]
     },
     "execution_count": 32,
     "metadata": {},
     "output_type": "execute_result"
    }
   ],
   "source": [
    "average_precision_score(y_train, myStringMatcher.predict_proba(X_train)[:,1])"
   ]
  },
  {
   "cell_type": "code",
   "execution_count": 33,
   "metadata": {},
   "outputs": [
    {
     "data": {
      "text/plain": [
       "0.9979152913250496"
      ]
     },
     "execution_count": 33,
     "metadata": {},
     "output_type": "execute_result"
    }
   ],
   "source": [
    "average_precision_score(y_test, myStringMatcher.predict_proba(X_test)[:,1])"
   ]
  },
  {
   "cell_type": "markdown",
   "metadata": {},
   "source": [
    "## Active learning"
   ]
  },
  {
   "cell_type": "code",
   "execution_count": 12,
   "metadata": {},
   "outputs": [],
   "source": [
    "n_initial = 2"
   ]
  },
  {
   "cell_type": "code",
   "execution_count": 13,
   "metadata": {},
   "outputs": [],
   "source": [
    "X_initial, X_pool, y_initial, y_pool = train_test_split(X_train, y_train, train_size=n_initial, stratify=y_train)"
   ]
  },
  {
   "cell_type": "code",
   "execution_count": 36,
   "metadata": {},
   "outputs": [
    {
     "data": {
      "text/plain": [
       "0.9751552795031055"
      ]
     },
     "execution_count": 36,
     "metadata": {},
     "output_type": "execute_result"
    }
   ],
   "source": [
    "StringMatcher().fit(X_initial, y_initial).score(X_test, y_test)"
   ]
  },
  {
   "cell_type": "code",
   "execution_count": 37,
   "metadata": {},
   "outputs": [
    {
     "data": {
      "text/plain": [
       "0.975609756097561"
      ]
     },
     "execution_count": 37,
     "metadata": {},
     "output_type": "execute_result"
    }
   ],
   "source": [
    "StringMatcher().fit(X_train, y_train).score(X_test, y_test)"
   ]
  },
  {
   "cell_type": "code",
   "execution_count": 38,
   "metadata": {},
   "outputs": [],
   "source": [
    "myActiveLearner = ActiveStringMatchLearner(X_initial, y_initial, n_queries=20)"
   ]
  },
  {
   "cell_type": "code",
   "execution_count": 39,
   "metadata": {
    "scrolled": true
   },
   "outputs": [
    {
     "name": "stdout",
     "output_type": "stream",
     "text": [
      "\n",
      "1/20 [0.37043145 0.37043145 0.37043145 0.37043145]\n",
      "Is this a match?\n",
      "-> telefonica  s a  28050 madrid\n",
      "-> telefonica  s a  ronda de la comunicacion\n"
     ]
    },
    {
     "name": "stdin",
     "output_type": "stream",
     "text": [
      " y\n"
     ]
    },
    {
     "name": "stdout",
     "output_type": "stream",
     "text": [
      "\n",
      "2/20 [0.37703931 0.4549379  0.46078839 0.3913879 ]\n",
      "Is this a match?\n",
      "-> basf se carl bosch strasse 38 67056 germany\n",
      "-> basf se 67056 ludwigshafen am rhein  germany\n"
     ]
    },
    {
     "name": "stdin",
     "output_type": "stream",
     "text": [
      " y\n"
     ]
    },
    {
     "name": "stdout",
     "output_type": "stream",
     "text": [
      "\n",
      "3/20 [0.37908004 0.42273531 0.66036153 0.40342308]\n",
      "Is this a match?\n",
      "-> fresenius se   co  kgaa else kroner strasse 1 61352 bad homburg vor der hohe germany\n",
      "-> adidas ag adi dassler strasse 1 91074 germany\n"
     ]
    },
    {
     "name": "stdin",
     "output_type": "stream",
     "text": [
      " n\n"
     ]
    },
    {
     "name": "stdout",
     "output_type": "stream",
     "text": [
      "\n",
      "4/20 [0.41888574 0.43945549 0.56267575 0.43468391]\n",
      "Is this a match?\n",
      "-> sap se 69190\n",
      "-> sap se dietmar hopp allee 16\n"
     ]
    },
    {
     "name": "stdin",
     "output_type": "stream",
     "text": [
      " n\n"
     ]
    },
    {
     "name": "stdout",
     "output_type": "stream",
     "text": [
      "\n",
      "5/20 [0.55417646 0.2652821  0.43136517 0.58761041]\n",
      "Is this a match?\n",
      "-> banco santander  s a  28660 madrid spain\n",
      "-> telefonica  s a  28050 madrid\n"
     ]
    },
    {
     "name": "stdin",
     "output_type": "stream",
     "text": [
      " n\n"
     ]
    },
    {
     "name": "stdout",
     "output_type": "stream",
     "text": [
      "\n",
      "6/20 [0.51513824 0.02519865 0.59493054 0.61634211]\n",
      "Is this a match?\n",
      "-> bnp paribas sa 16 boulevard des italiens 75009 france\n",
      "-> bnp paribas sa paris\n"
     ]
    },
    {
     "name": "stdin",
     "output_type": "stream",
     "text": [
      " y\n"
     ]
    },
    {
     "name": "stdout",
     "output_type": "stream",
     "text": [
      "\n",
      "7/20 [0.4891335  0.26341857 0.82632731 0.38847741]\n",
      "Is this a match?\n",
      "-> basf se 67056 ludwigshafen am rhein  germany\n",
      "-> basf se carl bosch strasse 38 67056 germany\n"
     ]
    },
    {
     "name": "stdin",
     "output_type": "stream",
     "text": [
      " y\n"
     ]
    },
    {
     "name": "stdout",
     "output_type": "stream",
     "text": [
      "\n",
      "8/20 [0.48925013 0.07039967 0.90810055 0.56011072]\n",
      "Is this a match?\n",
      "-> fresenius se   co  kgaa else kroner strasse 1 61352 germany\n",
      "-> basf se carl bosch strasse 38 67056 germany\n"
     ]
    },
    {
     "name": "stdin",
     "output_type": "stream",
     "text": [
      " n\n"
     ]
    },
    {
     "name": "stdout",
     "output_type": "stream",
     "text": [
      "\n",
      "9/20 [ 0.41341907 -0.09949217  1.04853882  0.51288626]\n",
      "Is this a match?\n",
      "-> danone s a  15  rue du helder 75439 paris france\n",
      "-> total s a  paris\n"
     ]
    },
    {
     "name": "stdin",
     "output_type": "stream",
     "text": [
      " n\n"
     ]
    },
    {
     "name": "stdout",
     "output_type": "stream",
     "text": [
      "\n",
      "10/20 [ 0.52502964 -0.01679659  0.90965418  0.72477741]\n",
      "Is this a match?\n",
      "-> bnp paribas sa paris\n",
      "-> bnp paribas sa 16 boulevard des italiens 75009 france\n"
     ]
    },
    {
     "name": "stdin",
     "output_type": "stream",
     "text": [
      " y\n"
     ]
    },
    {
     "name": "stdout",
     "output_type": "stream",
     "text": [
      "\n",
      "11/20 [0.57881936 0.12056713 1.04804739 0.62101345]\n",
      "Is this a match?\n",
      "-> safran sa paris france\n",
      "-> societe generale societe 29  boulevard haussmann 75009 paris france\n"
     ]
    },
    {
     "name": "stdin",
     "output_type": "stream",
     "text": [
      " n\n"
     ]
    },
    {
     "name": "stdout",
     "output_type": "stream",
     "text": [
      "\n",
      "12/20 [ 0.72978896 -0.050774    1.06943102  0.7080929 ]\n",
      "Is this a match?\n",
      "-> orange s a  paris\n",
      "-> danone s a  15  rue du helder paris france\n"
     ]
    },
    {
     "name": "stdin",
     "output_type": "stream",
     "text": [
      " n\n"
     ]
    },
    {
     "name": "stdout",
     "output_type": "stream",
     "text": [
      "\n",
      "13/20 [ 0.81324818 -0.0472363   0.97690787  0.51667997]\n",
      "Is this a match?\n",
      "-> axa sa 75008 paris france\n",
      "-> orange s a  paris\n"
     ]
    },
    {
     "name": "stdin",
     "output_type": "stream",
     "text": [
      " n\n"
     ]
    },
    {
     "name": "stdout",
     "output_type": "stream",
     "text": [
      "\n",
      "14/20 [ 1.03741534 -0.16564787  0.97013107  0.19286045]\n",
      "Is this a match?\n",
      "-> bayer aktiengesellschaft\n",
      "-> munchener ruckversicherungs gesellschaft aktiengesellschaft koniginstrasse 107\n"
     ]
    },
    {
     "name": "stdin",
     "output_type": "stream",
     "text": [
      " n\n"
     ]
    },
    {
     "name": "stdout",
     "output_type": "stream",
     "text": [
      "\n",
      "15/20 [ 1.20897993 -0.35180503  0.84861659  0.1706576 ]\n",
      "Is this a match?\n",
      "-> siemens aktiengesellschaft munich germany\n",
      "-> munchener ruckversicherungs gesellschaft aktiengesellschaft koniginstrasse 107 80802 munich\n"
     ]
    },
    {
     "name": "stdin",
     "output_type": "stream",
     "text": [
      " n\n"
     ]
    },
    {
     "name": "stdout",
     "output_type": "stream",
     "text": [
      "\n",
      "16/20 [ 1.28051022 -0.39028802  0.78713922  0.04534343]\n",
      "Is this a match?\n",
      "-> telefonica  s a  ronda de la comunicacion\n",
      "-> telefonica  s a  28050 madrid\n"
     ]
    },
    {
     "name": "stdin",
     "output_type": "stream",
     "text": [
      " y\n"
     ]
    },
    {
     "name": "stdout",
     "output_type": "stream",
     "text": [
      "\n",
      "17/20 [ 1.38692665 -0.33795631  0.73305636  0.1131811 ]\n",
      "Is this a match?\n",
      "-> safran sa 2  boulevard du general martial valin paris france\n",
      "-> safran sa 75724 france\n"
     ]
    },
    {
     "name": "stdin",
     "output_type": "stream",
     "text": [
      " y\n"
     ]
    },
    {
     "name": "stdout",
     "output_type": "stream",
     "text": [
      "\n",
      "18/20 [ 1.33782332 -0.43812873  0.9452786   0.08734409]\n",
      "Is this a match?\n",
      "-> safran sa 75724 france\n",
      "-> safran sa 2  boulevard du general martial valin paris france\n"
     ]
    },
    {
     "name": "stdin",
     "output_type": "stream",
     "text": [
      " y\n"
     ]
    },
    {
     "name": "stdout",
     "output_type": "stream",
     "text": [
      "\n",
      "19/20 [ 1.31272796 -0.5070851   1.09474829  0.06735489]\n",
      "Is this a match?\n",
      "-> sanofi 54  rue la boetie 75008 paris france\n",
      "-> kering sa 40 rue de sevres 75007 paris\n"
     ]
    },
    {
     "name": "stdin",
     "output_type": "stream",
     "text": [
      " n\n"
     ]
    },
    {
     "name": "stdout",
     "output_type": "stream",
     "text": [
      "\n",
      "20/20 [ 1.15916384 -0.47998357  1.17379273 -0.02709698]\n",
      "Is this a match?\n",
      "-> orange s a  78  rue olivier de serres 75015 paris france\n",
      "-> total s a  paris\n"
     ]
    },
    {
     "name": "stdin",
     "output_type": "stream",
     "text": [
      " n\n"
     ]
    }
   ],
   "source": [
    "myActiveLearner.fit(X_pool)"
   ]
  },
  {
   "cell_type": "code",
   "execution_count": 40,
   "metadata": {},
   "outputs": [
    {
     "data": {
      "image/png": "[encoded data removed]",
      "text/plain": [
       "<Figure size 432x288 with 1 Axes>"
      ]
     },
     "metadata": {
      "needs_background": "light"
     },
     "output_type": "display_data"
    }
   ],
   "source": [
    "plt.plot(np.vstack(myActiveLearner.parameters));\n",
    "plt.legend(['ratio', 'partial_ratio', 'tokenset', 'tokensort']);"
   ]
  },
  {
   "cell_type": "markdown",
   "metadata": {},
   "source": [
    "## Blocking"
   ]
  },
  {
   "cell_type": "code",
   "execution_count": 41,
   "metadata": {},
   "outputs": [],
   "source": [
    "X_training = myActiveLearner.learner.X_training\n",
    "y_training = myActiveLearner.learner.y_training"
   ]
  },
  {
   "cell_type": "code",
   "execution_count": 42,
   "metadata": {},
   "outputs": [],
   "source": [
    "myBlocking = Blocking('col').fit(X_training, y_training)"
   ]
  },
  {
   "cell_type": "code",
   "execution_count": 43,
   "metadata": {},
   "outputs": [
    {
     "data": {
      "text/plain": [
       "['first_word',\n",
       " 'first_two_words',\n",
       " 'first_three_letters',\n",
       " 'first_four_letters',\n",
       " 'first_five_letters',\n",
       " 'first_three_letters_no_space',\n",
       " 'first_four_letters_no_space',\n",
       " 'first_five_letters_no_space']"
      ]
     },
     "execution_count": 43,
     "metadata": {},
     "output_type": "execute_result"
    }
   ],
   "source": [
    "myBlocking.rules_selected"
   ]
  },
  {
   "cell_type": "code",
   "execution_count": 44,
   "metadata": {},
   "outputs": [
    {
     "data": {
      "text/html": [
       "<div>\n",
       "<style scoped>\n",
       "    .dataframe tbody tr th:only-of-type {\n",
       "        vertical-align: middle;\n",
       "    }\n",
       "\n",
       "    .dataframe tbody tr th {\n",
       "        vertical-align: top;\n",
       "    }\n",
       "\n",
       "    .dataframe thead th {\n",
       "        text-align: right;\n",
       "    }\n",
       "</style>\n",
       "<table border=\"1\" class=\"dataframe\">\n",
       "  <thead>\n",
       "    <tr style=\"text-align: right;\">\n",
       "      <th></th>\n",
       "      <th>col_1</th>\n",
       "      <th>fingerprint</th>\n",
       "      <th>col_2</th>\n",
       "    </tr>\n",
       "  </thead>\n",
       "  <tbody>\n",
       "    <tr>\n",
       "      <th>0</th>\n",
       "      <td>danone s a  75439 paris</td>\n",
       "      <td>danone:0</td>\n",
       "      <td>danone s a  75439 paris</td>\n",
       "    </tr>\n",
       "    <tr>\n",
       "      <th>2</th>\n",
       "      <td>danone s a  75439 paris</td>\n",
       "      <td>danone:0</td>\n",
       "      <td>danone s a  15  rue du helder 75439 paris france</td>\n",
       "    </tr>\n",
       "  </tbody>\n",
       "</table>\n",
       "</div>"
      ],
      "text/plain": [
       "                     col_1 fingerprint  \\\n",
       "0  danone s a  75439 paris    danone:0   \n",
       "2  danone s a  75439 paris    danone:0   \n",
       "\n",
       "                                              col_2  \n",
       "0                           danone s a  75439 paris  \n",
       "2  danone s a  15  rue du helder 75439 paris france  "
      ]
     },
     "execution_count": 44,
     "metadata": {},
     "output_type": "execute_result"
    }
   ],
   "source": [
    "pairs_table = myBlocking.transform(X_pool[:,0])\n",
    "pairs_table.head(2)"
   ]
  },
  {
   "cell_type": "code",
   "execution_count": null,
   "metadata": {},
   "outputs": [],
   "source": []
  },
  {
   "cell_type": "markdown",
   "metadata": {},
   "source": [
    "## Scoring"
   ]
  },
  {
   "cell_type": "code",
   "execution_count": 45,
   "metadata": {},
   "outputs": [],
   "source": [
    "scored_pairs_table = pairs_table.copy()"
   ]
  },
  {
   "cell_type": "code",
   "execution_count": 46,
   "metadata": {},
   "outputs": [],
   "source": [
    "scored_pairs_table['score'] = myActiveLearner.predict_proba(pairs_table[['col_1', 'col_2']].values)[:,1]"
   ]
  },
  {
   "cell_type": "code",
   "execution_count": 47,
   "metadata": {},
   "outputs": [],
   "source": [
    "scored_pairs_table.loc[scored_pairs_table.col_1==scored_pairs_table.col_2, 'score'] = 1"
   ]
  },
  {
   "cell_type": "code",
   "execution_count": 48,
   "metadata": {},
   "outputs": [
    {
     "data": {
      "text/html": [
       "<div>\n",
       "<style scoped>\n",
       "    .dataframe tbody tr th:only-of-type {\n",
       "        vertical-align: middle;\n",
       "    }\n",
       "\n",
       "    .dataframe tbody tr th {\n",
       "        vertical-align: top;\n",
       "    }\n",
       "\n",
       "    .dataframe thead th {\n",
       "        text-align: right;\n",
       "    }\n",
       "</style>\n",
       "<table border=\"1\" class=\"dataframe\">\n",
       "  <thead>\n",
       "    <tr style=\"text-align: right;\">\n",
       "      <th></th>\n",
       "      <th>col_1</th>\n",
       "      <th>fingerprint</th>\n",
       "      <th>col_2</th>\n",
       "      <th>score</th>\n",
       "    </tr>\n",
       "  </thead>\n",
       "  <tbody>\n",
       "    <tr>\n",
       "      <th>0</th>\n",
       "      <td>danone s a  75439 paris</td>\n",
       "      <td>danone:0</td>\n",
       "      <td>danone s a  75439 paris</td>\n",
       "      <td>1.000000</td>\n",
       "    </tr>\n",
       "    <tr>\n",
       "      <th>2</th>\n",
       "      <td>danone s a  75439 paris</td>\n",
       "      <td>danone:0</td>\n",
       "      <td>danone s a  15  rue du helder 75439 paris france</td>\n",
       "      <td>0.982193</td>\n",
       "    </tr>\n",
       "  </tbody>\n",
       "</table>\n",
       "</div>"
      ],
      "text/plain": [
       "                     col_1 fingerprint  \\\n",
       "0  danone s a  75439 paris    danone:0   \n",
       "2  danone s a  75439 paris    danone:0   \n",
       "\n",
       "                                              col_2     score  \n",
       "0                           danone s a  75439 paris  1.000000  \n",
       "2  danone s a  15  rue du helder 75439 paris france  0.982193  "
      ]
     },
     "execution_count": 48,
     "metadata": {},
     "output_type": "execute_result"
    }
   ],
   "source": [
    "scored_pairs_table.head(2)"
   ]
  },
  {
   "cell_type": "code",
   "execution_count": null,
   "metadata": {},
   "outputs": [],
   "source": []
  },
  {
   "cell_type": "markdown",
   "metadata": {},
   "source": [
    "## Hierarchical clustering"
   ]
  },
  {
   "cell_type": "code",
   "execution_count": 49,
   "metadata": {},
   "outputs": [
    {
     "data": {
      "text/html": [
       "<div>\n",
       "<style scoped>\n",
       "    .dataframe tbody tr th:only-of-type {\n",
       "        vertical-align: middle;\n",
       "    }\n",
       "\n",
       "    .dataframe tbody tr th {\n",
       "        vertical-align: top;\n",
       "    }\n",
       "\n",
       "    .dataframe thead th {\n",
       "        text-align: right;\n",
       "    }\n",
       "</style>\n",
       "<table border=\"1\" class=\"dataframe\">\n",
       "  <thead>\n",
       "    <tr style=\"text-align: right;\">\n",
       "      <th></th>\n",
       "      <th>cluster_id</th>\n",
       "    </tr>\n",
       "  </thead>\n",
       "  <tbody>\n",
       "    <tr>\n",
       "      <th>danone s a  15  rue du helder 75439 paris france</th>\n",
       "      <td>1</td>\n",
       "    </tr>\n",
       "    <tr>\n",
       "      <th>danone s a  75439 paris</th>\n",
       "      <td>1</td>\n",
       "    </tr>\n",
       "    <tr>\n",
       "      <th>danone s a  15  rue du helder paris france</th>\n",
       "      <td>1</td>\n",
       "    </tr>\n",
       "    <tr>\n",
       "      <th>siemens aktiengesellschaft munich germany</th>\n",
       "      <td>4</td>\n",
       "    </tr>\n",
       "    <tr>\n",
       "      <th>siemens aktiengesellschaft werner von siemens strasse 1 80333 munich germany</th>\n",
       "      <td>4</td>\n",
       "    </tr>\n",
       "  </tbody>\n",
       "</table>\n",
       "</div>"
      ],
      "text/plain": [
       "                                                                              cluster_id\n",
       "danone s a  15  rue du helder 75439 paris france                                       1\n",
       "danone s a  75439 paris                                                                1\n",
       "danone s a  15  rue du helder paris france                                             1\n",
       "siemens aktiengesellschaft munich germany                                              4\n",
       "siemens aktiengesellschaft werner von siemens strasse 1 80333 munich germany           4"
      ]
     },
     "execution_count": 49,
     "metadata": {},
     "output_type": "execute_result"
    }
   ],
   "source": [
    "df_clusters = hierarchical_clustering(scored_pairs_table)\n",
    "df_clusters.head()"
   ]
  },
  {
   "cell_type": "code",
   "execution_count": null,
   "metadata": {},
   "outputs": [],
   "source": []
  },
  {
   "cell_type": "markdown",
   "metadata": {},
   "source": [
    "## All in one"
   ]
  },
  {
   "cell_type": "code",
   "execution_count": 4,
   "metadata": {},
   "outputs": [],
   "source": [
    "df_train = load_data(kind='childcare', return_pairs=False)"
   ]
  },
  {
   "cell_type": "code",
   "execution_count": 29,
   "metadata": {},
   "outputs": [],
   "source": [
    "n_samples = 1_000\n",
    "\n",
    "df_sample = df_train.sample(n=int(n_samples**0.5))\n",
    "\n",
    "col = 'name_address'\n",
    "\n",
    "sample_combinations = pd.DataFrame(list(product(df_sample[col].values.tolist(), df_sample[col].values.tolist())), columns=[f'{col}_1', f'{col}_2'])"
   ]
  },
  {
   "cell_type": "code",
   "execution_count": 30,
   "metadata": {},
   "outputs": [
    {
     "data": {
      "text/html": [
       "<div>\n",
       "<style scoped>\n",
       "    .dataframe tbody tr th:only-of-type {\n",
       "        vertical-align: middle;\n",
       "    }\n",
       "\n",
       "    .dataframe tbody tr th {\n",
       "        vertical-align: top;\n",
       "    }\n",
       "\n",
       "    .dataframe thead th {\n",
       "        text-align: right;\n",
       "    }\n",
       "</style>\n",
       "<table border=\"1\" class=\"dataframe\">\n",
       "  <thead>\n",
       "    <tr style=\"text-align: right;\">\n",
       "      <th></th>\n",
       "      <th>name_address_1</th>\n",
       "      <th>name_address_2</th>\n",
       "    </tr>\n",
       "  </thead>\n",
       "  <tbody>\n",
       "    <tr>\n",
       "      <th>0</th>\n",
       "      <td>Oglesby 7646 S. Green</td>\n",
       "      <td>Oglesby 7646 S. Green</td>\n",
       "    </tr>\n",
       "    <tr>\n",
       "      <th>1</th>\n",
       "      <td>Oglesby 7646 S. Green</td>\n",
       "      <td>Kiddy Kare Preschools Little Tykes I 1711 W. 35th Street</td>\n",
       "    </tr>\n",
       "    <tr>\n",
       "      <th>2</th>\n",
       "      <td>Oglesby 7646 S. Green</td>\n",
       "      <td>Mitchell 2233 W. Ohio</td>\n",
       "    </tr>\n",
       "    <tr>\n",
       "      <th>3</th>\n",
       "      <td>Oglesby 7646 S. Green</td>\n",
       "      <td>First Start Child Care Academy 4753-59 W. Washington</td>\n",
       "    </tr>\n",
       "    <tr>\n",
       "      <th>4</th>\n",
       "      <td>Oglesby 7646 S. Green</td>\n",
       "      <td>Chicago Youth Centers ABC 3415 W. 13th Pl.</td>\n",
       "    </tr>\n",
       "    <tr>\n",
       "      <th>...</th>\n",
       "      <td>...</td>\n",
       "      <td>...</td>\n",
       "    </tr>\n",
       "    <tr>\n",
       "      <th>956</th>\n",
       "      <td>Chicago Commons Association - Guadalupano Family Center 1814 S Paulina St</td>\n",
       "      <td>Christopher House - Lakeshore 850 W Eastwood Avenue</td>\n",
       "    </tr>\n",
       "    <tr>\n",
       "      <th>957</th>\n",
       "      <td>Chicago Commons Association - Guadalupano Family Center 1814 S Paulina St</td>\n",
       "      <td>YMCA of Metropolitan Chicago - South Chicago YMCA 3039 E 91st St</td>\n",
       "    </tr>\n",
       "    <tr>\n",
       "      <th>958</th>\n",
       "      <td>Chicago Commons Association - Guadalupano Family Center 1814 S Paulina St</td>\n",
       "      <td>ERIE NEIGHBORHOOD HOUSE FCCH-MARIA MAHECHA SITE 4151 W LAWRENCE</td>\n",
       "    </tr>\n",
       "    <tr>\n",
       "      <th>959</th>\n",
       "      <td>Chicago Commons Association - Guadalupano Family Center 1814 S Paulina St</td>\n",
       "      <td>Nicholson 6006 S. Peoria</td>\n",
       "    </tr>\n",
       "    <tr>\n",
       "      <th>960</th>\n",
       "      <td>Chicago Commons Association - Guadalupano Family Center 1814 S Paulina St</td>\n",
       "      <td>Chicago Commons Association - Guadalupano Family Center 1814 S Paulina St</td>\n",
       "    </tr>\n",
       "  </tbody>\n",
       "</table>\n",
       "<p>961 rows × 2 columns</p>\n",
       "</div>"
      ],
      "text/plain": [
       "                                                                  name_address_1  \\\n",
       "0                                                         Oglesby 7646 S. Green    \n",
       "1                                                         Oglesby 7646 S. Green    \n",
       "2                                                         Oglesby 7646 S. Green    \n",
       "3                                                         Oglesby 7646 S. Green    \n",
       "4                                                         Oglesby 7646 S. Green    \n",
       "..                                                                           ...   \n",
       "956   Chicago Commons Association - Guadalupano Family Center 1814 S Paulina St    \n",
       "957   Chicago Commons Association - Guadalupano Family Center 1814 S Paulina St    \n",
       "958   Chicago Commons Association - Guadalupano Family Center 1814 S Paulina St    \n",
       "959   Chicago Commons Association - Guadalupano Family Center 1814 S Paulina St    \n",
       "960   Chicago Commons Association - Guadalupano Family Center 1814 S Paulina St    \n",
       "\n",
       "                                                                  name_address_2  \n",
       "0                                                         Oglesby 7646 S. Green   \n",
       "1                      Kiddy Kare Preschools Little Tykes I 1711 W. 35th Street   \n",
       "2                                                         Mitchell 2233 W. Ohio   \n",
       "3                          First Start Child Care Academy 4753-59 W. Washington   \n",
       "4                                    Chicago Youth Centers ABC 3415 W. 13th Pl.   \n",
       "..                                                                           ...  \n",
       "956                         Christopher House - Lakeshore 850 W Eastwood Avenue   \n",
       "957            YMCA of Metropolitan Chicago - South Chicago YMCA 3039 E 91st St   \n",
       "958             ERIE NEIGHBORHOOD HOUSE FCCH-MARIA MAHECHA SITE 4151 W LAWRENCE   \n",
       "959                                                    Nicholson 6006 S. Peoria   \n",
       "960   Chicago Commons Association - Guadalupano Family Center 1814 S Paulina St   \n",
       "\n",
       "[961 rows x 2 columns]"
      ]
     },
     "execution_count": 30,
     "metadata": {},
     "output_type": "execute_result"
    }
   ],
   "source": [
    "sample_combinations"
   ]
  },
  {
   "cell_type": "code",
   "execution_count": null,
   "metadata": {},
   "outputs": [],
   "source": []
  },
  {
   "cell_type": "code",
   "execution_count": 7,
   "metadata": {},
   "outputs": [],
   "source": [
    "# myDedupliPy = Deduplicator(X_initial, y_initial, 'col', 10)\n",
    "myDedupliPy = Deduplicator('name_address', 10)"
   ]
  },
  {
   "cell_type": "code",
   "execution_count": null,
   "metadata": {},
   "outputs": [],
   "source": [
    "myDedupliPy.fit(df_train)"
   ]
  },
  {
   "cell_type": "code",
   "execution_count": 32,
   "metadata": {},
   "outputs": [
    {
     "data": {
      "text/html": [
       "<div>\n",
       "<style scoped>\n",
       "    .dataframe tbody tr th:only-of-type {\n",
       "        vertical-align: middle;\n",
       "    }\n",
       "\n",
       "    .dataframe tbody tr th {\n",
       "        vertical-align: top;\n",
       "    }\n",
       "\n",
       "    .dataframe thead th {\n",
       "        text-align: right;\n",
       "    }\n",
       "</style>\n",
       "<table border=\"1\" class=\"dataframe\">\n",
       "  <thead>\n",
       "    <tr style=\"text-align: right;\">\n",
       "      <th></th>\n",
       "      <th>cluster_id</th>\n",
       "    </tr>\n",
       "  </thead>\n",
       "  <tbody>\n",
       "    <tr>\n",
       "      <th>banco santander  s a  28660 madrid spain</th>\n",
       "      <td>1</td>\n",
       "    </tr>\n",
       "    <tr>\n",
       "      <th>banco santander  s a  28660 madrid</th>\n",
       "      <td>1</td>\n",
       "    </tr>\n",
       "    <tr>\n",
       "      <th>banco santander  s a  28660</th>\n",
       "      <td>1</td>\n",
       "    </tr>\n",
       "    <tr>\n",
       "      <th>banco bilbao vizcaya argentaria  s a  bilbao</th>\n",
       "      <td>2</td>\n",
       "    </tr>\n",
       "    <tr>\n",
       "      <th>banco bilbao vizcaya argentaria  s a  48005 bilbao spain</th>\n",
       "      <td>2</td>\n",
       "    </tr>\n",
       "  </tbody>\n",
       "</table>\n",
       "</div>"
      ],
      "text/plain": [
       "                                                          cluster_id\n",
       "banco santander  s a  28660 madrid spain                           1\n",
       "banco santander  s a  28660 madrid                                 1\n",
       "banco santander  s a  28660                                        1\n",
       "banco bilbao vizcaya argentaria  s a  bilbao                       2\n",
       "banco bilbao vizcaya argentaria  s a  48005 bilbao spain           2"
      ]
     },
     "execution_count": 32,
     "metadata": {},
     "output_type": "execute_result"
    }
   ],
   "source": [
    "res = myDedupliPy.predict(X_pool)\n",
    "res.head()"
   ]
  },
  {
   "cell_type": "code",
   "execution_count": null,
   "metadata": {},
   "outputs": [],
   "source": []
  },
  {
   "cell_type": "code",
   "execution_count": null,
   "metadata": {},
   "outputs": [],
   "source": []
  },
  {
   "cell_type": "code",
   "execution_count": null,
   "metadata": {},
   "outputs": [],
   "source": []
  },
  {
   "cell_type": "code",
   "execution_count": null,
   "metadata": {},
   "outputs": [],
   "source": []
  },
  {
   "cell_type": "code",
   "execution_count": null,
   "metadata": {},
   "outputs": [],
   "source": []
  }
 ],
 "metadata": {
  "kernelspec": {
   "display_name": "Python 3",
   "language": "python",
   "name": "python3"
  },
  "language_info": {
   "codemirror_mode": {
    "name": "ipython",
    "version": 3
   },
   "file_extension": ".py",
   "mimetype": "text/x-python",
   "name": "python",
   "nbconvert_exporter": "python",
   "pygments_lexer": "ipython3",
   "version": "3.8.5"
  }
 },
 "nbformat": 4,
 "nbformat_minor": 4
}
