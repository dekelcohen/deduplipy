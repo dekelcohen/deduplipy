{
 "cells": [
  {
   "cell_type": "code",
   "execution_count": 1,
   "metadata": {},
   "outputs": [
    {
     "name": "stderr",
     "output_type": "stream",
     "text": [
      "/Users/fritshermans/opt/anaconda3/lib/python3.8/site-packages/fuzzywuzzy/fuzz.py:11: UserWarning: Using slow pure-python SequenceMatcher. Install python-Levenshtein to remove this warning\n",
      "  warnings.warn('Using slow pure-python SequenceMatcher. Install python-Levenshtein to remove this warning')\n"
     ]
    }
   ],
   "source": [
    "%matplotlib inline\n",
    "%config Completer.use_jedi = False\n",
    "%load_ext autoreload\n",
    "%autoreload 2\n",
    "\n",
    "import os\n",
    "from itertools import product\n",
    "import heapq\n",
    "import re\n",
    "\n",
    "import pandas as pd\n",
    "import numpy as np\n",
    "\n",
    "from modAL.models import ActiveLearner\n",
    "from modAL.uncertainty import uncertainty_sampling\n",
    "\n",
    "from IPython import display\n",
    "from matplotlib import pyplot as plt\n",
    "\n",
    "from sklearn.base import BaseEstimator\n",
    "from sklearn.model_selection import train_test_split\n",
    "from sklearn.ensemble import RandomForestClassifier\n",
    "from sklearn.linear_model import LogisticRegression, LogisticRegressionCV\n",
    "from sklearn.metrics import accuracy_score, f1_score, average_precision_score\n",
    "from sklearn.pipeline import make_pipeline\n",
    "from sklearn.preprocessing import StandardScaler, PolynomialFeatures\n",
    "\n",
    "from fuzzywuzzy.fuzz import ratio, token_set_ratio, token_sort_ratio, partial_ratio"
   ]
  },
  {
   "cell_type": "code",
   "execution_count": 9,
   "metadata": {},
   "outputs": [],
   "source": [
    "from datasets import load_data\n",
    "from deduplipy.active_learning import ActiveStringMatchLearner\n",
    "from deduplipy.string_matcher import StringMatcher\n",
    "from deduplipy.blocking import Blocking\n",
    "from deduplipy.clustering import hierarchical_clustering\n",
    "from deduplipy.deduplicator import Deduplicator"
   ]
  },
  {
   "cell_type": "code",
   "execution_count": 10,
   "metadata": {},
   "outputs": [],
   "source": [
    "pd.set_option('display.max_columns', 100)\n",
    "pd.set_option('display.max_row', 500)\n",
    "pd.set_option('display.max_colwidth', 200)"
   ]
  },
  {
   "cell_type": "markdown",
   "metadata": {},
   "source": [
    "## Load data "
   ]
  },
  {
   "cell_type": "code",
   "execution_count": 11,
   "metadata": {},
   "outputs": [],
   "source": [
    "X_train, X_test, y_train, y_test = load_data()"
   ]
  },
  {
   "cell_type": "markdown",
   "metadata": {},
   "source": [
    "## StringMatcher"
   ]
  },
  {
   "cell_type": "code",
   "execution_count": 12,
   "metadata": {},
   "outputs": [],
   "source": [
    "myStringMatcher = StringMatcher().fit(X_train, y_train)"
   ]
  },
  {
   "cell_type": "code",
   "execution_count": 13,
   "metadata": {},
   "outputs": [
    {
     "data": {
      "text/plain": [
       "0.9837837837837838"
      ]
     },
     "execution_count": 13,
     "metadata": {},
     "output_type": "execute_result"
    }
   ],
   "source": [
    "myStringMatcher.score(X_train, y_train)"
   ]
  },
  {
   "cell_type": "code",
   "execution_count": 14,
   "metadata": {},
   "outputs": [
    {
     "data": {
      "text/plain": [
       "0.9785932721712537"
      ]
     },
     "execution_count": 14,
     "metadata": {},
     "output_type": "execute_result"
    }
   ],
   "source": [
    "myStringMatcher.score(X_test, y_test)"
   ]
  },
  {
   "cell_type": "code",
   "execution_count": 15,
   "metadata": {},
   "outputs": [
    {
     "data": {
      "text/plain": [
       "0.9990433373118611"
      ]
     },
     "execution_count": 15,
     "metadata": {},
     "output_type": "execute_result"
    }
   ],
   "source": [
    "average_precision_score(y_train, myStringMatcher.predict_proba(X_train)[:,1])"
   ]
  },
  {
   "cell_type": "code",
   "execution_count": 16,
   "metadata": {},
   "outputs": [
    {
     "data": {
      "text/plain": [
       "0.9981285609580194"
      ]
     },
     "execution_count": 16,
     "metadata": {},
     "output_type": "execute_result"
    }
   ],
   "source": [
    "average_precision_score(y_test, myStringMatcher.predict_proba(X_test)[:,1])"
   ]
  },
  {
   "cell_type": "markdown",
   "metadata": {},
   "source": [
    "## Active learning"
   ]
  },
  {
   "cell_type": "code",
   "execution_count": 17,
   "metadata": {},
   "outputs": [],
   "source": [
    "n_initial = 2"
   ]
  },
  {
   "cell_type": "code",
   "execution_count": 18,
   "metadata": {},
   "outputs": [],
   "source": [
    "X_initial, X_pool, y_initial, y_pool = train_test_split(X_train, y_train, train_size=n_initial, stratify=y_train)"
   ]
  },
  {
   "cell_type": "code",
   "execution_count": 19,
   "metadata": {},
   "outputs": [
    {
     "data": {
      "text/plain": [
       "0.9693251533742332"
      ]
     },
     "execution_count": 19,
     "metadata": {},
     "output_type": "execute_result"
    }
   ],
   "source": [
    "StringMatcher().fit(X_initial, y_initial).score(X_test, y_test)"
   ]
  },
  {
   "cell_type": "code",
   "execution_count": 20,
   "metadata": {},
   "outputs": [
    {
     "data": {
      "text/plain": [
       "0.9785932721712537"
      ]
     },
     "execution_count": 20,
     "metadata": {},
     "output_type": "execute_result"
    }
   ],
   "source": [
    "StringMatcher().fit(X_train, y_train).score(X_test, y_test)"
   ]
  },
  {
   "cell_type": "code",
   "execution_count": 21,
   "metadata": {},
   "outputs": [],
   "source": [
    "myActiveLearner = ActiveStringMatchLearner(X_initial, y_initial, n_queries=20)"
   ]
  },
  {
   "cell_type": "code",
   "execution_count": 22,
   "metadata": {
    "scrolled": true
   },
   "outputs": [
    {
     "name": "stdout",
     "output_type": "stream",
     "text": [
      "\n",
      "1/20 [0.37043145 0.37043145 0.37043145 0.37043145]\n",
      "Is this a match?\n",
      "-> bayer aktiengesellschaft kaiser wilhelm allee 1 51368 leverkusen germany\n",
      "-> bayerische motoren werke aktiengesellschaft munich germany\n"
     ]
    },
    {
     "name": "stdin",
     "output_type": "stream",
     "text": [
      " n\n"
     ]
    },
    {
     "name": "stdout",
     "output_type": "stream",
     "text": [
      "\n",
      "2/20 [0.44888092 0.49723671 0.37540726 0.35727449]\n",
      "Is this a match?\n",
      "-> koninklijke ahold delhaize n v   provincialeweg 11\n",
      "-> koninklijke ahold delhaize n v   1506 ma zaandam netherlands\n"
     ]
    },
    {
     "name": "stdin",
     "output_type": "stream",
     "text": [
      " y\n"
     ]
    },
    {
     "name": "stdout",
     "output_type": "stream",
     "text": [
      "\n",
      "3/20 [0.41694916 0.53838827 0.4081766  0.3221992 ]\n",
      "Is this a match?\n",
      "-> enel spa rome italy\n",
      "-> enel spa viale regina margherita  137 rm 00198 italy\n"
     ]
    },
    {
     "name": "stdin",
     "output_type": "stream",
     "text": [
      " y\n"
     ]
    },
    {
     "name": "stdout",
     "output_type": "stream",
     "text": [
      "\n",
      "4/20 [0.31284712 0.5872638  0.59876436 0.16399827]\n",
      "Is this a match?\n",
      "-> bnp paribas sa 16 boulevard des italiens paris france\n",
      "-> l air liquide s a  paris france\n"
     ]
    },
    {
     "name": "stdin",
     "output_type": "stream",
     "text": [
      " n\n"
     ]
    },
    {
     "name": "stdout",
     "output_type": "stream",
     "text": [
      "\n",
      "5/20 [0.38691641 0.41270623 0.77704694 0.18713427]\n",
      "Is this a match?\n",
      "-> safran sa paris france\n",
      "-> societe generale societe 75009 paris france\n"
     ]
    },
    {
     "name": "stdin",
     "output_type": "stream",
     "text": [
      " n\n"
     ]
    },
    {
     "name": "stdout",
     "output_type": "stream",
     "text": [
      "\n",
      "6/20 [0.36680521 0.40577643 0.79611023 0.29100795]\n",
      "Is this a match?\n",
      "-> telefonica  s a  28050 madrid\n",
      "-> telefonica  s a  ronda de la comunicacion\n"
     ]
    },
    {
     "name": "stdin",
     "output_type": "stream",
     "text": [
      " \n"
     ]
    },
    {
     "name": "stdout",
     "output_type": "stream",
     "text": [
      "Wrong input!\n"
     ]
    },
    {
     "name": "stdin",
     "output_type": "stream",
     "text": [
      " y\n"
     ]
    },
    {
     "name": "stdout",
     "output_type": "stream",
     "text": [
      "\n",
      "7/20 [0.4353277  0.4024043  0.73054195 0.35914345]\n",
      "Is this a match?\n",
      "-> societe generale societe 29  boulevard haussmann 75009 paris france\n",
      "-> safran sa 2  boulevard du general martial valin paris france\n"
     ]
    },
    {
     "name": "stdin",
     "output_type": "stream",
     "text": [
      " n\n"
     ]
    },
    {
     "name": "stdout",
     "output_type": "stream",
     "text": [
      "\n",
      "8/20 [0.42492489 0.4949911  0.80006407 0.21847267]\n",
      "Is this a match?\n",
      "-> enel spa viale regina margherita  137 rm 00198 italy\n",
      "-> enel spa rome italy\n"
     ]
    },
    {
     "name": "stdin",
     "output_type": "stream",
     "text": [
      " y\n"
     ]
    },
    {
     "name": "stdout",
     "output_type": "stream",
     "text": [
      "\n",
      "9/20 [0.20655871 0.50444879 1.02240506 0.11647177]\n",
      "Is this a match?\n",
      "-> engie sa 1  place samuel de champlain 92400 france\n",
      "-> engie sa 92400 courbevoie france\n"
     ]
    },
    {
     "name": "stdin",
     "output_type": "stream",
     "text": [
      " y\n"
     ]
    },
    {
     "name": "stdout",
     "output_type": "stream",
     "text": [
      "\n",
      "10/20 [0.12773074 0.31256318 1.15578762 0.2346231 ]\n",
      "Is this a match?\n",
      "-> bayerische motoren werke aktiengesellschaft petuelring 130 munich germany\n",
      "-> allianz se munich germany\n"
     ]
    },
    {
     "name": "stdin",
     "output_type": "stream",
     "text": [
      " n\n"
     ]
    },
    {
     "name": "stdout",
     "output_type": "stream",
     "text": [
      "\n",
      "11/20 [0.35457947 0.04470868 1.17973182 0.40413684]\n",
      "Is this a match?\n",
      "-> bayerische motoren werke aktiengesellschaft petuelring 130 munich germany\n",
      "-> siemens aktiengesellschaft werner von siemens strasse 1 80333 munich germany\n"
     ]
    },
    {
     "name": "stdin",
     "output_type": "stream",
     "text": [
      " n\n"
     ]
    },
    {
     "name": "stdout",
     "output_type": "stream",
     "text": [
      "\n",
      "12/20 [0.24564951 0.10808514 1.26709258 0.34641941]\n",
      "Is this a match?\n",
      "-> safran sa paris france\n",
      "-> l air liquide s a  paris france\n"
     ]
    },
    {
     "name": "stdin",
     "output_type": "stream",
     "text": [
      " n\n"
     ]
    },
    {
     "name": "stdout",
     "output_type": "stream",
     "text": [
      "\n",
      "13/20 [ 0.00147828 -0.00373441  1.32730966  0.48780563]\n",
      "Is this a match?\n",
      "-> bnp paribas sa 16 boulevard des italiens 75009 france\n",
      "-> bnp paribas sa paris\n"
     ]
    },
    {
     "name": "stdin",
     "output_type": "stream",
     "text": [
      " y\n"
     ]
    },
    {
     "name": "stdout",
     "output_type": "stream",
     "text": [
      "\n",
      "14/20 [-0.03193764  0.13578529  1.44206713  0.2345448 ]\n",
      "Is this a match?\n",
      "-> danone s a  75439 paris\n",
      "-> orange s a  75015 paris france\n"
     ]
    },
    {
     "name": "stdin",
     "output_type": "stream",
     "text": [
      " n\n"
     ]
    },
    {
     "name": "stdout",
     "output_type": "stream",
     "text": [
      "\n",
      "15/20 [-0.05347175  0.02033137  1.51285424  0.06869688]\n",
      "Is this a match?\n",
      "-> nokia corporation karakaari 7\n",
      "-> nokia corporation 2610 espoo finland\n"
     ]
    },
    {
     "name": "stdin",
     "output_type": "stream",
     "text": [
      " y\n"
     ]
    },
    {
     "name": "stdout",
     "output_type": "stream",
     "text": [
      "\n",
      "16/20 [-0.05683801 -0.00430005  1.52714788  0.13513429]\n",
      "Is this a match?\n",
      "-> total s a  paris\n",
      "-> orange s a  78  rue olivier de serres 75015 paris france\n"
     ]
    },
    {
     "name": "stdin",
     "output_type": "stream",
     "text": [
      " n\n"
     ]
    },
    {
     "name": "stdout",
     "output_type": "stream",
     "text": [
      "\n",
      "17/20 [0.03877815 0.14592466 1.50814801 0.33770077]\n",
      "Is this a match?\n",
      "-> nokia corporation 2610 espoo finland\n",
      "-> nokia corporation karakaari 7\n"
     ]
    },
    {
     "name": "stdin",
     "output_type": "stream",
     "text": [
      " y\n"
     ]
    },
    {
     "name": "stdout",
     "output_type": "stream",
     "text": [
      "\n",
      "18/20 [0.04465383 0.13910041 1.53299525 0.40476634]\n",
      "Is this a match?\n",
      "-> total s a  92078 france\n",
      "-> total s a  paris\n"
     ]
    },
    {
     "name": "stdin",
     "output_type": "stream",
     "text": [
      " y\n"
     ]
    },
    {
     "name": "stdout",
     "output_type": "stream",
     "text": [
      "\n",
      "19/20 [0.12291763 0.15819587 1.57436063 0.39720245]\n",
      "Is this a match?\n",
      "-> total s a  paris\n",
      "-> total s a  92078 france\n"
     ]
    },
    {
     "name": "stdin",
     "output_type": "stream",
     "text": [
      " y\n"
     ]
    },
    {
     "name": "stdout",
     "output_type": "stream",
     "text": [
      "\n",
      "20/20 [0.18818085 0.17451591 1.61787695 0.39215224]\n",
      "Is this a match?\n",
      "-> l air liquide s a  75007 paris france\n",
      "-> total s a  paris\n"
     ]
    },
    {
     "name": "stdin",
     "output_type": "stream",
     "text": [
      " n\n"
     ]
    }
   ],
   "source": [
    "myActiveLearner.fit(X_pool)"
   ]
  },
  {
   "cell_type": "code",
   "execution_count": 23,
   "metadata": {},
   "outputs": [
    {
     "data": {
      "image/png": "[encoded data removed]",
      "text/plain": [
       "<Figure size 432x288 with 1 Axes>"
      ]
     },
     "metadata": {
      "needs_background": "light"
     },
     "output_type": "display_data"
    }
   ],
   "source": [
    "plt.plot(np.vstack(myActiveLearner.parameters));\n",
    "plt.legend(['ratio', 'partial_ratio', 'tokenset', 'tokensort']);"
   ]
  },
  {
   "cell_type": "markdown",
   "metadata": {},
   "source": [
    "## Blocking"
   ]
  },
  {
   "cell_type": "code",
   "execution_count": 26,
   "metadata": {},
   "outputs": [],
   "source": [
    "X_training = myActiveLearner.learner.X_training\n",
    "y_training = myActiveLearner.learner.y_training"
   ]
  },
  {
   "cell_type": "code",
   "execution_count": null,
   "metadata": {},
   "outputs": [],
   "source": [
    "myBlocking = Blocking('col').fit(X_training, y_training)"
   ]
  },
  {
   "cell_type": "code",
   "execution_count": null,
   "metadata": {},
   "outputs": [],
   "source": [
    "myBlocking.rules_selected"
   ]
  },
  {
   "cell_type": "code",
   "execution_count": 20,
   "metadata": {},
   "outputs": [
    {
     "data": {
      "text/html": [
       "<div>\n",
       "<style scoped>\n",
       "    .dataframe tbody tr th:only-of-type {\n",
       "        vertical-align: middle;\n",
       "    }\n",
       "\n",
       "    .dataframe tbody tr th {\n",
       "        vertical-align: top;\n",
       "    }\n",
       "\n",
       "    .dataframe thead th {\n",
       "        text-align: right;\n",
       "    }\n",
       "</style>\n",
       "<table border=\"1\" class=\"dataframe\">\n",
       "  <thead>\n",
       "    <tr style=\"text-align: right;\">\n",
       "      <th></th>\n",
       "      <th>col_1</th>\n",
       "      <th>fingerprint</th>\n",
       "      <th>col_2</th>\n",
       "    </tr>\n",
       "  </thead>\n",
       "  <tbody>\n",
       "    <tr>\n",
       "      <th>0</th>\n",
       "      <td>axa sa 75008 paris</td>\n",
       "      <td>axa:0</td>\n",
       "      <td>axa sa 75008 paris</td>\n",
       "    </tr>\n",
       "    <tr>\n",
       "      <th>1</th>\n",
       "      <td>axa sa 75008 paris</td>\n",
       "      <td>axa:0</td>\n",
       "      <td>axa sa 25  avenue matignon 75008 paris france</td>\n",
       "    </tr>\n",
       "  </tbody>\n",
       "</table>\n",
       "</div>"
      ],
      "text/plain": [
       "                col_1 fingerprint  \\\n",
       "0  axa sa 75008 paris       axa:0   \n",
       "1  axa sa 75008 paris       axa:0   \n",
       "\n",
       "                                           col_2  \n",
       "0                             axa sa 75008 paris  \n",
       "1  axa sa 25  avenue matignon 75008 paris france  "
      ]
     },
     "execution_count": 20,
     "metadata": {},
     "output_type": "execute_result"
    }
   ],
   "source": [
    "pairs_table = myBlocking.transform(X_pool[:,0])\n",
    "pairs_table.head(2)"
   ]
  },
  {
   "cell_type": "code",
   "execution_count": null,
   "metadata": {},
   "outputs": [],
   "source": []
  },
  {
   "cell_type": "markdown",
   "metadata": {},
   "source": [
    "## Scoring"
   ]
  },
  {
   "cell_type": "code",
   "execution_count": 21,
   "metadata": {},
   "outputs": [],
   "source": [
    "scored_pairs_table = pairs_table.copy()"
   ]
  },
  {
   "cell_type": "code",
   "execution_count": 22,
   "metadata": {},
   "outputs": [],
   "source": [
    "scored_pairs_table['score'] = myActiveLearner.predict_proba(pairs_table[['col_1', 'col_2']].values)[:,1]"
   ]
  },
  {
   "cell_type": "code",
   "execution_count": 23,
   "metadata": {},
   "outputs": [],
   "source": [
    "scored_pairs_table.loc[scored_pairs_table.col_1==scored_pairs_table.col_2, 'score'] = 1"
   ]
  },
  {
   "cell_type": "code",
   "execution_count": 24,
   "metadata": {},
   "outputs": [
    {
     "data": {
      "text/html": [
       "<div>\n",
       "<style scoped>\n",
       "    .dataframe tbody tr th:only-of-type {\n",
       "        vertical-align: middle;\n",
       "    }\n",
       "\n",
       "    .dataframe tbody tr th {\n",
       "        vertical-align: top;\n",
       "    }\n",
       "\n",
       "    .dataframe thead th {\n",
       "        text-align: right;\n",
       "    }\n",
       "</style>\n",
       "<table border=\"1\" class=\"dataframe\">\n",
       "  <thead>\n",
       "    <tr style=\"text-align: right;\">\n",
       "      <th></th>\n",
       "      <th>col_1</th>\n",
       "      <th>fingerprint</th>\n",
       "      <th>col_2</th>\n",
       "      <th>score</th>\n",
       "    </tr>\n",
       "  </thead>\n",
       "  <tbody>\n",
       "    <tr>\n",
       "      <th>0</th>\n",
       "      <td>axa sa 75008 paris</td>\n",
       "      <td>axa:0</td>\n",
       "      <td>axa sa 75008 paris</td>\n",
       "      <td>1.000000</td>\n",
       "    </tr>\n",
       "    <tr>\n",
       "      <th>1</th>\n",
       "      <td>axa sa 75008 paris</td>\n",
       "      <td>axa:0</td>\n",
       "      <td>axa sa 25  avenue matignon 75008 paris france</td>\n",
       "      <td>0.947042</td>\n",
       "    </tr>\n",
       "  </tbody>\n",
       "</table>\n",
       "</div>"
      ],
      "text/plain": [
       "                col_1 fingerprint  \\\n",
       "0  axa sa 75008 paris       axa:0   \n",
       "1  axa sa 75008 paris       axa:0   \n",
       "\n",
       "                                           col_2     score  \n",
       "0                             axa sa 75008 paris  1.000000  \n",
       "1  axa sa 25  avenue matignon 75008 paris france  0.947042  "
      ]
     },
     "execution_count": 24,
     "metadata": {},
     "output_type": "execute_result"
    }
   ],
   "source": [
    "scored_pairs_table.head(2)"
   ]
  },
  {
   "cell_type": "code",
   "execution_count": null,
   "metadata": {},
   "outputs": [],
   "source": []
  },
  {
   "cell_type": "markdown",
   "metadata": {},
   "source": [
    "## Hierarchical clustering"
   ]
  },
  {
   "cell_type": "code",
   "execution_count": 25,
   "metadata": {},
   "outputs": [
    {
     "data": {
      "text/html": [
       "<div>\n",
       "<style scoped>\n",
       "    .dataframe tbody tr th:only-of-type {\n",
       "        vertical-align: middle;\n",
       "    }\n",
       "\n",
       "    .dataframe tbody tr th {\n",
       "        vertical-align: top;\n",
       "    }\n",
       "\n",
       "    .dataframe thead th {\n",
       "        text-align: right;\n",
       "    }\n",
       "</style>\n",
       "<table border=\"1\" class=\"dataframe\">\n",
       "  <thead>\n",
       "    <tr style=\"text-align: right;\">\n",
       "      <th></th>\n",
       "      <th>cluster_id</th>\n",
       "    </tr>\n",
       "  </thead>\n",
       "  <tbody>\n",
       "    <tr>\n",
       "      <th>axa sa 75008 paris france</th>\n",
       "      <td>1</td>\n",
       "    </tr>\n",
       "    <tr>\n",
       "      <th>axa sa 25  avenue matignon 75008 paris france</th>\n",
       "      <td>1</td>\n",
       "    </tr>\n",
       "    <tr>\n",
       "      <th>axa sa 75008 paris</th>\n",
       "      <td>1</td>\n",
       "    </tr>\n",
       "    <tr>\n",
       "      <th>koninklijke ahold delhaize n v   provincialeweg 11 netherlands</th>\n",
       "      <td>4</td>\n",
       "    </tr>\n",
       "    <tr>\n",
       "      <th>koninklijke ahold delhaize n v   provincialeweg 11</th>\n",
       "      <td>4</td>\n",
       "    </tr>\n",
       "  </tbody>\n",
       "</table>\n",
       "</div>"
      ],
      "text/plain": [
       "                                                                cluster_id\n",
       "axa sa 75008 paris france                                                1\n",
       "axa sa 25  avenue matignon 75008 paris france                            1\n",
       "axa sa 75008 paris                                                       1\n",
       "koninklijke ahold delhaize n v   provincialeweg 11 netherlands           4\n",
       "koninklijke ahold delhaize n v   provincialeweg 11                       4"
      ]
     },
     "execution_count": 25,
     "metadata": {},
     "output_type": "execute_result"
    }
   ],
   "source": [
    "df_clusters = hierarchical_clustering(scored_pairs_table)\n",
    "df_clusters.head()"
   ]
  },
  {
   "cell_type": "code",
   "execution_count": null,
   "metadata": {},
   "outputs": [],
   "source": []
  },
  {
   "cell_type": "markdown",
   "metadata": {},
   "source": [
    "## All in one"
   ]
  },
  {
   "cell_type": "code",
   "execution_count": 28,
   "metadata": {},
   "outputs": [],
   "source": [
    "myDedupliPy = DedupliPy(X_initial, y_initial, 'col', 10)"
   ]
  },
  {
   "cell_type": "code",
   "execution_count": 29,
   "metadata": {
    "scrolled": true
   },
   "outputs": [
    {
     "name": "stdout",
     "output_type": "stream",
     "text": [
      "\n",
      "1/10 [0.37043145 0.37043145 0.37043145 0.37043145]\n",
      "Is this a match?\n",
      "-> kering sa 40 rue de sevres 75007 paris france\n",
      "-> danone s a  15  rue du helder 75439 paris france\n"
     ]
    },
    {
     "name": "stdin",
     "output_type": "stream",
     "text": [
      " n\n"
     ]
    },
    {
     "name": "stdout",
     "output_type": "stream",
     "text": [
      "\n",
      "2/10 [0.41807234 0.42253714 0.42253714 0.42253714]\n",
      "Is this a match?\n",
      "-> bayer aktiengesellschaft\n",
      "-> bayer aktiengesellschaft kaiser wilhelm allee 1 51368 leverkusen germany\n"
     ]
    },
    {
     "name": "stdin",
     "output_type": "stream",
     "text": [
      " y\n"
     ]
    },
    {
     "name": "stdout",
     "output_type": "stream",
     "text": [
      "\n",
      "3/10 [0.16271274 0.64216409 0.64216409 0.20962991]\n",
      "Is this a match?\n",
      "-> engie sa 92400 courbevoie france\n",
      "-> engie sa 1  place samuel de champlain 92400 courbevoie\n"
     ]
    },
    {
     "name": "stdin",
     "output_type": "stream",
     "text": [
      " y\n"
     ]
    },
    {
     "name": "stdout",
     "output_type": "stream",
     "text": [
      "\n",
      "4/10 [0.07452531 0.48512594 0.80120663 0.28560806]\n",
      "Is this a match?\n",
      "-> enel spa viale regina margherita  137 rm 00198 italy\n",
      "-> enel spa rome italy\n"
     ]
    },
    {
     "name": "stdin",
     "output_type": "stream",
     "text": [
      " y\n"
     ]
    },
    {
     "name": "stdout",
     "output_type": "stream",
     "text": [
      "\n",
      "5/10 [-0.07746085  0.39995106  0.98035451  0.1948263 ]\n",
      "Is this a match?\n",
      "-> orange s a  paris\n",
      "-> danone s a  15  rue du helder paris france\n"
     ]
    },
    {
     "name": "stdin",
     "output_type": "stream",
     "text": [
      " n\n"
     ]
    },
    {
     "name": "stdout",
     "output_type": "stream",
     "text": [
      "\n",
      "6/10 [0.03996665 0.5007947  0.96397957 0.18770859]\n",
      "Is this a match?\n",
      "-> total s a  paris\n",
      "-> total s a  92078 france\n"
     ]
    },
    {
     "name": "stdin",
     "output_type": "stream",
     "text": [
      " y\n"
     ]
    },
    {
     "name": "stdout",
     "output_type": "stream",
     "text": [
      "\n",
      "7/10 [0.11283307 0.50241045 0.96791081 0.15897382]\n",
      "Is this a match?\n",
      "-> bnp paribas sa 16 boulevard des italiens paris france\n",
      "-> safran sa paris france\n"
     ]
    },
    {
     "name": "stdin",
     "output_type": "stream",
     "text": [
      " n\n"
     ]
    },
    {
     "name": "stdout",
     "output_type": "stream",
     "text": [
      "\n",
      "8/10 [0.20311939 0.51248289 0.86047588 0.42107952]\n",
      "Is this a match?\n",
      "-> bnp paribas sa paris\n",
      "-> bnp paribas sa 16 boulevard des italiens 75009 france\n"
     ]
    },
    {
     "name": "stdin",
     "output_type": "stream",
     "text": [
      " y\n"
     ]
    },
    {
     "name": "stdout",
     "output_type": "stream",
     "text": [
      "\n",
      "9/10 [0.23397488 0.62684923 0.90968298 0.2002819 ]\n",
      "Is this a match?\n",
      "-> nokia corporation 2610 espoo finland\n",
      "-> nokia corporation karakaari 7\n"
     ]
    },
    {
     "name": "stdin",
     "output_type": "stream",
     "text": [
      " y\n"
     ]
    },
    {
     "name": "stdout",
     "output_type": "stream",
     "text": [
      "\n",
      "10/10 [0.26820591 0.60637701 0.89777728 0.30246147]\n",
      "Is this a match?\n",
      "-> nokia corporation karakaari 7\n",
      "-> nokia corporation 2610 espoo finland\n"
     ]
    },
    {
     "name": "stdin",
     "output_type": "stream",
     "text": [
      " y\n"
     ]
    },
    {
     "data": {
      "text/plain": [
       "<deduplipy.DedupliPy at 0x7f90ae346a30>"
      ]
     },
     "execution_count": 29,
     "metadata": {},
     "output_type": "execute_result"
    }
   ],
   "source": [
    "myDedupliPy.fit(X_pool)"
   ]
  },
  {
   "cell_type": "code",
   "execution_count": 31,
   "metadata": {},
   "outputs": [
    {
     "data": {
      "text/html": [
       "<div>\n",
       "<style scoped>\n",
       "    .dataframe tbody tr th:only-of-type {\n",
       "        vertical-align: middle;\n",
       "    }\n",
       "\n",
       "    .dataframe tbody tr th {\n",
       "        vertical-align: top;\n",
       "    }\n",
       "\n",
       "    .dataframe thead th {\n",
       "        text-align: right;\n",
       "    }\n",
       "</style>\n",
       "<table border=\"1\" class=\"dataframe\">\n",
       "  <thead>\n",
       "    <tr style=\"text-align: right;\">\n",
       "      <th></th>\n",
       "      <th>cluster_id</th>\n",
       "    </tr>\n",
       "  </thead>\n",
       "  <tbody>\n",
       "    <tr>\n",
       "      <th>axa sa 75008 paris france</th>\n",
       "      <td>1</td>\n",
       "    </tr>\n",
       "    <tr>\n",
       "      <th>axa sa 25  avenue matignon 75008 paris france</th>\n",
       "      <td>1</td>\n",
       "    </tr>\n",
       "    <tr>\n",
       "      <th>axa sa 75008 paris</th>\n",
       "      <td>1</td>\n",
       "    </tr>\n",
       "    <tr>\n",
       "      <th>koninklijke philips n v  amstelplein 2 1096 bc amsterdam</th>\n",
       "      <td>4</td>\n",
       "    </tr>\n",
       "    <tr>\n",
       "      <th>koninklijke philips n v  amstelplein 2 1096 bc netherlands</th>\n",
       "      <td>4</td>\n",
       "    </tr>\n",
       "  </tbody>\n",
       "</table>\n",
       "</div>"
      ],
      "text/plain": [
       "                                                            cluster_id\n",
       "axa sa 75008 paris france                                            1\n",
       "axa sa 25  avenue matignon 75008 paris france                        1\n",
       "axa sa 75008 paris                                                   1\n",
       "koninklijke philips n v  amstelplein 2 1096 bc amsterdam             4\n",
       "koninklijke philips n v  amstelplein 2 1096 bc netherlands           4"
      ]
     },
     "execution_count": 31,
     "metadata": {},
     "output_type": "execute_result"
    }
   ],
   "source": [
    "res = myDedupliPy.predict(X_pool)\n",
    "res.head()"
   ]
  },
  {
   "cell_type": "code",
   "execution_count": null,
   "metadata": {},
   "outputs": [],
   "source": []
  },
  {
   "cell_type": "code",
   "execution_count": null,
   "metadata": {},
   "outputs": [],
   "source": []
  },
  {
   "cell_type": "code",
   "execution_count": null,
   "metadata": {},
   "outputs": [],
   "source": []
  },
  {
   "cell_type": "code",
   "execution_count": null,
   "metadata": {},
   "outputs": [],
   "source": []
  },
  {
   "cell_type": "code",
   "execution_count": null,
   "metadata": {},
   "outputs": [],
   "source": []
  }
 ],
 "metadata": {
  "kernelspec": {
   "display_name": "Python 3",
   "language": "python",
   "name": "python3"
  },
  "language_info": {
   "codemirror_mode": {
    "name": "ipython",
    "version": 3
   },
   "file_extension": ".py",
   "mimetype": "text/x-python",
   "name": "python",
   "nbconvert_exporter": "python",
   "pygments_lexer": "ipython3",
   "version": "3.8.5"
  }
 },
 "nbformat": 4,
 "nbformat_minor": 4
}
