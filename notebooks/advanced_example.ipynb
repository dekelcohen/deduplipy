{
 "cells": [
  {
   "cell_type": "markdown",
   "metadata": {},
   "source": [
    "# DedupliPy"
   ]
  },
  {
   "cell_type": "markdown",
   "metadata": {},
   "source": [
    "## Advanced deduplication"
   ]
  },
  {
   "cell_type": "markdown",
   "metadata": {},
   "source": [
    "Load your data. In this example we take a sample dataset that comes with DedupliPy:"
   ]
  },
  {
   "cell_type": "code",
   "execution_count": 1,
   "metadata": {},
   "outputs": [],
   "source": [
    "from deduplipy.datasets import load_data"
   ]
  },
  {
   "cell_type": "code",
   "execution_count": 2,
   "metadata": {},
   "outputs": [
    {
     "name": "stdout",
     "output_type": "stream",
     "text": [
      "Column names: 'name', 'suburb', 'postcode'\n"
     ]
    }
   ],
   "source": [
    "df = load_data(kind='voters')"
   ]
  },
  {
   "cell_type": "code",
   "execution_count": 3,
   "metadata": {},
   "outputs": [
    {
     "data": {
      "text/html": [
       "<div>\n",
       "<style scoped>\n",
       "    .dataframe tbody tr th:only-of-type {\n",
       "        vertical-align: middle;\n",
       "    }\n",
       "\n",
       "    .dataframe tbody tr th {\n",
       "        vertical-align: top;\n",
       "    }\n",
       "\n",
       "    .dataframe thead th {\n",
       "        text-align: right;\n",
       "    }\n",
       "</style>\n",
       "<table border=\"1\" class=\"dataframe\">\n",
       "  <thead>\n",
       "    <tr style=\"text-align: right;\">\n",
       "      <th></th>\n",
       "      <th>name</th>\n",
       "      <th>suburb</th>\n",
       "      <th>postcode</th>\n",
       "    </tr>\n",
       "  </thead>\n",
       "  <tbody>\n",
       "    <tr>\n",
       "      <th>0</th>\n",
       "      <td>khimerc thomas</td>\n",
       "      <td>charlotte</td>\n",
       "      <td>2826g</td>\n",
       "    </tr>\n",
       "    <tr>\n",
       "      <th>1</th>\n",
       "      <td>lucille richardst</td>\n",
       "      <td>kannapolis</td>\n",
       "      <td>28o81</td>\n",
       "    </tr>\n",
       "  </tbody>\n",
       "</table>\n",
       "</div>"
      ],
      "text/plain": [
       "                name      suburb postcode\n",
       "0     khimerc thomas   charlotte    2826g\n",
       "1  lucille richardst  kannapolis    28o81"
      ]
     },
     "execution_count": 3,
     "metadata": {},
     "output_type": "execute_result"
    }
   ],
   "source": [
    "df.head(2)"
   ]
  },
  {
   "cell_type": "markdown",
   "metadata": {},
   "source": [
    "Create a `Deduplicator` instance and provide advanced settings"
   ]
  },
  {
   "cell_type": "markdown",
   "metadata": {},
   "source": [
    "- The similarity metrics per field are entered in a dict. Similarity metric can be any function that takes two strings and output a number."
   ]
  },
  {
   "cell_type": "code",
   "execution_count": 4,
   "metadata": {},
   "outputs": [],
   "source": [
    "from deduplipy.deduplicator import Deduplicator\n",
    "from fuzzywuzzy.fuzz import ratio, partial_ratio, token_set_ratio, token_sort_ratio"
   ]
  },
  {
   "cell_type": "code",
   "execution_count": 5,
   "metadata": {},
   "outputs": [],
   "source": [
    "field_info = {'name':[ratio, partial_ratio], 'suburb':[token_set_ratio, token_sort_ratio], 'postcode':[ratio]}"
   ]
  },
  {
   "cell_type": "markdown",
   "metadata": {},
   "source": [
    "- We choose our own set of rules for blocking which we define ourselves."
   ]
  },
  {
   "cell_type": "code",
   "execution_count": 6,
   "metadata": {},
   "outputs": [],
   "source": [
    "def first_two_characters(x):\n",
    "    return x[:2]"
   ]
  },
  {
   "cell_type": "markdown",
   "metadata": {},
   "source": [
    "- `interaction=True` makes the classifier include interaction features, e.g. `ratio('name') * token_set_ratio('suburb')`. When interaction features are included, the logistic regression classifier applies a L1 regularisation to prevent overfitting.\n",
    "- We set `verbose=1` to get information on the progress and a distribution of scores"
   ]
  },
  {
   "cell_type": "code",
   "execution_count": 7,
   "metadata": {},
   "outputs": [],
   "source": [
    "myDedupliPy = Deduplicator(field_info=field_info, interaction=True, rules = [first_two_characters], verbose=1)"
   ]
  },
  {
   "cell_type": "markdown",
   "metadata": {},
   "source": [
    "Fit the `Deduplicator` by active learning; enter whether a pair is a match (y) or not (n). When the training is converged, you will be notified and you can finish training by entering 'f'."
   ]
  },
  {
   "cell_type": "code",
   "execution_count": 8,
   "metadata": {
    "scrolled": true,
    "tags": []
   },
   "outputs": [
    {
     "name": "stdout",
     "output_type": "stream",
     "text": [
      "\n",
      "Nr. 1 (0+/0-) \n",
      "Is this a match? (y)es, (n)o, (p)revious, (s)kip, (f)inish\n",
      "-> name_1        reb3cca bauerboand\n",
      "suburb_1      raleigh           \n",
      "postcode_1    27615             \n",
      "-> name_2        reb3cca bauerboand\n",
      "suburb_2      raleigh           \n",
      "postcode_2    27615             \n"
     ]
    },
    {
     "name": "stdin",
     "output_type": "stream",
     "text": [
      " y\n"
     ]
    },
    {
     "name": "stdout",
     "output_type": "stream",
     "text": [
      "\n",
      "Nr. 2 (1+/0-) \n",
      "Is this a match? (y)es, (n)o, (p)revious, (s)kip, (f)inish\n",
      "-> name_1        reb3cca bauerboand\n",
      "suburb_1      raleigh           \n",
      "postcode_1    27615             \n",
      "-> name_2        maureen desilets\n",
      "suburb_2      monro           \n",
      "postcode_2    281l2           \n"
     ]
    },
    {
     "name": "stdin",
     "output_type": "stream",
     "text": [
      " n\n"
     ]
    },
    {
     "name": "stdout",
     "output_type": "stream",
     "text": [
      "\n",
      "Nr. 3 (1+/1-) \n",
      "LR parameters: [0.00195159 0.         0.         0.         0.         0.\n",
      " 0.         0.         0.         0.         0.         0.\n",
      " 0.         0.         0.         0.         0.        ]\n",
      "Is this a match? (y)es, (n)o, (p)revious, (s)kip, (f)inish\n",
      "-> name_1        reb3cca bauerboand\n",
      "suburb_1      raleigh           \n",
      "postcode_1    27615             \n",
      "-> name_2        louise logan \n",
      "suburb_2      ruthernordton\n",
      "postcode_2    28189        \n"
     ]
    },
    {
     "name": "stdin",
     "output_type": "stream",
     "text": [
      " n\n"
     ]
    },
    {
     "name": "stdout",
     "output_type": "stream",
     "text": [
      "Largest step in LR coefficients: 0.3237594602428085\n",
      "\n",
      "Nr. 4 (1+/2-) \n",
      "LR parameters: [-0.25974397  0.          0.03306706  0.          0.18900025  0.18900025\n",
      "  0.32375946  0.          0.          0.          0.          0.\n",
      "  0.          0.          0.          0.          0.        ]\n",
      "Is this a match? (y)es, (n)o, (p)revious, (s)kip, (f)inish\n",
      "-> name_1        demetrio hinkle\n",
      "suburb_1      gastonia       \n",
      "postcode_1    28054          \n",
      "-> name_2        kimberly biggs\n",
      "suburb_2      jacksonville  \n",
      "postcode_2    28546         \n"
     ]
    },
    {
     "name": "stdin",
     "output_type": "stream",
     "text": [
      " n\n"
     ]
    },
    {
     "name": "stdout",
     "output_type": "stream",
     "text": [
      "Largest step in LR coefficients: 1.5066797250631585\n",
      "\n",
      "Nr. 5 (1+/3-) \n",
      "LR parameters: [-1.7664237   0.          0.          0.          0.          0.\n",
      "  0.          1.07831028  0.          0.          0.          0.\n",
      "  0.          0.          0.          0.          0.        ]\n",
      "Is this a match? (y)es, (n)o, (p)revious, (s)kip, (f)inish\n",
      "-> name_1        reb3cca bauerboand\n",
      "suburb_1      raleigh           \n",
      "postcode_1    27615             \n",
      "-> name_2        nitw mcdowell\n",
      "suburb_2      raleigh      \n",
      "postcode_2    2761q        \n"
     ]
    },
    {
     "name": "stdin",
     "output_type": "stream",
     "text": [
      " n\n"
     ]
    },
    {
     "name": "stdout",
     "output_type": "stream",
     "text": [
      "Largest step in LR coefficients: 0.5727083794219332\n",
      "\n",
      "Nr. 6 (1+/4-) \n",
      "LR parameters: [-2.33913208  0.          0.          0.          0.          0.\n",
      "  0.          1.1594471   0.          0.          0.          0.\n",
      "  0.          0.          0.          0.          0.        ]\n",
      "Is this a match? (y)es, (n)o, (p)revious, (s)kip, (f)inish\n",
      "-> name_1        louise logan \n",
      "suburb_1      ruthernordton\n",
      "postcode_1    28189        \n",
      "-> name_2        loui5e lofan \n",
      "suburb_2      rutherfordton\n",
      "postcode_2    28139        \n"
     ]
    },
    {
     "name": "stdin",
     "output_type": "stream",
     "text": [
      " y\n"
     ]
    },
    {
     "name": "stdout",
     "output_type": "stream",
     "text": [
      "Largest step in LR coefficients: 1.8151438885774747\n",
      "\n",
      "Nr. 7 (2+/4-) \n",
      "LR parameters: [-0.52398819  0.          1.54840218  0.          0.          0.\n",
      "  0.          0.          0.          0.          0.          0.\n",
      "  0.          0.          0.          0.          0.        ]\n",
      "Is this a match? (y)es, (n)o, (p)revious, (s)kip, (f)inish\n",
      "-> name_1        clara robinson\n",
      "suburb_1      fayetteville  \n",
      "postcode_1    28306         \n",
      "-> name_2        marie johnson\n",
      "suburb_2      kernersville \n",
      "postcode_2    27284        \n"
     ]
    },
    {
     "name": "stdin",
     "output_type": "stream",
     "text": [
      " n\n"
     ]
    },
    {
     "name": "stdout",
     "output_type": "stream",
     "text": [
      "Largest step in LR coefficients: 0.20769047490158243\n",
      "\n",
      "Nr. 8 (2+/5-) \n",
      "LR parameters: [-0.73167866  0.          1.5587708   0.          0.          0.\n",
      "  0.08879556  0.          0.          0.          0.          0.\n",
      "  0.          0.          0.          0.          0.        ]\n",
      "Is this a match? (y)es, (n)o, (p)revious, (s)kip, (f)inish\n",
      "-> name_1        margaret williams\n",
      "suburb_1      roseboro         \n",
      "postcode_1    28382            \n",
      "-> name_2        eulonta williams\n",
      "suburb_2      louisburg       \n",
      "postcode_2    27049           \n"
     ]
    },
    {
     "name": "stdin",
     "output_type": "stream",
     "text": [
      " n\n"
     ]
    },
    {
     "name": "stdout",
     "output_type": "stream",
     "text": [
      "Largest step in LR coefficients: 0.5221736277644791\n",
      "\n",
      "Nr. 9 (2+/6-) \n",
      "LR parameters: [-0.87791237  0.          1.03659717  0.          0.08372057  0.08372057\n",
      "  0.3074637   0.          0.          0.          0.15333043  0.\n",
      "  0.          0.24027221  0.          0.          0.        ]\n",
      "Is this a match? (y)es, (n)o, (p)revious, (s)kip, (f)inish\n",
      "-> name_1        kimberly biggs\n",
      "suburb_1      jacksonville  \n",
      "postcode_1    28546         \n",
      "-> name_2        ckimberly tavis\n",
      "suburb_2      dunn           \n",
      "postcode_2    28334          \n"
     ]
    },
    {
     "name": "stdin",
     "output_type": "stream",
     "text": [
      " n\n"
     ]
    },
    {
     "name": "stdout",
     "output_type": "stream",
     "text": [
      "Largest step in LR coefficients: 0.45535888147434955\n",
      "\n",
      "Nr. 10 (2+/7-) \n",
      "LR parameters: [-1.11285169  0.          0.58123829  0.          0.38718085  0.38718085\n",
      "  0.12467266  0.          0.27120474  0.27120474  0.12544345  0.\n",
      "  0.          0.          0.          0.          0.        ]\n",
      "Is this a match? (y)es, (n)o, (p)revious, (s)kip, (f)inish\n",
      "-> name_1        abraam th9mas\n",
      "suburb_1      raleigh      \n",
      "postcode_1    27613        \n",
      "-> name_2        desiree thomas\n",
      "suburb_2      raleigh       \n",
      "postcode_2    27610         \n"
     ]
    },
    {
     "name": "stdin",
     "output_type": "stream",
     "text": [
      " n\n"
     ]
    },
    {
     "name": "stdout",
     "output_type": "stream",
     "text": [
      "Largest step in LR coefficients: 0.536507210457234\n",
      "\n",
      "Nr. 11 (2+/8-) \n",
      "LR parameters: [-1.24894989  0.          1.1177455   0.          0.12194578  0.12194578\n",
      "  0.20146248  0.          0.28477555  0.28477555  0.12809502  0.\n",
      "  0.          0.          0.          0.          0.        ]\n",
      "Is this a match? (y)es, (n)o, (p)revious, (s)kip, (f)inish\n",
      "-> name_1        margaret williams\n",
      "suburb_1      roseboro         \n",
      "postcode_1    28382            \n",
      "-> name_2        janes williams\n",
      "suburb_2      tarboro       \n",
      "postcode_2    27896         \n"
     ]
    },
    {
     "name": "stdin",
     "output_type": "stream",
     "text": [
      " n\n"
     ]
    },
    {
     "name": "stdout",
     "output_type": "stream",
     "text": [
      "Largest step in LR coefficients: 0.7548538204546067\n",
      "\n",
      "Nr. 12 (2+/9-) \n",
      "LR parameters: [-1.25188836  0.          0.76836642  0.          0.20223018  0.20223018\n",
      "  0.22143266  0.          0.0086061   0.0086061   0.88294884  0.\n",
      "  0.          0.          0.          0.          0.        ]\n",
      "Is this a match? (y)es, (n)o, (p)revious, (s)kip, (f)inish\n",
      "-> name_1        james hendricks\n",
      "suburb_1      battleboro     \n",
      "postcode_1    27809          \n",
      "-> name_2        antrea hendricks\n",
      "suburb_2      rocky m0unt     \n",
      "postcode_2    27801           \n"
     ]
    },
    {
     "name": "stdin",
     "output_type": "stream",
     "text": [
      " n\n"
     ]
    },
    {
     "name": "stdout",
     "output_type": "stream",
     "text": [
      "Largest step in LR coefficients: 0.8829488433597157\n",
      "\n",
      "Nr. 13 (2+/10-) \n",
      "LR parameters: [-1.46066163  0.          0.80838505  0.          0.27727059  0.27727059\n",
      "  0.27293314  0.          0.46944452  0.46944452  0.          0.\n",
      "  0.          0.          0.          0.          0.        ]\n",
      "Is this a match? (y)es, (n)o, (p)revious, (s)kip, (f)inish\n",
      "-> name_1        maryann ca5h\n",
      "suburb_1      waxha       \n",
      "postcode_1    28173       \n",
      "-> name_2        ivev oden \n",
      "suburb_2      golclsboro\n",
      "postcode_2    27530     \n"
     ]
    },
    {
     "name": "stdin",
     "output_type": "stream",
     "text": [
      " n\n"
     ]
    },
    {
     "name": "stdout",
     "output_type": "stream",
     "text": [
      "Largest step in LR coefficients: 0.4802498948241479\n",
      "\n",
      "Nr. 14 (2+/11-) \n",
      "LR parameters: [-1.6561363   0.          0.74768866  0.          0.36141759  0.36141759\n",
      "  0.04908655  0.          0.3333332   0.3333332   0.          0.\n",
      "  0.          0.48024989  0.          0.          0.        ]\n",
      "Is this a match? (y)es, (n)o, (p)revious, (s)kip, (f)inish\n",
      "-> name_1        donalr barney\n",
      "suburb_1      fayetteville \n",
      "postcode_1    z8303        \n",
      "-> name_2        crqig williams\n",
      "suburb_2      winston-salem \n",
      "postcode_2    27l27         \n"
     ]
    },
    {
     "name": "stdin",
     "output_type": "stream",
     "text": [
      " n\n"
     ]
    },
    {
     "name": "stdout",
     "output_type": "stream",
     "text": [
      "Largest step in LR coefficients: 0.4802498948241479\n",
      "\n",
      "Nr. 15 (2+/12-) \n",
      "LR parameters: [-2.03355147  0.          0.90017051  0.          0.33023477  0.33023477\n",
      "  0.02857334  0.          0.53942814  0.53942814  0.08585938  0.\n",
      "  0.          0.          0.          0.          0.        ]\n",
      "Is this a match? (y)es, (n)o, (p)revious, (s)kip, (f)inish\n",
      "-> name_1        margaret stewart\n",
      "suburb_1      hamlet          \n",
      "postcode_1    28345           \n",
      "-> name_2        alinia stewart\n",
      "suburb_2      charlotte     \n",
      "postcode_2    28273         \n"
     ]
    },
    {
     "name": "stdin",
     "output_type": "stream",
     "text": [
      " n\n"
     ]
    },
    {
     "name": "stdout",
     "output_type": "stream",
     "text": [
      "Largest step in LR coefficients: 0.13325491061485994\n",
      "\n",
      "Nr. 16 (2+/13-) \n",
      "LR parameters: [-2.16680638  0.          0.81914442  0.          0.40918552  0.40918552\n",
      "  0.          0.          0.56449506  0.56449506  0.          0.\n",
      "  0.          0.08866182  0.          0.          0.        ]\n",
      "Is this a match? (y)es, (n)o, (p)revious, (s)kip, (f)inish\n",
      "-> name_1        maureen desilets\n",
      "suburb_1      monro           \n",
      "postcode_1    281l2           \n",
      "-> name_2        darren aldndge\n",
      "suburb_2      monro         \n",
      "postcode_2    28110         \n"
     ]
    },
    {
     "name": "stdin",
     "output_type": "stream",
     "text": [
      " n\n"
     ]
    },
    {
     "name": "stdout",
     "output_type": "stream",
     "text": [
      "Largest step in LR coefficients: 0.3423618714917259\n",
      "\n",
      "Nr. 17 (2+/14-) \n",
      "LR parameters: [-2.16321172  0.          1.16150629  0.          0.23743639  0.23743639\n",
      "  0.1184764   0.          0.53437482  0.53437482  0.00999316  0.\n",
      "  0.          0.18429657  0.          0.          0.        ]\n",
      "Is this a match? (y)es, (n)o, (p)revious, (s)kip, (f)inish\n",
      "-> name_1        michael burke\n",
      "suburb_1      kinston      \n",
      "postcode_1    28504        \n",
      "-> name_2        kristin woods\n",
      "suburb_2      durham       \n",
      "postcode_2    27713        \n"
     ]
    },
    {
     "name": "stdin",
     "output_type": "stream",
     "text": [
      " n\n"
     ]
    },
    {
     "name": "stdout",
     "output_type": "stream",
     "text": [
      "Largest step in LR coefficients: 0.26143286682568156\n",
      "\n",
      "Nr. 18 (2+/15-) \n",
      "LR parameters: [-2.42464459  0.          1.16381245  0.          0.21300255  0.21300255\n",
      "  0.13701936  0.          0.5953676   0.5953676   0.1691336   0.\n",
      "  0.          0.          0.          0.          0.        ]\n",
      "Is this a match? (y)es, (n)o, (p)revious, (s)kip, (f)inish\n",
      "-> name_1        kimberly biggs\n",
      "suburb_1      jacksonville  \n",
      "postcode_1    28546         \n",
      "-> name_2        kimberly hollander\n",
      "suburb_2      asheville         \n",
      "postcode_2    28803             \n"
     ]
    },
    {
     "name": "stdin",
     "output_type": "stream",
     "text": [
      " n\n"
     ]
    },
    {
     "name": "stdout",
     "output_type": "stream",
     "text": [
      "Largest step in LR coefficients: 0.0994945479368741\n",
      "\n",
      "Nr. 19 (2+/16-) \n",
      "LR parameters: [-2.50640327  0.          1.16889374  0.          0.19954114  0.19954114\n",
      "  0.2027532   0.          0.56046018  0.56046018  0.26862814  0.\n",
      "  0.          0.          0.          0.          0.        ]\n",
      "Is this a match? (y)es, (n)o, (p)revious, (s)kip, (f)inish\n",
      "-> name_1        omar skinner\n",
      "suburb_1      greenville  \n",
      "postcode_1    27834       \n",
      "-> name_2        yoshida stokes\n",
      "suburb_2      greenville    \n",
      "postcode_2    27834         \n"
     ]
    },
    {
     "name": "stdin",
     "output_type": "stream",
     "text": [
      " n\n"
     ]
    },
    {
     "name": "stdout",
     "output_type": "stream",
     "text": [
      "Largest step in LR coefficients: 0.3920115502001511\n",
      "\n",
      "Nr. 20 (2+/17-) \n",
      "LR parameters: [-2.59932654  0.          1.56090529  0.          0.12910711  0.12910711\n",
      "  0.0343254   0.          0.63421082  0.63421082  0.13070365  0.\n",
      "  0.          0.          0.          0.          0.        ]\n",
      "Is this a match? (y)es, (n)o, (p)revious, (s)kip, (f)inish\n",
      "-> name_1        joanne grubb\n",
      "suburb_1      selma       \n",
      "postcode_1    27576       \n",
      "-> name_2        ckimberly tavis\n",
      "suburb_2      dunn           \n",
      "postcode_2    28334          \n"
     ]
    },
    {
     "name": "stdin",
     "output_type": "stream",
     "text": [
      " n\n"
     ]
    },
    {
     "name": "stdout",
     "output_type": "stream",
     "text": [
      "Largest step in LR coefficients: 0.2311214403560089\n",
      "\n",
      "Nr. 21 (2+/18-) \n",
      "LR parameters: [-2.83044798  0.          1.5649872   0.          0.08928387  0.08928387\n",
      "  0.03972629  0.          0.69156524  0.69156524  0.12956098  0.\n",
      "  0.          0.          0.          0.          0.        ]\n",
      "Is this a match? (y)es, (n)o, (p)revious, (s)kip, (f)inish\n",
      "-> name_1        carolyn howell\n",
      "suburb_1      wilson        \n",
      "postcode_1    27896         \n",
      "-> name_2        carol howe\n",
      "suburb_2      horse shoe\n",
      "postcode_2    28742     \n"
     ]
    },
    {
     "name": "stdin",
     "output_type": "stream",
     "text": [
      " n\n"
     ]
    },
    {
     "name": "stdout",
     "output_type": "stream",
     "text": [
      "Largest step in LR coefficients: 0.1877081194864707\n",
      "\n",
      "Nr. 22 (2+/19-) \n",
      "LR parameters: [-2.75778425  0.          1.37727908  0.          0.20176265  0.20176265\n",
      "  0.10425588  0.          0.70251564  0.70251564  0.14823128  0.\n",
      "  0.          0.          0.          0.          0.        ]\n",
      "Is this a match? (y)es, (n)o, (p)revious, (s)kip, (f)inish\n",
      "-> name_1        paul smith\n",
      "suburb_1      cary      \n",
      "postcode_1    27519     \n",
      "-> name_2        john lloyd\n",
      "suburb_2      pineville \n",
      "postcode_2    28134     \n"
     ]
    },
    {
     "name": "stdin",
     "output_type": "stream",
     "text": [
      " n\n"
     ]
    },
    {
     "name": "stdout",
     "output_type": "stream",
     "text": [
      "Largest step in LR coefficients: 0.20566719795224708\n",
      "\n",
      "Nr. 23 (2+/20-) \n",
      "LR parameters: [-2.96345145  0.          1.3470289   0.          0.18100691  0.18100691\n",
      "  0.07419844  0.          0.71955718  0.71955718  0.25190613  0.\n",
      "  0.          0.          0.          0.          0.        ]\n",
      "Is this a match? (y)es, (n)o, (p)revious, (s)kip, (f)inish\n",
      "-> name_1        jean mise\n",
      "suburb_1      roxboro  \n",
      "postcode_1    27574    \n",
      "-> name_2        janes williams\n",
      "suburb_2      tarboro       \n",
      "postcode_2    27896         \n"
     ]
    },
    {
     "name": "stdin",
     "output_type": "stream",
     "text": [
      " n\n"
     ]
    },
    {
     "name": "stdout",
     "output_type": "stream",
     "text": [
      "Largest step in LR coefficients: 0.09453111838098638\n",
      "\n",
      "Nr. 24 (2+/21-) \n",
      "LR parameters: [-3.01856349  0.          1.38385881  0.          0.15991746  0.15991746\n",
      "  0.11564447  0.          0.67880781  0.67880781  0.34643724  0.\n",
      "  0.          0.          0.          0.          0.        ]\n",
      "Is this a match? (y)es, (n)o, (p)revious, (s)kip, (f)inish\n",
      "-> name_1        ckay leedy\n",
      "suburb_1      lijcolnton\n",
      "postcode_1    28092     \n",
      "-> name_2        viviem bryan\n",
      "suburb_2      durzam      \n",
      "postcode_2    27713       \n"
     ]
    },
    {
     "name": "stdin",
     "output_type": "stream",
     "text": [
      " n\n"
     ]
    },
    {
     "name": "stdout",
     "output_type": "stream",
     "text": [
      "Largest step in LR coefficients: 0.2036926653221527\n",
      "\n",
      "Nr. 25 (2+/22-) \n",
      "LR parameters: [-3.22225615  0.          1.3542564   0.          0.13055729  0.13055729\n",
      "  0.09554833  0.          0.72626303  0.72626303  0.36277481  0.\n",
      "  0.          0.          0.          0.          0.        ]\n",
      "Is this a match? (y)es, (n)o, (p)revious, (s)kip, (f)inish\n",
      "-> name_1        john lloyd\n",
      "suburb_1      pineville \n",
      "postcode_1    28134     \n",
      "-> name_2        amv bates\n",
      "suburb_2      cary     \n",
      "postcode_2    27511    \n"
     ]
    },
    {
     "name": "stdin",
     "output_type": "stream",
     "text": [
      " n\n"
     ]
    },
    {
     "name": "stdout",
     "output_type": "stream",
     "text": [
      "Largest step in LR coefficients: 0.1933402923009453\n",
      "\n",
      "Nr. 26 (2+/23-) \n",
      "LR parameters: [-3.41559644  0.          1.3138406   0.          0.10982502  0.10982502\n",
      "  0.04412712  0.          0.74854745  0.74854745  0.45122402  0.\n",
      "  0.          0.          0.          0.          0.        ]\n",
      "Is this a match? (y)es, (n)o, (p)revious, (s)kip, (f)inish\n",
      "-> name_1        john maher\n",
      "suburb_1      cary      \n",
      "postcode_1    27513     \n",
      "-> name_2        keily sgea\n",
      "suburb_2      boone     \n",
      "postcode_2    28608     \n"
     ]
    },
    {
     "name": "stdin",
     "output_type": "stream",
     "text": [
      " n\n"
     ]
    },
    {
     "name": "stdout",
     "output_type": "stream",
     "text": [
      "Largest step in LR coefficients: 0.19849155889500203\n",
      "\n",
      "Nr. 27 (2+/24-) \n",
      "LR parameters: [-3.614088    0.          1.27185364  0.          0.0800384   0.0800384\n",
      "  0.00600408  0.          0.79489196  0.79489196  0.47323774  0.\n",
      "  0.          0.          0.          0.          0.        ]\n",
      "Is this a match? (y)es, (n)o, (p)revious, (s)kip, (f)inish\n",
      "-> name_1        amv bates\n",
      "suburb_1      cary     \n",
      "postcode_1    27511    \n",
      "-> name_2        keily sgea\n",
      "suburb_2      boone     \n",
      "postcode_2    28608     \n"
     ]
    },
    {
     "name": "stdin",
     "output_type": "stream",
     "text": [
      " n\n"
     ]
    },
    {
     "name": "stdout",
     "output_type": "stream",
     "text": [
      "Largest step in LR coefficients: 0.19072594145825095\n",
      "\n",
      "Nr. 28 (2+/25-) \n",
      "LR parameters: [-3.80481395  0.          1.21514906  0.          0.04047533  0.04047533\n",
      "  0.          0.          0.84086912  0.84086912  0.48990016  0.\n",
      "  0.          0.          0.          0.          0.        ]\n",
      "Is this a match? (y)es, (n)o, (p)revious, (s)kip, (f)inish\n",
      "-> name_1        jean mise\n",
      "suburb_1      roxboro  \n",
      "postcode_1    27574    \n",
      "-> name_2        donalr barney\n",
      "suburb_2      fayetteville \n",
      "postcode_2    z8303        \n"
     ]
    },
    {
     "name": "stdin",
     "output_type": "stream",
     "text": [
      " n\n"
     ]
    },
    {
     "name": "stdout",
     "output_type": "stream",
     "text": [
      "Largest step in LR coefficients: 0.18321082264836042\n",
      "\n",
      "Nr. 29 (2+/26-) \n",
      "LR parameters: [-3.98802477  0.          1.14885001  0.          0.          0.\n",
      "  0.          0.          0.90895763  0.90895763  0.45797252  0.\n",
      "  0.          0.          0.          0.          0.        ]\n",
      "Is this a match? (y)es, (n)o, (p)revious, (s)kip, (f)inish\n",
      "-> name_1        robert ambriz\n",
      "suburb_1      four oaks    \n",
      "postcode_1    27524        \n",
      "-> name_2        david sprinkle\n",
      "suburb_2      hiddenite     \n",
      "postcode_2    28636         \n"
     ]
    },
    {
     "name": "stdin",
     "output_type": "stream",
     "text": [
      " n\n"
     ]
    },
    {
     "name": "stdout",
     "output_type": "stream",
     "text": [
      "Largest step in LR coefficients: 0.16576584950246565\n",
      "\n",
      "Nr. 30 (2+/27-) \n",
      "LR parameters: [-4.15379062  0.          1.00881455  0.          0.          0.\n",
      "  0.          0.          0.93901354  0.93901354  0.49103484  0.\n",
      "  0.          0.          0.          0.          0.        ]\n",
      "Is this a match? (y)es, (n)o, (p)revious, (s)kip, (f)inish\n",
      "-> name_1        joseph taylor\n",
      "suburb_1      eden         \n",
      "postcode_1    27288        \n",
      "-> name_2        maryann ca5h\n",
      "suburb_2      waxha       \n",
      "postcode_2    28173       \n"
     ]
    },
    {
     "name": "stdin",
     "output_type": "stream",
     "text": [
      " n\n"
     ]
    },
    {
     "name": "stdout",
     "output_type": "stream",
     "text": [
      "Largest step in LR coefficients: 0.15145464190200375\n",
      "\n",
      "Nr. 31 (2+/28-) \n",
      "LR parameters: [-4.30524526  0.          0.86401098  0.          0.          0.\n",
      "  0.          0.          0.96292995  0.96292995  0.53617875  0.\n",
      "  0.          0.          0.          0.          0.        ]\n",
      "Is this a match? (y)es, (n)o, (p)revious, (s)kip, (f)inish\n",
      "-> name_1        john maher\n",
      "suburb_1      cary      \n",
      "postcode_1    27513     \n",
      "-> name_2        david sprinkle\n",
      "suburb_2      hiddenite     \n",
      "postcode_2    28636         \n"
     ]
    },
    {
     "name": "stdin",
     "output_type": "stream",
     "text": [
      " n\n"
     ]
    },
    {
     "name": "stdout",
     "output_type": "stream",
     "text": [
      "Largest step in LR coefficients: 0.1447206243394169\n",
      "\n",
      "Nr. 32 (2+/29-) \n",
      "LR parameters: [-4.42788297  0.          0.71929035  0.          0.          0.\n",
      "  0.          0.          0.98830539  0.98830539  0.5562519   0.\n",
      "  0.          0.          0.          0.          0.        ]\n",
      "Is this a match? (y)es, (n)o, (p)revious, (s)kip, (f)inish\n",
      "-> name_1        john maher\n",
      "suburb_1      cary      \n",
      "postcode_1    27513     \n",
      "-> name_2        davis sprinkle\n",
      "suburb_2      hiddenite     \n",
      "postcode_2    28656         \n"
     ]
    },
    {
     "name": "stdin",
     "output_type": "stream",
     "text": [
      " n\n"
     ]
    },
    {
     "name": "stdout",
     "output_type": "stream",
     "text": [
      "Largest step in LR coefficients: 0.14191158573937201\n",
      "\n",
      "Nr. 33 (2+/30-) \n",
      "LR parameters: [-4.56979456  0.          0.58910123  0.          0.          0.\n",
      "  0.          0.          1.01274414  1.01274414  0.57606904  0.\n",
      "  0.          0.          0.          0.          0.        ]\n",
      "Is this a match? (y)es, (n)o, (p)revious, (s)kip, (f)inish\n",
      "-> name_1        john lloyd\n",
      "suburb_1      pineville \n",
      "postcode_1    28134     \n",
      "-> name_2        robert ambriz\n",
      "suburb_2      four oaks    \n",
      "postcode_2    27524        \n"
     ]
    },
    {
     "name": "stdin",
     "output_type": "stream",
     "text": [
      " n\n"
     ]
    },
    {
     "name": "stdout",
     "output_type": "stream",
     "text": [
      "Largest step in LR coefficients: 0.1576844415694323\n",
      "\n",
      "Nr. 34 (2+/31-) \n",
      "LR parameters: [-4.727479    0.          0.43291389  0.          0.          0.\n",
      "  0.          0.00497045  1.04159191  1.04159191  0.60276888  0.\n",
      "  0.          0.          0.          0.          0.        ]\n",
      "Is this a match? (y)es, (n)o, (p)revious, (s)kip, (f)inish\n",
      "-> name_1        leah wilson\n",
      "suburb_1      greensboro \n",
      "postcode_1    27407      \n",
      "-> name_2        maryann ca5h\n",
      "suburb_2      waxha       \n",
      "postcode_2    28173       \n"
     ]
    },
    {
     "name": "stdin",
     "output_type": "stream",
     "text": [
      " n\n"
     ]
    },
    {
     "name": "stdout",
     "output_type": "stream",
     "text": [
      "Largest step in LR coefficients: 0.20960440512999945\n",
      "\n",
      "Nr. 35 (2+/32-) \n",
      "LR parameters: [-4.9370834   0.          0.23548526  0.          0.          0.\n",
      "  0.          0.09028131  1.04990695  1.04990695  0.63017819  0.\n",
      "  0.          0.          0.          0.          0.        ]\n",
      "Is this a match? (y)es, (n)o, (p)revious, (s)kip, (f)inish\n",
      "-> name_1        kristin woods\n",
      "suburb_1      durham       \n",
      "postcode_1    27713        \n",
      "-> name_2        donalr barney\n",
      "suburb_2      fayetteville \n",
      "postcode_2    z8303        \n"
     ]
    },
    {
     "name": "stdin",
     "output_type": "stream",
     "text": [
      " n\n"
     ]
    },
    {
     "name": "stdout",
     "output_type": "stream",
     "text": [
      "Largest step in LR coefficients: 0.2251786517278882\n",
      "\n",
      "Nr. 36 (2+/33-) \n",
      "LR parameters: [-5.16226206  0.          0.02250502  0.          0.          0.\n",
      "  0.          0.18349133  1.06352517  1.06352517  0.64583387  0.\n",
      "  0.          0.          0.          0.          0.        ]\n",
      "Is this a match? (y)es, (n)o, (p)revious, (s)kip, (f)inish\n",
      "-> name_1        jean mise\n",
      "suburb_1      roxboro  \n",
      "postcode_1    27574    \n",
      "-> name_2        phpillip cookd\n",
      "suburb_2      winston salem \n",
      "postcode_2    27101         \n"
     ]
    },
    {
     "name": "stdin",
     "output_type": "stream",
     "text": [
      " n\n"
     ]
    },
    {
     "name": "stdout",
     "output_type": "stream",
     "text": [
      "Largest step in LR coefficients: 0.03707858686962329\n",
      "Classifier converged, enter 'f' to stop training\n",
      "\n",
      "Nr. 37 (2+/34-) \n",
      "LR parameters: [-5.12518347  0.          0.          0.          0.          0.\n",
      "  0.          0.18167089  1.0389568   1.0389568   0.61943853  0.\n",
      "  0.          0.          0.          0.          0.        ]\n",
      "Is this a match? (y)es, (n)o, (p)revious, (s)kip, (f)inish\n",
      "-> name_1        carol howe\n",
      "suburb_1      horse shoe\n",
      "postcode_1    28742     \n",
      "-> name_2        viviem bryan\n",
      "suburb_2      durzam      \n",
      "postcode_2    27713       \n"
     ]
    },
    {
     "name": "stdin",
     "output_type": "stream",
     "text": [
      " n\n"
     ]
    },
    {
     "name": "stdout",
     "output_type": "stream",
     "text": [
      "Largest step in LR coefficients: 0.046933781414025155\n",
      "Classifier converged, enter 'f' to stop training\n",
      "\n",
      "Nr. 38 (2+/35-) \n",
      "LR parameters: [-5.17211725  0.          0.          0.          0.          0.\n",
      "  0.          0.18940717  1.0182421   1.0182421   0.60125894  0.\n",
      "  0.          0.          0.          0.          0.        ]\n",
      "Is this a match? (y)es, (n)o, (p)revious, (s)kip, (f)inish\n",
      "-> name_1        kenyatta thornton\n",
      "suburb_1      lexington        \n",
      "postcode_1    27292            \n",
      "-> name_2        betty honbaier\n",
      "suburb_2      lexington     \n",
      "postcode_2    27292         \n"
     ]
    },
    {
     "name": "stdin",
     "output_type": "stream",
     "text": [
      " f\n"
     ]
    },
    {
     "name": "stdout",
     "output_type": "stream",
     "text": [
      " score  count\n",
      "  0.05   4912\n",
      "  0.10      0\n",
      "  0.15      0\n",
      "  0.20      0\n",
      "  0.25      0\n",
      "  0.30      0\n",
      "  0.35      0\n",
      "  0.40      0\n",
      "  0.45      0\n",
      "  0.50      0\n",
      "  0.55      0\n",
      "  0.60      0\n",
      "  0.65      0\n",
      "  0.70      0\n",
      "  0.75      0\n",
      "  0.80      0\n",
      "  0.85      0\n",
      "  0.90      0\n",
      "  0.95      0\n",
      "  1.00    101\n",
      "active learning finished\n",
      "recall threshold reached, recall = 1.0\n",
      "blocking rules found\n",
      "[[<function first_two_characters at 0x7f9a3790aa60>, 'first_two_characters', 'postcode']]\n"
     ]
    },
    {
     "data": {
      "text/plain": [
       "<deduplipy.deduplicator.deduplicator.Deduplicator at 0x7f9a3992ca60>"
      ]
     },
     "execution_count": 8,
     "metadata": {},
     "output_type": "execute_result"
    }
   ],
   "source": [
    "myDedupliPy.fit(df)"
   ]
  },
  {
   "cell_type": "markdown",
   "metadata": {},
   "source": [
    "Based on the histogram of scores, we decide to ignore all pairs with a similarity probability lower than 0.1 when predicting:"
   ]
  },
  {
   "cell_type": "markdown",
   "metadata": {},
   "source": [
    "Apply the trained `Deduplicator` on (new) data. The column `deduplication_id` is the identifier for a cluster. Rows with the same `deduplication_id` are found to be the same real world entity."
   ]
  },
  {
   "cell_type": "code",
   "execution_count": 9,
   "metadata": {},
   "outputs": [
    {
     "name": "stdout",
     "output_type": "stream",
     "text": [
      "blocking started\n",
      "blocking finished\n",
      "Nr of pairs: 748767\n",
      "scoring started\n",
      "scoring finished\n",
      "Nr of filtered pairs: 1152\n",
      "Clustering started\n",
      "Clustering finished\n"
     ]
    },
    {
     "data": {
      "text/html": [
       "<div>\n",
       "<style scoped>\n",
       "    .dataframe tbody tr th:only-of-type {\n",
       "        vertical-align: middle;\n",
       "    }\n",
       "\n",
       "    .dataframe tbody tr th {\n",
       "        vertical-align: top;\n",
       "    }\n",
       "\n",
       "    .dataframe thead th {\n",
       "        text-align: right;\n",
       "    }\n",
       "</style>\n",
       "<table border=\"1\" class=\"dataframe\">\n",
       "  <thead>\n",
       "    <tr style=\"text-align: right;\">\n",
       "      <th></th>\n",
       "      <th>name</th>\n",
       "      <th>suburb</th>\n",
       "      <th>postcode</th>\n",
       "      <th>deduplication_id</th>\n",
       "    </tr>\n",
       "  </thead>\n",
       "  <tbody>\n",
       "    <tr>\n",
       "      <th>1380</th>\n",
       "      <td>kiea matthews</td>\n",
       "      <td>charlotte</td>\n",
       "      <td>28218</td>\n",
       "      <td>1</td>\n",
       "    </tr>\n",
       "    <tr>\n",
       "      <th>252</th>\n",
       "      <td>kiera matthews</td>\n",
       "      <td>charlotte</td>\n",
       "      <td>28216</td>\n",
       "      <td>1</td>\n",
       "    </tr>\n",
       "    <tr>\n",
       "      <th>0</th>\n",
       "      <td>khimerc thomas</td>\n",
       "      <td>charlotte</td>\n",
       "      <td>2826g</td>\n",
       "      <td>2</td>\n",
       "    </tr>\n",
       "    <tr>\n",
       "      <th>1190</th>\n",
       "      <td>chimerc thomas</td>\n",
       "      <td>charlotte</td>\n",
       "      <td>28269</td>\n",
       "      <td>2</td>\n",
       "    </tr>\n",
       "    <tr>\n",
       "      <th>1302</th>\n",
       "      <td>chimerc thmas</td>\n",
       "      <td>chaflotte</td>\n",
       "      <td>28269</td>\n",
       "      <td>2</td>\n",
       "    </tr>\n",
       "    <tr>\n",
       "      <th>1</th>\n",
       "      <td>lucille richardst</td>\n",
       "      <td>kannapolis</td>\n",
       "      <td>28o81</td>\n",
       "      <td>6</td>\n",
       "    </tr>\n",
       "    <tr>\n",
       "      <th>1194</th>\n",
       "      <td>lucille richards</td>\n",
       "      <td>kannapolis</td>\n",
       "      <td>28081</td>\n",
       "      <td>6</td>\n",
       "    </tr>\n",
       "    <tr>\n",
       "      <th>5</th>\n",
       "      <td>darr6l perry</td>\n",
       "      <td>fayetteville</td>\n",
       "      <td>28321</td>\n",
       "      <td>8</td>\n",
       "    </tr>\n",
       "    <tr>\n",
       "      <th>966</th>\n",
       "      <td>daryl perry</td>\n",
       "      <td>fayetteville</td>\n",
       "      <td>2830l</td>\n",
       "      <td>8</td>\n",
       "    </tr>\n",
       "    <tr>\n",
       "      <th>1449</th>\n",
       "      <td>darryl perry</td>\n",
       "      <td>fayetteville</td>\n",
       "      <td>28301</td>\n",
       "      <td>8</td>\n",
       "    </tr>\n",
       "  </tbody>\n",
       "</table>\n",
       "</div>"
      ],
      "text/plain": [
       "                   name        suburb postcode  deduplication_id\n",
       "1380      kiea matthews     charlotte    28218                 1\n",
       "252      kiera matthews     charlotte    28216                 1\n",
       "0        khimerc thomas     charlotte    2826g                 2\n",
       "1190     chimerc thomas     charlotte    28269                 2\n",
       "1302      chimerc thmas     chaflotte    28269                 2\n",
       "1     lucille richardst    kannapolis    28o81                 6\n",
       "1194   lucille richards    kannapolis    28081                 6\n",
       "5          darr6l perry  fayetteville    28321                 8\n",
       "966         daryl perry  fayetteville    2830l                 8\n",
       "1449       darryl perry  fayetteville    28301                 8"
      ]
     },
     "execution_count": 9,
     "metadata": {},
     "output_type": "execute_result"
    }
   ],
   "source": [
    "res = myDedupliPy.predict(df, score_threshold=0.1)\n",
    "res.sort_values('deduplication_id').head(10)"
   ]
  }
 ],
 "metadata": {
  "kernelspec": {
   "display_name": "Python 3",
   "language": "python",
   "name": "python3"
  },
  "language_info": {
   "codemirror_mode": {
    "name": "ipython",
    "version": 3
   },
   "file_extension": ".py",
   "mimetype": "text/x-python",
   "name": "python",
   "nbconvert_exporter": "python",
   "pygments_lexer": "ipython3",
   "version": "3.8.8"
  }
 },
 "nbformat": 4,
 "nbformat_minor": 4
}
