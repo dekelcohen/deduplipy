{
 "cells": [
  {
   "cell_type": "markdown",
   "metadata": {},
   "source": [
    "# DedupliPy"
   ]
  },
  {
   "cell_type": "markdown",
   "metadata": {},
   "source": [
    "## Advanced deduplication"
   ]
  },
  {
   "cell_type": "markdown",
   "metadata": {},
   "source": [
    "Load your data. In this example we take a sample dataset that comes with DedupliPy:"
   ]
  },
  {
   "cell_type": "code",
   "execution_count": 1,
   "metadata": {},
   "outputs": [],
   "source": [
    "# %load_ext autoreload\n",
    "# %autoreload 2\n"
   ]
  },
  {
   "cell_type": "code",
   "execution_count": 2,
   "metadata": {},
   "outputs": [],
   "source": [
    "from deduplipy.datasets import load_data"
   ]
  },
  {
   "cell_type": "code",
   "execution_count": 3,
   "metadata": {},
   "outputs": [
    {
     "name": "stdout",
     "output_type": "stream",
     "text": [
      "Column names: 'name', 'suburb', 'postcode'\n"
     ]
    }
   ],
   "source": [
    "df = load_data(kind='voters')"
   ]
  },
  {
   "cell_type": "code",
   "execution_count": 4,
   "metadata": {},
   "outputs": [
    {
     "data": {
      "text/html": [
       "<div>\n",
       "<style scoped>\n",
       "    .dataframe tbody tr th:only-of-type {\n",
       "        vertical-align: middle;\n",
       "    }\n",
       "\n",
       "    .dataframe tbody tr th {\n",
       "        vertical-align: top;\n",
       "    }\n",
       "\n",
       "    .dataframe thead th {\n",
       "        text-align: right;\n",
       "    }\n",
       "</style>\n",
       "<table border=\"1\" class=\"dataframe\">\n",
       "  <thead>\n",
       "    <tr style=\"text-align: right;\">\n",
       "      <th></th>\n",
       "      <th>name</th>\n",
       "      <th>suburb</th>\n",
       "      <th>postcode</th>\n",
       "    </tr>\n",
       "  </thead>\n",
       "  <tbody>\n",
       "    <tr>\n",
       "      <th>0</th>\n",
       "      <td>khimerc thomas</td>\n",
       "      <td>charlotte</td>\n",
       "      <td>2826g</td>\n",
       "    </tr>\n",
       "    <tr>\n",
       "      <th>1</th>\n",
       "      <td>lucille richardst</td>\n",
       "      <td>kannapolis</td>\n",
       "      <td>28o81</td>\n",
       "    </tr>\n",
       "  </tbody>\n",
       "</table>\n",
       "</div>"
      ],
      "text/plain": [
       "                name      suburb postcode\n",
       "0     khimerc thomas   charlotte    2826g\n",
       "1  lucille richardst  kannapolis    28o81"
      ]
     },
     "execution_count": 4,
     "metadata": {},
     "output_type": "execute_result"
    }
   ],
   "source": [
    "df.head(2)"
   ]
  },
  {
   "cell_type": "markdown",
   "metadata": {},
   "source": [
    "Create a `Deduplicator` instance and provide advanced settings"
   ]
  },
  {
   "cell_type": "markdown",
   "metadata": {},
   "source": [
    "- The similarity metrics per field are entered in a dict. Similarity metric can be any function that takes two strings and output a number."
   ]
  },
  {
   "cell_type": "code",
   "execution_count": 5,
   "metadata": {},
   "outputs": [],
   "source": [
    "from deduplipy.deduplicator import Deduplicator\n",
    "from fuzzywuzzy.fuzz import ratio, partial_ratio, token_set_ratio, token_sort_ratio"
   ]
  },
  {
   "cell_type": "code",
   "execution_count": 6,
   "metadata": {},
   "outputs": [],
   "source": [
    "field_info = {'name':[ratio, partial_ratio], 'suburb':[token_set_ratio, token_sort_ratio], 'postcode':[ratio]}"
   ]
  },
  {
   "cell_type": "markdown",
   "metadata": {},
   "source": [
    "- We choose our own set of rules for blocking which we define ourselves. We only apply this rule to the 'name' column"
   ]
  },
  {
   "cell_type": "code",
   "execution_count": 7,
   "metadata": {},
   "outputs": [],
   "source": [
    "def first_two_characters(x):\n",
    "    return x[:2]"
   ]
  },
  {
   "cell_type": "markdown",
   "metadata": {},
   "source": [
    "- `interaction=True` makes the classifier include interaction features, e.g. `ratio('name') * token_set_ratio('suburb')`. When interaction features are included, the logistic regression classifier applies a L1 regularisation to prevent overfitting.\n",
    "- We set `verbose=1` to get information on the progress and a distribution of scores"
   ]
  },
  {
   "cell_type": "code",
   "execution_count": 8,
   "metadata": {},
   "outputs": [],
   "source": [
    "myDedupliPy = Deduplicator(field_info=field_info, interaction=True, rules={'name': [first_two_characters]}, verbose=1)"
   ]
  },
  {
   "cell_type": "markdown",
   "metadata": {},
   "source": [
    "Fit the `Deduplicator` by active learning; enter whether a pair is a match (y) or not (n). When the training is converged, you will be notified and you can finish training by entering 'f'."
   ]
  },
  {
   "cell_type": "code",
   "execution_count": 9,
   "metadata": {
    "scrolled": true,
    "tags": []
   },
   "outputs": [
    {
     "name": "stdout",
     "output_type": "stream",
     "text": [
      "\n",
      "Nr. 1 (0+/0-) \n",
      "Is this a match? (y)es, (n)o, (p)revious, (s)kip, (f)inish\n",
      "-> name_1        kimmerly walden\n",
      "suburb_1      high pint      \n",
      "postcode_1    27760          \n",
      "-> name_2        kimmerly walden\n",
      "suburb_2      high pint      \n",
      "postcode_2    27760          \n"
     ]
    },
    {
     "name": "stdin",
     "output_type": "stream",
     "text": [
      " y\n"
     ]
    },
    {
     "name": "stdout",
     "output_type": "stream",
     "text": [
      "\n",
      "Nr. 2 (1+/0-) \n",
      "Is this a match? (y)es, (n)o, (p)revious, (s)kip, (f)inish\n",
      "-> name_1        kimmerly walden\n",
      "suburb_1      high pint      \n",
      "postcode_1    27760          \n",
      "-> name_2        terry dillom\n",
      "suburb_2      kernersville\n",
      "postcode_2    17284       \n"
     ]
    },
    {
     "name": "stdin",
     "output_type": "stream",
     "text": [
      " n\n"
     ]
    },
    {
     "name": "stdout",
     "output_type": "stream",
     "text": [
      "\n",
      "Nr. 3 (1+/1-) \n",
      "Is this a match? (y)es, (n)o, (p)revious, (s)kip, (f)inish\n",
      "-> name_1        yoshida stokes\n",
      "suburb_1      greenville    \n",
      "postcode_1    27834         \n",
      "-> name_2        juah ramoa  \n",
      "suburb_2      fayetteville\n",
      "postcode_2    28314       \n"
     ]
    },
    {
     "name": "stdin",
     "output_type": "stream",
     "text": [
      " n\n"
     ]
    },
    {
     "name": "stdout",
     "output_type": "stream",
     "text": [
      "\n",
      "Nr. 4 (1+/2-) \n",
      "Is this a match? (y)es, (n)o, (p)revious, (s)kip, (f)inish\n",
      "-> name_1        michael jones\n",
      "suburb_1      fayetteville \n",
      "postcode_1    28306        \n",
      "-> name_2        bradlev james\n",
      "suburb_2      fayettville  \n",
      "postcode_2    28312        \n"
     ]
    },
    {
     "name": "stdin",
     "output_type": "stream",
     "text": [
      " n\n"
     ]
    },
    {
     "name": "stdout",
     "output_type": "stream",
     "text": [
      "\n",
      "Nr. 5 (1+/3-) \n",
      "Is this a match? (y)es, (n)o, (p)revious, (s)kip, (f)inish\n",
      "-> name_1        leigh younce\n",
      "suburb_1      greenville  \n",
      "postcode_1    27858       \n",
      "-> name_2        terwsa jones\n",
      "suburb_2      spring hope \n",
      "postcode_2    2788z       \n"
     ]
    },
    {
     "name": "stdin",
     "output_type": "stream",
     "text": [
      " n\n"
     ]
    },
    {
     "name": "stdout",
     "output_type": "stream",
     "text": [
      "\n",
      "Nr. 6 (1+/4-) \n",
      "Is this a match? (y)es, (n)o, (p)revious, (s)kip, (f)inish\n",
      "-> name_1        chad williams\n",
      "suburb_1      charlotte    \n",
      "postcode_1    28277        \n",
      "-> name_2        craig williams\n",
      "suburb_2      winston-salem \n",
      "postcode_2    27127         \n"
     ]
    },
    {
     "name": "stdin",
     "output_type": "stream",
     "text": [
      " n\n"
     ]
    },
    {
     "name": "stdout",
     "output_type": "stream",
     "text": [
      "\n",
      "Nr. 7 (1+/5-) \n",
      "Is this a match? (y)es, (n)o, (p)revious, (s)kip, (f)inish\n",
      "-> name_1        emily davidson\n",
      "suburb_1      concord       \n",
      "postcode_1    28025         \n",
      "-> name_2        emioy davidson\n",
      "suburb_2      concotd       \n",
      "postcode_2    28025         \n"
     ]
    },
    {
     "name": "stdin",
     "output_type": "stream",
     "text": [
      " y\n"
     ]
    },
    {
     "name": "stdout",
     "output_type": "stream",
     "text": [
      "\n",
      "Nr. 8 (2+/5-) \n",
      "Is this a match? (y)es, (n)o, (p)revious, (s)kip, (f)inish\n",
      "-> name_1        terry dillom\n",
      "suburb_1      kernersville\n",
      "postcode_1    17284       \n",
      "-> name_2        terry dillom\n",
      "suburb_2      kernersville\n",
      "postcode_2    17284       \n"
     ]
    },
    {
     "name": "stdin",
     "output_type": "stream",
     "text": [
      " y\n"
     ]
    },
    {
     "name": "stdout",
     "output_type": "stream",
     "text": [
      "\n",
      "Nr. 9 (3+/5-) \n",
      "Is this a match? (y)es, (n)o, (p)revious, (s)kip, (f)inish\n",
      "-> name_1        cbad mozby \n",
      "suburb_1      chapel hill\n",
      "postcode_1    27514      \n",
      "-> name_2        cbad mozby \n",
      "suburb_2      chapel hill\n",
      "postcode_2    27514      \n"
     ]
    },
    {
     "name": "stdin",
     "output_type": "stream",
     "text": [
      " y\n"
     ]
    },
    {
     "name": "stdout",
     "output_type": "stream",
     "text": [
      "\n",
      "Nr. 10 (4+/5-) \n",
      "Is this a match? (y)es, (n)o, (p)revious, (s)kip, (f)inish\n",
      "-> name_1        john sakuon\n",
      "suburb_1      raleigh    \n",
      "postcode_1    27668      \n",
      "-> name_2        john sakuon\n",
      "suburb_2      raleigh    \n",
      "postcode_2    27668      \n"
     ]
    },
    {
     "name": "stdin",
     "output_type": "stream",
     "text": [
      " y\n"
     ]
    },
    {
     "name": "stdout",
     "output_type": "stream",
     "text": [
      "\n",
      "Nr. 11 (5+/5-) \n",
      "Is this a match? (y)es, (n)o, (p)revious, (s)kip, (f)inish\n",
      "-> name_1        jennifer hannen\n",
      "suburb_1      greensboro     \n",
      "postcode_1    27405          \n",
      "-> name_2        jennifer bentz\n",
      "suburb_2      greensboro    \n",
      "postcode_2    27407         \n"
     ]
    },
    {
     "name": "stdin",
     "output_type": "stream",
     "text": [
      " n\n"
     ]
    },
    {
     "name": "stdout",
     "output_type": "stream",
     "text": [
      "\n",
      "Nr. 12 (5+/6-) \n",
      "Is this a match? (y)es, (n)o, (p)revious, (s)kip, (f)inish\n",
      "-> name_1        jason shown\n",
      "suburb_1      greensboro \n",
      "postcode_1    27407      \n",
      "-> name_2        dustin snowden\n",
      "suburb_2      greensboro    \n",
      "postcode_2    27406         \n"
     ]
    },
    {
     "name": "stdin",
     "output_type": "stream",
     "text": [
      " n\n"
     ]
    },
    {
     "name": "stdout",
     "output_type": "stream",
     "text": [
      "\n",
      "Nr. 13 (5+/7-) \n",
      "Is this a match? (y)es, (n)o, (p)revious, (s)kip, (f)inish\n",
      "-> name_1        susan tobin  \n",
      "suburb_1      winston salem\n",
      "postcode_1    27106        \n",
      "-> name_2        quentin davis\n",
      "suburb_2      winston salem\n",
      "postcode_2    27106        \n"
     ]
    },
    {
     "name": "stdin",
     "output_type": "stream",
     "text": [
      " n\n"
     ]
    },
    {
     "name": "stdout",
     "output_type": "stream",
     "text": [
      "\n",
      "Nr. 14 (5+/8-) \n",
      "Is this a match? (y)es, (n)o, (p)revious, (s)kip, (f)inish\n",
      "-> name_1        elas5er handy\n",
      "suburb_1      lumberton    \n",
      "postcode_1    28398        \n",
      "-> name_2        elas5er handy\n",
      "suburb_2      lumberton    \n",
      "postcode_2    28398        \n"
     ]
    },
    {
     "name": "stdin",
     "output_type": "stream",
     "text": [
      " y\n"
     ]
    },
    {
     "name": "stdout",
     "output_type": "stream",
     "text": [
      "\n",
      "Nr. 15 (6+/8-) \n",
      "Is this a match? (y)es, (n)o, (p)revious, (s)kip, (f)inish\n",
      "-> name_1        darren aldndge\n",
      "suburb_1      monro         \n",
      "postcode_1    28110         \n",
      "-> name_2        karen nering\n",
      "suburb_2      wiliiiington\n",
      "postcode_2    28411       \n"
     ]
    },
    {
     "name": "stdin",
     "output_type": "stream",
     "text": [
      " n\n"
     ]
    },
    {
     "name": "stdout",
     "output_type": "stream",
     "text": [
      "\n",
      "Nr. 16 (6+/9-) \n",
      "Is this a match? (y)es, (n)o, (p)revious, (s)kip, (f)inish\n",
      "-> name_1        kimmerly walden\n",
      "suburb_1      high pint      \n",
      "postcode_1    27760          \n",
      "-> name_2        cbad mozby \n",
      "suburb_2      chapel hill\n",
      "postcode_2    27514      \n"
     ]
    },
    {
     "name": "stdin",
     "output_type": "stream",
     "text": [
      " n\n"
     ]
    },
    {
     "name": "stdout",
     "output_type": "stream",
     "text": [
      "\n",
      "Nr. 17 (6+/10-) \n",
      "Is this a match? (y)es, (n)o, (p)revious, (s)kip, (f)inish\n",
      "-> name_1        chad williams\n",
      "suburb_1      charlotte    \n",
      "postcode_1    28277        \n",
      "-> name_2        wilkiam glass\n",
      "suburb_2      charlote     \n",
      "postcode_2    28278        \n"
     ]
    },
    {
     "name": "stdin",
     "output_type": "stream",
     "text": [
      " n\n"
     ]
    },
    {
     "name": "stdout",
     "output_type": "stream",
     "text": [
      "\n",
      "Nr. 18 (6+/11-) \n",
      "Is this a match? (y)es, (n)o, (p)revious, (s)kip, (f)inish\n",
      "-> name_1        clyde alberg\n",
      "suburb_1      clemmgns    \n",
      "postcode_1    270|2       \n",
      "-> name_2        clyde alberg\n",
      "suburb_2      clemmgns    \n",
      "postcode_2    270|2       \n"
     ]
    },
    {
     "name": "stdin",
     "output_type": "stream",
     "text": [
      " y\n"
     ]
    },
    {
     "name": "stdout",
     "output_type": "stream",
     "text": [
      "\n",
      "Nr. 19 (7+/11-) \n",
      "Is this a match? (y)es, (n)o, (p)revious, (s)kip, (f)inish\n",
      "-> name_1        kimmerly walden\n",
      "suburb_1      high pint      \n",
      "postcode_1    27760          \n",
      "-> name_2        john sakuon\n",
      "suburb_2      raleigh    \n",
      "postcode_2    27668      \n"
     ]
    },
    {
     "name": "stdin",
     "output_type": "stream",
     "text": [
      " n\n"
     ]
    },
    {
     "name": "stdout",
     "output_type": "stream",
     "text": [
      "\n",
      "Nr. 20 (7+/12-) \n",
      "Is this a match? (y)es, (n)o, (p)revious, (s)kip, (f)inish\n",
      "-> name_1        peggy huffman\n",
      "suburb_1      hickory      \n",
      "postcode_1    28601        \n",
      "-> name_2        peggy huffman\n",
      "suburb_2      hickory      \n",
      "postcode_2    28601        \n"
     ]
    },
    {
     "name": "stdin",
     "output_type": "stream",
     "text": [
      " \n"
     ]
    },
    {
     "name": "stdout",
     "output_type": "stream",
     "text": [
      "Wrong input!\n"
     ]
    },
    {
     "name": "stdin",
     "output_type": "stream",
     "text": [
      " f\n"
     ]
    },
    {
     "name": "stdout",
     "output_type": "stream",
     "text": [
      " score  count\n",
      "  0.05      0\n",
      "  0.10      0\n",
      "  0.15   4937\n",
      "  0.20      0\n",
      "  0.25      0\n",
      "  0.30      0\n",
      "  0.35      0\n",
      "  0.40      0\n",
      "  0.45      0\n",
      "  0.50      0\n",
      "  0.55      0\n",
      "  0.60      0\n",
      "  0.65      0\n",
      "  0.70      0\n",
      "  0.75      0\n",
      "  0.80      0\n",
      "  0.85      0\n",
      "  0.90     94\n",
      "  0.95      0\n",
      "  1.00      0\n",
      "active learning finished\n",
      "recall threshold reached, recall = 1.0\n",
      "blocking rules found\n",
      "['name first_two_characters']\n"
     ]
    },
    {
     "data": {
      "text/plain": [
       "Deduplicator\n",
       "  - col_names = ['name', 'suburb', 'postcode']\n",
       "  - field_info = {'name': ['ratio', 'partial_ratio'], 'suburb': ['token_set_ratio', 'token_sort_ratio'], 'postcode': ['ratio']}\n",
       "  - interaction = True\n",
       "  - rules_info = {'name': ['first_two_characters']}\n",
       "  - recall = 1.0"
      ]
     },
     "execution_count": 9,
     "metadata": {},
     "output_type": "execute_result"
    }
   ],
   "source": [
    "myDedupliPy.fit(df)"
   ]
  },
  {
   "cell_type": "markdown",
   "metadata": {},
   "source": [
    "Based on the histogram of scores, we decide to ignore all pairs with a similarity probability lower than 0.1 when predicting:"
   ]
  },
  {
   "cell_type": "markdown",
   "metadata": {},
   "source": [
    "Apply the trained `Deduplicator` on (new) data. The column `deduplication_id` is the identifier for a cluster. Rows with the same `deduplication_id` are found to be the same real world entity."
   ]
  },
  {
   "cell_type": "code",
   "execution_count": 10,
   "metadata": {},
   "outputs": [
    {
     "name": "stdout",
     "output_type": "stream",
     "text": [
      "blocking started\n",
      "blocking finished\n",
      "Nr of pairs: 27350\n",
      "scoring started\n",
      "scoring finished\n",
      "Nr of filtered pairs: 27350\n",
      "Clustering started\n",
      "Clustering finished\n"
     ]
    },
    {
     "data": {
      "text/html": [
       "<div>\n",
       "<style scoped>\n",
       "    .dataframe tbody tr th:only-of-type {\n",
       "        vertical-align: middle;\n",
       "    }\n",
       "\n",
       "    .dataframe tbody tr th {\n",
       "        vertical-align: top;\n",
       "    }\n",
       "\n",
       "    .dataframe thead th {\n",
       "        text-align: right;\n",
       "    }\n",
       "</style>\n",
       "<table border=\"1\" class=\"dataframe\">\n",
       "  <thead>\n",
       "    <tr style=\"text-align: right;\">\n",
       "      <th></th>\n",
       "      <th>name</th>\n",
       "      <th>suburb</th>\n",
       "      <th>postcode</th>\n",
       "      <th>deduplication_id</th>\n",
       "    </tr>\n",
       "  </thead>\n",
       "  <tbody>\n",
       "    <tr>\n",
       "      <th>995</th>\n",
       "      <td>lutta baldwin</td>\n",
       "      <td>whitevill</td>\n",
       "      <td>28475</td>\n",
       "      <td>1</td>\n",
       "    </tr>\n",
       "    <tr>\n",
       "      <th>604</th>\n",
       "      <td>lutta baldwin</td>\n",
       "      <td>whiteville</td>\n",
       "      <td>28472</td>\n",
       "      <td>1</td>\n",
       "    </tr>\n",
       "    <tr>\n",
       "      <th>1</th>\n",
       "      <td>lucille richardst</td>\n",
       "      <td>kannapolis</td>\n",
       "      <td>28o81</td>\n",
       "      <td>2</td>\n",
       "    </tr>\n",
       "    <tr>\n",
       "      <th>1194</th>\n",
       "      <td>lucille richards</td>\n",
       "      <td>kannapolis</td>\n",
       "      <td>28081</td>\n",
       "      <td>2</td>\n",
       "    </tr>\n",
       "    <tr>\n",
       "      <th>1595</th>\n",
       "      <td>rehee emmons</td>\n",
       "      <td>salishury</td>\n",
       "      <td>28146</td>\n",
       "      <td>5</td>\n",
       "    </tr>\n",
       "    <tr>\n",
       "      <th>891</th>\n",
       "      <td>renee emmons</td>\n",
       "      <td>salisbury</td>\n",
       "      <td>28146</td>\n",
       "      <td>5</td>\n",
       "    </tr>\n",
       "    <tr>\n",
       "      <th>2</th>\n",
       "      <td>reb3cca bauerboand</td>\n",
       "      <td>raleigh</td>\n",
       "      <td>27615</td>\n",
       "      <td>6</td>\n",
       "    </tr>\n",
       "    <tr>\n",
       "      <th>1134</th>\n",
       "      <td>rebecca bauerband</td>\n",
       "      <td>raleigh</td>\n",
       "      <td>27615</td>\n",
       "      <td>6</td>\n",
       "    </tr>\n",
       "    <tr>\n",
       "      <th>675</th>\n",
       "      <td>rebeccah shelton</td>\n",
       "      <td>whittier</td>\n",
       "      <td>28789</td>\n",
       "      <td>7</td>\n",
       "    </tr>\n",
       "    <tr>\n",
       "      <th>1535</th>\n",
       "      <td>rebecvah shelton</td>\n",
       "      <td>whittier</td>\n",
       "      <td>2878g</td>\n",
       "      <td>7</td>\n",
       "    </tr>\n",
       "  </tbody>\n",
       "</table>\n",
       "</div>"
      ],
      "text/plain": [
       "                    name      suburb postcode  deduplication_id\n",
       "995        lutta baldwin   whitevill    28475                 1\n",
       "604        lutta baldwin  whiteville    28472                 1\n",
       "1      lucille richardst  kannapolis    28o81                 2\n",
       "1194    lucille richards  kannapolis    28081                 2\n",
       "1595        rehee emmons   salishury    28146                 5\n",
       "891         renee emmons   salisbury    28146                 5\n",
       "2     reb3cca bauerboand     raleigh    27615                 6\n",
       "1134   rebecca bauerband     raleigh    27615                 6\n",
       "675     rebeccah shelton    whittier    28789                 7\n",
       "1535    rebecvah shelton    whittier    2878g                 7"
      ]
     },
     "execution_count": 10,
     "metadata": {},
     "output_type": "execute_result"
    }
   ],
   "source": [
    "res = myDedupliPy.predict(df, score_threshold=0.1)\n",
    "res.sort_values('deduplication_id').head(10)"
   ]
  },
  {
   "cell_type": "code",
   "execution_count": 11,
   "metadata": {},
   "outputs": [
    {
     "data": {
      "text/plain": [
       "[array([[-0.00050127, -0.25572953,  0.00050729, -0.00049916],\n",
       "        [ 0.00049993, -0.36192012,  0.00051298,  0.00049658],\n",
       "        [ 0.0005007 , -0.01182869, -0.00049452, -0.00050586],\n",
       "        [ 0.00049866, -0.01184364, -0.00049713, -0.00050379],\n",
       "        [-0.00049841, -0.24231392, -0.00048792, -0.00050321]],\n",
       "       dtype=float32),\n",
       " array([-0.05491118,  0.9702366 , -0.0034916 , -0.00187172], dtype=float32),\n",
       " array([[ 0.00049796, -0.00050284],\n",
       "        [-0.48095465, -0.37345102],\n",
       "        [ 0.00048311, -0.00050611],\n",
       "        [ 0.00048927, -0.00049002]], dtype=float32),\n",
       " array([0.589673  , 0.45859084], dtype=float32),\n",
       " array([[3.6666062],\n",
       "        [3.2822022]], dtype=float32),\n",
       " array([-1.8524615], dtype=float32)]"
      ]
     },
     "execution_count": 11,
     "metadata": {},
     "output_type": "execute_result"
    }
   ],
   "source": [
    "myDedupliPy.myActiveLearner.learner.estimator.classifier.steps[1][1].model.get_weights()"
   ]
  },
  {
   "cell_type": "code",
   "execution_count": null,
   "metadata": {},
   "outputs": [],
   "source": []
  },
  {
   "cell_type": "code",
   "execution_count": null,
   "metadata": {},
   "outputs": [],
   "source": []
  },
  {
   "cell_type": "code",
   "execution_count": null,
   "metadata": {},
   "outputs": [],
   "source": []
  },
  {
   "cell_type": "code",
   "execution_count": null,
   "metadata": {},
   "outputs": [],
   "source": []
  }
 ],
 "metadata": {
  "kernelspec": {
   "display_name": "Python 3",
   "language": "python",
   "name": "python3"
  },
  "language_info": {
   "codemirror_mode": {
    "name": "ipython",
    "version": 3
   },
   "file_extension": ".py",
   "mimetype": "text/x-python",
   "name": "python",
   "nbconvert_exporter": "python",
   "pygments_lexer": "ipython3",
   "version": "3.8.8"
  }
 },
 "nbformat": 4,
 "nbformat_minor": 4
}
